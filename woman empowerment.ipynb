{
 "cells": [
  {
   "cell_type": "markdown",
   "metadata": {
    "id": "PBxuDQ4DKddt"
   },
   "source": [
    "# Basic RAG Flow"
   ]
  },
  {
   "cell_type": "code",
   "execution_count": 3,
   "metadata": {
    "colab": {
     "base_uri": "https://localhost:8080/"
    },
    "id": "9lGCTvc8S7tE",
    "outputId": "d7ff6960-58e0-48e7-9e29-70197bd1b86d"
   },
   "outputs": [
    {
     "name": "stdout",
     "output_type": "stream",
     "text": [
      "\u001b[2K     \u001b[90m━━━━━━━━━━━━━━━━━━━━━━━━━━━━━━━━━━━━━━━━\u001b[0m \u001b[32m50.4/50.4 kB\u001b[0m \u001b[31m4.1 MB/s\u001b[0m eta \u001b[36m0:00:00\u001b[0m\n",
      "\u001b[2K   \u001b[90m━━━━━━━━━━━━━━━━━━━━━━━━━━━━━━━━━━━━━━━━\u001b[0m \u001b[32m1.0/1.0 MB\u001b[0m \u001b[31m25.4 MB/s\u001b[0m eta \u001b[36m0:00:00\u001b[0m\n",
      "\u001b[2K   \u001b[90m━━━━━━━━━━━━━━━━━━━━━━━━━━━━━━━━━━━━━━━━\u001b[0m \u001b[32m374.1/374.1 kB\u001b[0m \u001b[31m31.6 MB/s\u001b[0m eta \u001b[36m0:00:00\u001b[0m\n",
      "\u001b[2K   \u001b[90m━━━━━━━━━━━━━━━━━━━━━━━━━━━━━━━━━━━━━━━━\u001b[0m \u001b[32m1.1/1.1 MB\u001b[0m \u001b[31m60.9 MB/s\u001b[0m eta \u001b[36m0:00:00\u001b[0m\n",
      "\u001b[2K   \u001b[90m━━━━━━━━━━━━━━━━━━━━━━━━━━━━━━━━━━━━━━━━\u001b[0m \u001b[32m232.6/232.6 kB\u001b[0m \u001b[31m20.2 MB/s\u001b[0m eta \u001b[36m0:00:00\u001b[0m\n",
      "\u001b[2K   \u001b[90m━━━━━━━━━━━━━━━━━━━━━━━━━━━━━━━━━━━━━━━━\u001b[0m \u001b[32m27.0/27.0 MB\u001b[0m \u001b[31m75.5 MB/s\u001b[0m eta \u001b[36m0:00:00\u001b[0m\n",
      "\u001b[2K   \u001b[90m━━━━━━━━━━━━━━━━━━━━━━━━━━━━━━━━━━━━━━━━\u001b[0m \u001b[32m76.4/76.4 kB\u001b[0m \u001b[31m6.9 MB/s\u001b[0m eta \u001b[36m0:00:00\u001b[0m\n",
      "\u001b[2K   \u001b[90m━━━━━━━━━━━━━━━━━━━━━━━━━━━━━━━━━━━━━━━━\u001b[0m \u001b[32m77.9/77.9 kB\u001b[0m \u001b[31m7.3 MB/s\u001b[0m eta \u001b[36m0:00:00\u001b[0m\n",
      "\u001b[2K   \u001b[90m━━━━━━━━━━━━━━━━━━━━━━━━━━━━━━━━━━━━━━━━\u001b[0m \u001b[32m318.9/318.9 kB\u001b[0m \u001b[31m28.5 MB/s\u001b[0m eta \u001b[36m0:00:00\u001b[0m\n",
      "\u001b[2K   \u001b[90m━━━━━━━━━━━━━━━━━━━━━━━━━━━━━━━━━━━━━━━━\u001b[0m \u001b[32m405.1/405.1 kB\u001b[0m \u001b[31m33.1 MB/s\u001b[0m eta \u001b[36m0:00:00\u001b[0m\n",
      "\u001b[2K   \u001b[90m━━━━━━━━━━━━━━━━━━━━━━━━━━━━━━━━━━━━━━━━\u001b[0m \u001b[32m289.8/289.8 kB\u001b[0m \u001b[31m25.1 MB/s\u001b[0m eta \u001b[36m0:00:00\u001b[0m\n",
      "\u001b[2K   \u001b[90m━━━━━━━━━━━━━━━━━━━━━━━━━━━━━━━━━━━━━━━━\u001b[0m \u001b[32m141.9/141.9 kB\u001b[0m \u001b[31m11.3 MB/s\u001b[0m eta \u001b[36m0:00:00\u001b[0m\n",
      "\u001b[2K   \u001b[90m━━━━━━━━━━━━━━━━━━━━━━━━━━━━━━━━━━━━━━━━\u001b[0m \u001b[32m58.3/58.3 kB\u001b[0m \u001b[31m5.4 MB/s\u001b[0m eta \u001b[36m0:00:00\u001b[0m\n",
      "\u001b[?25h"
     ]
    }
   ],
   "source": [
    "!pip -q install langchain openai tiktoken PyPDF2 faiss-cpu"
   ]
  },
  {
   "cell_type": "code",
   "execution_count": 4,
   "metadata": {
    "colab": {
     "base_uri": "https://localhost:8080/"
    },
    "id": "KIjxALFMDeHi",
    "outputId": "042ea86e-0f2e-4bb0-f066-b49242154ba3"
   },
   "outputs": [
    {
     "name": "stdout",
     "output_type": "stream",
     "text": [
      "Collecting langchain_openai\n",
      "  Downloading langchain_openai-0.2.0-py3-none-any.whl.metadata (2.6 kB)\n",
      "Requirement already satisfied: langchain-core<0.4,>=0.3 in /usr/local/lib/python3.10/dist-packages (from langchain_openai) (0.3.0)\n",
      "Requirement already satisfied: openai<2.0.0,>=1.40.0 in /usr/local/lib/python3.10/dist-packages (from langchain_openai) (1.45.0)\n",
      "Requirement already satisfied: tiktoken<1,>=0.7 in /usr/local/lib/python3.10/dist-packages (from langchain_openai) (0.7.0)\n",
      "Requirement already satisfied: PyYAML>=5.3 in /usr/local/lib/python3.10/dist-packages (from langchain-core<0.4,>=0.3->langchain_openai) (6.0.2)\n",
      "Requirement already satisfied: jsonpatch<2.0,>=1.33 in /usr/local/lib/python3.10/dist-packages (from langchain-core<0.4,>=0.3->langchain_openai) (1.33)\n",
      "Requirement already satisfied: langsmith<0.2.0,>=0.1.117 in /usr/local/lib/python3.10/dist-packages (from langchain-core<0.4,>=0.3->langchain_openai) (0.1.120)\n",
      "Requirement already satisfied: packaging<25,>=23.2 in /usr/local/lib/python3.10/dist-packages (from langchain-core<0.4,>=0.3->langchain_openai) (24.1)\n",
      "Requirement already satisfied: pydantic<3.0.0,>=2.5.2 in /usr/local/lib/python3.10/dist-packages (from langchain-core<0.4,>=0.3->langchain_openai) (2.9.1)\n",
      "Requirement already satisfied: tenacity!=8.4.0,<9.0.0,>=8.1.0 in /usr/local/lib/python3.10/dist-packages (from langchain-core<0.4,>=0.3->langchain_openai) (8.5.0)\n",
      "Requirement already satisfied: typing-extensions>=4.7 in /usr/local/lib/python3.10/dist-packages (from langchain-core<0.4,>=0.3->langchain_openai) (4.12.2)\n",
      "Requirement already satisfied: anyio<5,>=3.5.0 in /usr/local/lib/python3.10/dist-packages (from openai<2.0.0,>=1.40.0->langchain_openai) (3.7.1)\n",
      "Requirement already satisfied: distro<2,>=1.7.0 in /usr/lib/python3/dist-packages (from openai<2.0.0,>=1.40.0->langchain_openai) (1.7.0)\n",
      "Requirement already satisfied: httpx<1,>=0.23.0 in /usr/local/lib/python3.10/dist-packages (from openai<2.0.0,>=1.40.0->langchain_openai) (0.27.2)\n",
      "Requirement already satisfied: jiter<1,>=0.4.0 in /usr/local/lib/python3.10/dist-packages (from openai<2.0.0,>=1.40.0->langchain_openai) (0.5.0)\n",
      "Requirement already satisfied: sniffio in /usr/local/lib/python3.10/dist-packages (from openai<2.0.0,>=1.40.0->langchain_openai) (1.3.1)\n",
      "Requirement already satisfied: tqdm>4 in /usr/local/lib/python3.10/dist-packages (from openai<2.0.0,>=1.40.0->langchain_openai) (4.66.5)\n",
      "Requirement already satisfied: regex>=2022.1.18 in /usr/local/lib/python3.10/dist-packages (from tiktoken<1,>=0.7->langchain_openai) (2024.5.15)\n",
      "Requirement already satisfied: requests>=2.26.0 in /usr/local/lib/python3.10/dist-packages (from tiktoken<1,>=0.7->langchain_openai) (2.32.3)\n",
      "Requirement already satisfied: idna>=2.8 in /usr/local/lib/python3.10/dist-packages (from anyio<5,>=3.5.0->openai<2.0.0,>=1.40.0->langchain_openai) (3.8)\n",
      "Requirement already satisfied: exceptiongroup in /usr/local/lib/python3.10/dist-packages (from anyio<5,>=3.5.0->openai<2.0.0,>=1.40.0->langchain_openai) (1.2.2)\n",
      "Requirement already satisfied: certifi in /usr/local/lib/python3.10/dist-packages (from httpx<1,>=0.23.0->openai<2.0.0,>=1.40.0->langchain_openai) (2024.8.30)\n",
      "Requirement already satisfied: httpcore==1.* in /usr/local/lib/python3.10/dist-packages (from httpx<1,>=0.23.0->openai<2.0.0,>=1.40.0->langchain_openai) (1.0.5)\n",
      "Requirement already satisfied: h11<0.15,>=0.13 in /usr/local/lib/python3.10/dist-packages (from httpcore==1.*->httpx<1,>=0.23.0->openai<2.0.0,>=1.40.0->langchain_openai) (0.14.0)\n",
      "Requirement already satisfied: jsonpointer>=1.9 in /usr/local/lib/python3.10/dist-packages (from jsonpatch<2.0,>=1.33->langchain-core<0.4,>=0.3->langchain_openai) (3.0.0)\n",
      "Requirement already satisfied: orjson<4.0.0,>=3.9.14 in /usr/local/lib/python3.10/dist-packages (from langsmith<0.2.0,>=0.1.117->langchain-core<0.4,>=0.3->langchain_openai) (3.10.7)\n",
      "Requirement already satisfied: annotated-types>=0.6.0 in /usr/local/lib/python3.10/dist-packages (from pydantic<3.0.0,>=2.5.2->langchain-core<0.4,>=0.3->langchain_openai) (0.7.0)\n",
      "Requirement already satisfied: pydantic-core==2.23.3 in /usr/local/lib/python3.10/dist-packages (from pydantic<3.0.0,>=2.5.2->langchain-core<0.4,>=0.3->langchain_openai) (2.23.3)\n",
      "Requirement already satisfied: charset-normalizer<4,>=2 in /usr/local/lib/python3.10/dist-packages (from requests>=2.26.0->tiktoken<1,>=0.7->langchain_openai) (3.3.2)\n",
      "Requirement already satisfied: urllib3<3,>=1.21.1 in /usr/local/lib/python3.10/dist-packages (from requests>=2.26.0->tiktoken<1,>=0.7->langchain_openai) (2.0.7)\n",
      "Downloading langchain_openai-0.2.0-py3-none-any.whl (51 kB)\n",
      "\u001b[?25l   \u001b[90m━━━━━━━━━━━━━━━━━━━━━━━━━━━━━━━━━━━━━━━━\u001b[0m \u001b[32m0.0/51.5 kB\u001b[0m \u001b[31m?\u001b[0m eta \u001b[36m-:--:--\u001b[0m\r",
      "\u001b[2K   \u001b[90m━━━━━━━━━━━━━━━━━━━━━━━━━━━━━━━━━━━━━━━━\u001b[0m \u001b[32m51.5/51.5 kB\u001b[0m \u001b[31m3.8 MB/s\u001b[0m eta \u001b[36m0:00:00\u001b[0m\n",
      "\u001b[?25hInstalling collected packages: langchain_openai\n",
      "Successfully installed langchain_openai-0.2.0\n"
     ]
    }
   ],
   "source": [
    "\n",
    "!pip install langchain_openai"
   ]
  },
  {
   "cell_type": "code",
   "execution_count": 5,
   "metadata": {
    "colab": {
     "base_uri": "https://localhost:8080/"
    },
    "id": "pAVx9tS6HxXs",
    "outputId": "7dbd476b-48f9-4a6a-92dc-f30b5b91840e"
   },
   "outputs": [
    {
     "name": "stdout",
     "output_type": "stream",
     "text": [
      "Collecting langchain-community\n",
      "  Downloading langchain_community-0.3.0-py3-none-any.whl.metadata (2.8 kB)\n",
      "Requirement already satisfied: PyYAML>=5.3 in /usr/local/lib/python3.10/dist-packages (from langchain-community) (6.0.2)\n",
      "Requirement already satisfied: SQLAlchemy<3,>=1.4 in /usr/local/lib/python3.10/dist-packages (from langchain-community) (2.0.34)\n",
      "Requirement already satisfied: aiohttp<4.0.0,>=3.8.3 in /usr/local/lib/python3.10/dist-packages (from langchain-community) (3.10.5)\n",
      "Collecting dataclasses-json<0.7,>=0.5.7 (from langchain-community)\n",
      "  Downloading dataclasses_json-0.6.7-py3-none-any.whl.metadata (25 kB)\n",
      "Requirement already satisfied: langchain<0.4.0,>=0.3.0 in /usr/local/lib/python3.10/dist-packages (from langchain-community) (0.3.0)\n",
      "Requirement already satisfied: langchain-core<0.4.0,>=0.3.0 in /usr/local/lib/python3.10/dist-packages (from langchain-community) (0.3.0)\n",
      "Requirement already satisfied: langsmith<0.2.0,>=0.1.112 in /usr/local/lib/python3.10/dist-packages (from langchain-community) (0.1.120)\n",
      "Requirement already satisfied: numpy<2,>=1 in /usr/local/lib/python3.10/dist-packages (from langchain-community) (1.26.4)\n",
      "Collecting pydantic-settings<3.0.0,>=2.4.0 (from langchain-community)\n",
      "  Downloading pydantic_settings-2.5.2-py3-none-any.whl.metadata (3.5 kB)\n",
      "Requirement already satisfied: requests<3,>=2 in /usr/local/lib/python3.10/dist-packages (from langchain-community) (2.32.3)\n",
      "Requirement already satisfied: tenacity!=8.4.0,<9.0.0,>=8.1.0 in /usr/local/lib/python3.10/dist-packages (from langchain-community) (8.5.0)\n",
      "Requirement already satisfied: aiohappyeyeballs>=2.3.0 in /usr/local/lib/python3.10/dist-packages (from aiohttp<4.0.0,>=3.8.3->langchain-community) (2.4.0)\n",
      "Requirement already satisfied: aiosignal>=1.1.2 in /usr/local/lib/python3.10/dist-packages (from aiohttp<4.0.0,>=3.8.3->langchain-community) (1.3.1)\n",
      "Requirement already satisfied: attrs>=17.3.0 in /usr/local/lib/python3.10/dist-packages (from aiohttp<4.0.0,>=3.8.3->langchain-community) (24.2.0)\n",
      "Requirement already satisfied: frozenlist>=1.1.1 in /usr/local/lib/python3.10/dist-packages (from aiohttp<4.0.0,>=3.8.3->langchain-community) (1.4.1)\n",
      "Requirement already satisfied: multidict<7.0,>=4.5 in /usr/local/lib/python3.10/dist-packages (from aiohttp<4.0.0,>=3.8.3->langchain-community) (6.1.0)\n",
      "Requirement already satisfied: yarl<2.0,>=1.0 in /usr/local/lib/python3.10/dist-packages (from aiohttp<4.0.0,>=3.8.3->langchain-community) (1.11.1)\n",
      "Requirement already satisfied: async-timeout<5.0,>=4.0 in /usr/local/lib/python3.10/dist-packages (from aiohttp<4.0.0,>=3.8.3->langchain-community) (4.0.3)\n",
      "Collecting marshmallow<4.0.0,>=3.18.0 (from dataclasses-json<0.7,>=0.5.7->langchain-community)\n",
      "  Downloading marshmallow-3.22.0-py3-none-any.whl.metadata (7.2 kB)\n",
      "Collecting typing-inspect<1,>=0.4.0 (from dataclasses-json<0.7,>=0.5.7->langchain-community)\n",
      "  Downloading typing_inspect-0.9.0-py3-none-any.whl.metadata (1.5 kB)\n",
      "Requirement already satisfied: langchain-text-splitters<0.4.0,>=0.3.0 in /usr/local/lib/python3.10/dist-packages (from langchain<0.4.0,>=0.3.0->langchain-community) (0.3.0)\n",
      "Requirement already satisfied: pydantic<3.0.0,>=2.7.4 in /usr/local/lib/python3.10/dist-packages (from langchain<0.4.0,>=0.3.0->langchain-community) (2.9.1)\n",
      "Requirement already satisfied: jsonpatch<2.0,>=1.33 in /usr/local/lib/python3.10/dist-packages (from langchain-core<0.4.0,>=0.3.0->langchain-community) (1.33)\n",
      "Requirement already satisfied: packaging<25,>=23.2 in /usr/local/lib/python3.10/dist-packages (from langchain-core<0.4.0,>=0.3.0->langchain-community) (24.1)\n",
      "Requirement already satisfied: typing-extensions>=4.7 in /usr/local/lib/python3.10/dist-packages (from langchain-core<0.4.0,>=0.3.0->langchain-community) (4.12.2)\n",
      "Requirement already satisfied: httpx<1,>=0.23.0 in /usr/local/lib/python3.10/dist-packages (from langsmith<0.2.0,>=0.1.112->langchain-community) (0.27.2)\n",
      "Requirement already satisfied: orjson<4.0.0,>=3.9.14 in /usr/local/lib/python3.10/dist-packages (from langsmith<0.2.0,>=0.1.112->langchain-community) (3.10.7)\n",
      "Collecting python-dotenv>=0.21.0 (from pydantic-settings<3.0.0,>=2.4.0->langchain-community)\n",
      "  Downloading python_dotenv-1.0.1-py3-none-any.whl.metadata (23 kB)\n",
      "Requirement already satisfied: charset-normalizer<4,>=2 in /usr/local/lib/python3.10/dist-packages (from requests<3,>=2->langchain-community) (3.3.2)\n",
      "Requirement already satisfied: idna<4,>=2.5 in /usr/local/lib/python3.10/dist-packages (from requests<3,>=2->langchain-community) (3.8)\n",
      "Requirement already satisfied: urllib3<3,>=1.21.1 in /usr/local/lib/python3.10/dist-packages (from requests<3,>=2->langchain-community) (2.0.7)\n",
      "Requirement already satisfied: certifi>=2017.4.17 in /usr/local/lib/python3.10/dist-packages (from requests<3,>=2->langchain-community) (2024.8.30)\n",
      "Requirement already satisfied: greenlet!=0.4.17 in /usr/local/lib/python3.10/dist-packages (from SQLAlchemy<3,>=1.4->langchain-community) (3.1.0)\n",
      "Requirement already satisfied: anyio in /usr/local/lib/python3.10/dist-packages (from httpx<1,>=0.23.0->langsmith<0.2.0,>=0.1.112->langchain-community) (3.7.1)\n",
      "Requirement already satisfied: httpcore==1.* in /usr/local/lib/python3.10/dist-packages (from httpx<1,>=0.23.0->langsmith<0.2.0,>=0.1.112->langchain-community) (1.0.5)\n",
      "Requirement already satisfied: sniffio in /usr/local/lib/python3.10/dist-packages (from httpx<1,>=0.23.0->langsmith<0.2.0,>=0.1.112->langchain-community) (1.3.1)\n",
      "Requirement already satisfied: h11<0.15,>=0.13 in /usr/local/lib/python3.10/dist-packages (from httpcore==1.*->httpx<1,>=0.23.0->langsmith<0.2.0,>=0.1.112->langchain-community) (0.14.0)\n",
      "Requirement already satisfied: jsonpointer>=1.9 in /usr/local/lib/python3.10/dist-packages (from jsonpatch<2.0,>=1.33->langchain-core<0.4.0,>=0.3.0->langchain-community) (3.0.0)\n",
      "Requirement already satisfied: annotated-types>=0.6.0 in /usr/local/lib/python3.10/dist-packages (from pydantic<3.0.0,>=2.7.4->langchain<0.4.0,>=0.3.0->langchain-community) (0.7.0)\n",
      "Requirement already satisfied: pydantic-core==2.23.3 in /usr/local/lib/python3.10/dist-packages (from pydantic<3.0.0,>=2.7.4->langchain<0.4.0,>=0.3.0->langchain-community) (2.23.3)\n",
      "Collecting mypy-extensions>=0.3.0 (from typing-inspect<1,>=0.4.0->dataclasses-json<0.7,>=0.5.7->langchain-community)\n",
      "  Downloading mypy_extensions-1.0.0-py3-none-any.whl.metadata (1.1 kB)\n",
      "Requirement already satisfied: exceptiongroup in /usr/local/lib/python3.10/dist-packages (from anyio->httpx<1,>=0.23.0->langsmith<0.2.0,>=0.1.112->langchain-community) (1.2.2)\n",
      "Downloading langchain_community-0.3.0-py3-none-any.whl (2.3 MB)\n",
      "\u001b[2K   \u001b[90m━━━━━━━━━━━━━━━━━━━━━━━━━━━━━━━━━━━━━━━━\u001b[0m \u001b[32m2.3/2.3 MB\u001b[0m \u001b[31m72.6 MB/s\u001b[0m eta \u001b[36m0:00:00\u001b[0m\n",
      "\u001b[?25hDownloading dataclasses_json-0.6.7-py3-none-any.whl (28 kB)\n",
      "Downloading pydantic_settings-2.5.2-py3-none-any.whl (26 kB)\n",
      "Downloading marshmallow-3.22.0-py3-none-any.whl (49 kB)\n",
      "\u001b[2K   \u001b[90m━━━━━━━━━━━━━━━━━━━━━━━━━━━━━━━━━━━━━━━━\u001b[0m \u001b[32m49.3/49.3 kB\u001b[0m \u001b[31m4.4 MB/s\u001b[0m eta \u001b[36m0:00:00\u001b[0m\n",
      "\u001b[?25hDownloading python_dotenv-1.0.1-py3-none-any.whl (19 kB)\n",
      "Downloading typing_inspect-0.9.0-py3-none-any.whl (8.8 kB)\n",
      "Downloading mypy_extensions-1.0.0-py3-none-any.whl (4.7 kB)\n",
      "Installing collected packages: python-dotenv, mypy-extensions, marshmallow, typing-inspect, pydantic-settings, dataclasses-json, langchain-community\n",
      "Successfully installed dataclasses-json-0.6.7 langchain-community-0.3.0 marshmallow-3.22.0 mypy-extensions-1.0.0 pydantic-settings-2.5.2 python-dotenv-1.0.1 typing-inspect-0.9.0\n"
     ]
    }
   ],
   "source": [
    "!pip install -U langchain-community"
   ]
  },
  {
   "cell_type": "code",
   "execution_count": 6,
   "metadata": {
    "colab": {
     "base_uri": "https://localhost:8080/"
    },
    "id": "MKZfLjW1DPnH",
    "outputId": "e973b1dd-0183-4fd2-c795-9763c9dd86a8"
   },
   "outputs": [
    {
     "name": "stdout",
     "output_type": "stream",
     "text": [
      "Collecting langchain_chroma\n",
      "  Downloading langchain_chroma-0.1.4-py3-none-any.whl.metadata (1.6 kB)\n",
      "Collecting chromadb!=0.5.4,!=0.5.5,<0.6.0,>=0.4.0 (from langchain_chroma)\n",
      "  Downloading chromadb-0.5.3-py3-none-any.whl.metadata (6.8 kB)\n",
      "Collecting fastapi<1,>=0.95.2 (from langchain_chroma)\n",
      "  Downloading fastapi-0.114.2-py3-none-any.whl.metadata (27 kB)\n",
      "Requirement already satisfied: langchain-core<0.4,>=0.1.40 in /usr/local/lib/python3.10/dist-packages (from langchain_chroma) (0.3.0)\n",
      "Requirement already satisfied: numpy<2,>=1 in /usr/local/lib/python3.10/dist-packages (from langchain_chroma) (1.26.4)\n",
      "Requirement already satisfied: build>=1.0.3 in /usr/local/lib/python3.10/dist-packages (from chromadb!=0.5.4,!=0.5.5,<0.6.0,>=0.4.0->langchain_chroma) (1.2.2)\n",
      "Requirement already satisfied: requests>=2.28 in /usr/local/lib/python3.10/dist-packages (from chromadb!=0.5.4,!=0.5.5,<0.6.0,>=0.4.0->langchain_chroma) (2.32.3)\n",
      "Requirement already satisfied: pydantic>=1.9 in /usr/local/lib/python3.10/dist-packages (from chromadb!=0.5.4,!=0.5.5,<0.6.0,>=0.4.0->langchain_chroma) (2.9.1)\n",
      "Collecting chroma-hnswlib==0.7.3 (from chromadb!=0.5.4,!=0.5.5,<0.6.0,>=0.4.0->langchain_chroma)\n",
      "  Downloading chroma_hnswlib-0.7.3-cp310-cp310-manylinux_2_17_x86_64.manylinux2014_x86_64.whl.metadata (252 bytes)\n",
      "Collecting uvicorn>=0.18.3 (from uvicorn[standard]>=0.18.3->chromadb!=0.5.4,!=0.5.5,<0.6.0,>=0.4.0->langchain_chroma)\n",
      "  Downloading uvicorn-0.30.6-py3-none-any.whl.metadata (6.6 kB)\n",
      "Collecting posthog>=2.4.0 (from chromadb!=0.5.4,!=0.5.5,<0.6.0,>=0.4.0->langchain_chroma)\n",
      "  Downloading posthog-3.6.5-py2.py3-none-any.whl.metadata (2.0 kB)\n",
      "Requirement already satisfied: typing-extensions>=4.5.0 in /usr/local/lib/python3.10/dist-packages (from chromadb!=0.5.4,!=0.5.5,<0.6.0,>=0.4.0->langchain_chroma) (4.12.2)\n",
      "Collecting onnxruntime>=1.14.1 (from chromadb!=0.5.4,!=0.5.5,<0.6.0,>=0.4.0->langchain_chroma)\n",
      "  Downloading onnxruntime-1.19.2-cp310-cp310-manylinux_2_27_x86_64.manylinux_2_28_x86_64.whl.metadata (4.5 kB)\n",
      "Collecting opentelemetry-api>=1.2.0 (from chromadb!=0.5.4,!=0.5.5,<0.6.0,>=0.4.0->langchain_chroma)\n",
      "  Downloading opentelemetry_api-1.27.0-py3-none-any.whl.metadata (1.4 kB)\n",
      "Collecting opentelemetry-exporter-otlp-proto-grpc>=1.2.0 (from chromadb!=0.5.4,!=0.5.5,<0.6.0,>=0.4.0->langchain_chroma)\n",
      "  Downloading opentelemetry_exporter_otlp_proto_grpc-1.27.0-py3-none-any.whl.metadata (2.3 kB)\n",
      "Collecting opentelemetry-instrumentation-fastapi>=0.41b0 (from chromadb!=0.5.4,!=0.5.5,<0.6.0,>=0.4.0->langchain_chroma)\n",
      "  Downloading opentelemetry_instrumentation_fastapi-0.48b0-py3-none-any.whl.metadata (2.1 kB)\n",
      "Collecting opentelemetry-sdk>=1.2.0 (from chromadb!=0.5.4,!=0.5.5,<0.6.0,>=0.4.0->langchain_chroma)\n",
      "  Downloading opentelemetry_sdk-1.27.0-py3-none-any.whl.metadata (1.5 kB)\n",
      "Requirement already satisfied: tokenizers>=0.13.2 in /usr/local/lib/python3.10/dist-packages (from chromadb!=0.5.4,!=0.5.5,<0.6.0,>=0.4.0->langchain_chroma) (0.19.1)\n",
      "Collecting pypika>=0.48.9 (from chromadb!=0.5.4,!=0.5.5,<0.6.0,>=0.4.0->langchain_chroma)\n",
      "  Downloading PyPika-0.48.9.tar.gz (67 kB)\n",
      "\u001b[2K     \u001b[90m━━━━━━━━━━━━━━━━━━━━━━━━━━━━━━━━━━━━━━━━\u001b[0m \u001b[32m67.3/67.3 kB\u001b[0m \u001b[31m7.1 MB/s\u001b[0m eta \u001b[36m0:00:00\u001b[0m\n",
      "\u001b[?25h  Installing build dependencies ... \u001b[?25l\u001b[?25hdone\n",
      "  Getting requirements to build wheel ... \u001b[?25l\u001b[?25hdone\n",
      "  Preparing metadata (pyproject.toml) ... \u001b[?25l\u001b[?25hdone\n",
      "Requirement already satisfied: tqdm>=4.65.0 in /usr/local/lib/python3.10/dist-packages (from chromadb!=0.5.4,!=0.5.5,<0.6.0,>=0.4.0->langchain_chroma) (4.66.5)\n",
      "Collecting overrides>=7.3.1 (from chromadb!=0.5.4,!=0.5.5,<0.6.0,>=0.4.0->langchain_chroma)\n",
      "  Downloading overrides-7.7.0-py3-none-any.whl.metadata (5.8 kB)\n",
      "Requirement already satisfied: importlib-resources in /usr/local/lib/python3.10/dist-packages (from chromadb!=0.5.4,!=0.5.5,<0.6.0,>=0.4.0->langchain_chroma) (6.4.5)\n",
      "Requirement already satisfied: grpcio>=1.58.0 in /usr/local/lib/python3.10/dist-packages (from chromadb!=0.5.4,!=0.5.5,<0.6.0,>=0.4.0->langchain_chroma) (1.64.1)\n",
      "Collecting bcrypt>=4.0.1 (from chromadb!=0.5.4,!=0.5.5,<0.6.0,>=0.4.0->langchain_chroma)\n",
      "  Downloading bcrypt-4.2.0-cp39-abi3-manylinux_2_28_x86_64.whl.metadata (9.6 kB)\n",
      "Requirement already satisfied: typer>=0.9.0 in /usr/local/lib/python3.10/dist-packages (from chromadb!=0.5.4,!=0.5.5,<0.6.0,>=0.4.0->langchain_chroma) (0.12.5)\n",
      "Collecting kubernetes>=28.1.0 (from chromadb!=0.5.4,!=0.5.5,<0.6.0,>=0.4.0->langchain_chroma)\n",
      "  Downloading kubernetes-30.1.0-py2.py3-none-any.whl.metadata (1.5 kB)\n",
      "Requirement already satisfied: tenacity>=8.2.3 in /usr/local/lib/python3.10/dist-packages (from chromadb!=0.5.4,!=0.5.5,<0.6.0,>=0.4.0->langchain_chroma) (8.5.0)\n",
      "Requirement already satisfied: PyYAML>=6.0.0 in /usr/local/lib/python3.10/dist-packages (from chromadb!=0.5.4,!=0.5.5,<0.6.0,>=0.4.0->langchain_chroma) (6.0.2)\n",
      "Collecting mmh3>=4.0.1 (from chromadb!=0.5.4,!=0.5.5,<0.6.0,>=0.4.0->langchain_chroma)\n",
      "  Downloading mmh3-4.1.0-cp310-cp310-manylinux_2_5_x86_64.manylinux1_x86_64.manylinux_2_17_x86_64.manylinux2014_x86_64.whl.metadata (13 kB)\n",
      "Requirement already satisfied: orjson>=3.9.12 in /usr/local/lib/python3.10/dist-packages (from chromadb!=0.5.4,!=0.5.5,<0.6.0,>=0.4.0->langchain_chroma) (3.10.7)\n",
      "Requirement already satisfied: httpx>=0.27.0 in /usr/local/lib/python3.10/dist-packages (from chromadb!=0.5.4,!=0.5.5,<0.6.0,>=0.4.0->langchain_chroma) (0.27.2)\n",
      "Collecting starlette<0.39.0,>=0.37.2 (from fastapi<1,>=0.95.2->langchain_chroma)\n",
      "  Downloading starlette-0.38.5-py3-none-any.whl.metadata (6.0 kB)\n",
      "Requirement already satisfied: jsonpatch<2.0,>=1.33 in /usr/local/lib/python3.10/dist-packages (from langchain-core<0.4,>=0.1.40->langchain_chroma) (1.33)\n",
      "Requirement already satisfied: langsmith<0.2.0,>=0.1.117 in /usr/local/lib/python3.10/dist-packages (from langchain-core<0.4,>=0.1.40->langchain_chroma) (0.1.120)\n",
      "Requirement already satisfied: packaging<25,>=23.2 in /usr/local/lib/python3.10/dist-packages (from langchain-core<0.4,>=0.1.40->langchain_chroma) (24.1)\n",
      "Requirement already satisfied: pyproject_hooks in /usr/local/lib/python3.10/dist-packages (from build>=1.0.3->chromadb!=0.5.4,!=0.5.5,<0.6.0,>=0.4.0->langchain_chroma) (1.1.0)\n",
      "Requirement already satisfied: tomli>=1.1.0 in /usr/local/lib/python3.10/dist-packages (from build>=1.0.3->chromadb!=0.5.4,!=0.5.5,<0.6.0,>=0.4.0->langchain_chroma) (2.0.1)\n",
      "Requirement already satisfied: anyio in /usr/local/lib/python3.10/dist-packages (from httpx>=0.27.0->chromadb!=0.5.4,!=0.5.5,<0.6.0,>=0.4.0->langchain_chroma) (3.7.1)\n",
      "Requirement already satisfied: certifi in /usr/local/lib/python3.10/dist-packages (from httpx>=0.27.0->chromadb!=0.5.4,!=0.5.5,<0.6.0,>=0.4.0->langchain_chroma) (2024.8.30)\n",
      "Requirement already satisfied: httpcore==1.* in /usr/local/lib/python3.10/dist-packages (from httpx>=0.27.0->chromadb!=0.5.4,!=0.5.5,<0.6.0,>=0.4.0->langchain_chroma) (1.0.5)\n",
      "Requirement already satisfied: idna in /usr/local/lib/python3.10/dist-packages (from httpx>=0.27.0->chromadb!=0.5.4,!=0.5.5,<0.6.0,>=0.4.0->langchain_chroma) (3.8)\n",
      "Requirement already satisfied: sniffio in /usr/local/lib/python3.10/dist-packages (from httpx>=0.27.0->chromadb!=0.5.4,!=0.5.5,<0.6.0,>=0.4.0->langchain_chroma) (1.3.1)\n",
      "Requirement already satisfied: h11<0.15,>=0.13 in /usr/local/lib/python3.10/dist-packages (from httpcore==1.*->httpx>=0.27.0->chromadb!=0.5.4,!=0.5.5,<0.6.0,>=0.4.0->langchain_chroma) (0.14.0)\n",
      "Requirement already satisfied: jsonpointer>=1.9 in /usr/local/lib/python3.10/dist-packages (from jsonpatch<2.0,>=1.33->langchain-core<0.4,>=0.1.40->langchain_chroma) (3.0.0)\n",
      "Requirement already satisfied: six>=1.9.0 in /usr/local/lib/python3.10/dist-packages (from kubernetes>=28.1.0->chromadb!=0.5.4,!=0.5.5,<0.6.0,>=0.4.0->langchain_chroma) (1.16.0)\n",
      "Requirement already satisfied: python-dateutil>=2.5.3 in /usr/local/lib/python3.10/dist-packages (from kubernetes>=28.1.0->chromadb!=0.5.4,!=0.5.5,<0.6.0,>=0.4.0->langchain_chroma) (2.8.2)\n",
      "Requirement already satisfied: google-auth>=1.0.1 in /usr/local/lib/python3.10/dist-packages (from kubernetes>=28.1.0->chromadb!=0.5.4,!=0.5.5,<0.6.0,>=0.4.0->langchain_chroma) (2.27.0)\n",
      "Requirement already satisfied: websocket-client!=0.40.0,!=0.41.*,!=0.42.*,>=0.32.0 in /usr/local/lib/python3.10/dist-packages (from kubernetes>=28.1.0->chromadb!=0.5.4,!=0.5.5,<0.6.0,>=0.4.0->langchain_chroma) (1.8.0)\n",
      "Requirement already satisfied: requests-oauthlib in /usr/local/lib/python3.10/dist-packages (from kubernetes>=28.1.0->chromadb!=0.5.4,!=0.5.5,<0.6.0,>=0.4.0->langchain_chroma) (1.3.1)\n",
      "Requirement already satisfied: oauthlib>=3.2.2 in /usr/local/lib/python3.10/dist-packages (from kubernetes>=28.1.0->chromadb!=0.5.4,!=0.5.5,<0.6.0,>=0.4.0->langchain_chroma) (3.2.2)\n",
      "Requirement already satisfied: urllib3>=1.24.2 in /usr/local/lib/python3.10/dist-packages (from kubernetes>=28.1.0->chromadb!=0.5.4,!=0.5.5,<0.6.0,>=0.4.0->langchain_chroma) (2.0.7)\n",
      "Collecting coloredlogs (from onnxruntime>=1.14.1->chromadb!=0.5.4,!=0.5.5,<0.6.0,>=0.4.0->langchain_chroma)\n",
      "  Downloading coloredlogs-15.0.1-py2.py3-none-any.whl.metadata (12 kB)\n",
      "Requirement already satisfied: flatbuffers in /usr/local/lib/python3.10/dist-packages (from onnxruntime>=1.14.1->chromadb!=0.5.4,!=0.5.5,<0.6.0,>=0.4.0->langchain_chroma) (24.3.25)\n",
      "Requirement already satisfied: protobuf in /usr/local/lib/python3.10/dist-packages (from onnxruntime>=1.14.1->chromadb!=0.5.4,!=0.5.5,<0.6.0,>=0.4.0->langchain_chroma) (3.20.3)\n",
      "Requirement already satisfied: sympy in /usr/local/lib/python3.10/dist-packages (from onnxruntime>=1.14.1->chromadb!=0.5.4,!=0.5.5,<0.6.0,>=0.4.0->langchain_chroma) (1.13.2)\n",
      "Collecting deprecated>=1.2.6 (from opentelemetry-api>=1.2.0->chromadb!=0.5.4,!=0.5.5,<0.6.0,>=0.4.0->langchain_chroma)\n",
      "  Downloading Deprecated-1.2.14-py2.py3-none-any.whl.metadata (5.4 kB)\n",
      "Collecting importlib-metadata<=8.4.0,>=6.0 (from opentelemetry-api>=1.2.0->chromadb!=0.5.4,!=0.5.5,<0.6.0,>=0.4.0->langchain_chroma)\n",
      "  Downloading importlib_metadata-8.4.0-py3-none-any.whl.metadata (4.7 kB)\n",
      "Requirement already satisfied: googleapis-common-protos~=1.52 in /usr/local/lib/python3.10/dist-packages (from opentelemetry-exporter-otlp-proto-grpc>=1.2.0->chromadb!=0.5.4,!=0.5.5,<0.6.0,>=0.4.0->langchain_chroma) (1.65.0)\n",
      "Collecting opentelemetry-exporter-otlp-proto-common==1.27.0 (from opentelemetry-exporter-otlp-proto-grpc>=1.2.0->chromadb!=0.5.4,!=0.5.5,<0.6.0,>=0.4.0->langchain_chroma)\n",
      "  Downloading opentelemetry_exporter_otlp_proto_common-1.27.0-py3-none-any.whl.metadata (1.8 kB)\n",
      "Collecting opentelemetry-proto==1.27.0 (from opentelemetry-exporter-otlp-proto-grpc>=1.2.0->chromadb!=0.5.4,!=0.5.5,<0.6.0,>=0.4.0->langchain_chroma)\n",
      "  Downloading opentelemetry_proto-1.27.0-py3-none-any.whl.metadata (2.3 kB)\n",
      "Collecting opentelemetry-instrumentation-asgi==0.48b0 (from opentelemetry-instrumentation-fastapi>=0.41b0->chromadb!=0.5.4,!=0.5.5,<0.6.0,>=0.4.0->langchain_chroma)\n",
      "  Downloading opentelemetry_instrumentation_asgi-0.48b0-py3-none-any.whl.metadata (2.0 kB)\n",
      "Collecting opentelemetry-instrumentation==0.48b0 (from opentelemetry-instrumentation-fastapi>=0.41b0->chromadb!=0.5.4,!=0.5.5,<0.6.0,>=0.4.0->langchain_chroma)\n",
      "  Downloading opentelemetry_instrumentation-0.48b0-py3-none-any.whl.metadata (6.1 kB)\n",
      "Collecting opentelemetry-semantic-conventions==0.48b0 (from opentelemetry-instrumentation-fastapi>=0.41b0->chromadb!=0.5.4,!=0.5.5,<0.6.0,>=0.4.0->langchain_chroma)\n",
      "  Downloading opentelemetry_semantic_conventions-0.48b0-py3-none-any.whl.metadata (2.4 kB)\n",
      "Collecting opentelemetry-util-http==0.48b0 (from opentelemetry-instrumentation-fastapi>=0.41b0->chromadb!=0.5.4,!=0.5.5,<0.6.0,>=0.4.0->langchain_chroma)\n",
      "  Downloading opentelemetry_util_http-0.48b0-py3-none-any.whl.metadata (2.5 kB)\n",
      "Requirement already satisfied: setuptools>=16.0 in /usr/local/lib/python3.10/dist-packages (from opentelemetry-instrumentation==0.48b0->opentelemetry-instrumentation-fastapi>=0.41b0->chromadb!=0.5.4,!=0.5.5,<0.6.0,>=0.4.0->langchain_chroma) (71.0.4)\n",
      "Requirement already satisfied: wrapt<2.0.0,>=1.0.0 in /usr/local/lib/python3.10/dist-packages (from opentelemetry-instrumentation==0.48b0->opentelemetry-instrumentation-fastapi>=0.41b0->chromadb!=0.5.4,!=0.5.5,<0.6.0,>=0.4.0->langchain_chroma) (1.16.0)\n",
      "Collecting asgiref~=3.0 (from opentelemetry-instrumentation-asgi==0.48b0->opentelemetry-instrumentation-fastapi>=0.41b0->chromadb!=0.5.4,!=0.5.5,<0.6.0,>=0.4.0->langchain_chroma)\n",
      "  Downloading asgiref-3.8.1-py3-none-any.whl.metadata (9.3 kB)\n",
      "Collecting monotonic>=1.5 (from posthog>=2.4.0->chromadb!=0.5.4,!=0.5.5,<0.6.0,>=0.4.0->langchain_chroma)\n",
      "  Downloading monotonic-1.6-py2.py3-none-any.whl.metadata (1.5 kB)\n",
      "Collecting backoff>=1.10.0 (from posthog>=2.4.0->chromadb!=0.5.4,!=0.5.5,<0.6.0,>=0.4.0->langchain_chroma)\n",
      "  Downloading backoff-2.2.1-py3-none-any.whl.metadata (14 kB)\n",
      "Requirement already satisfied: annotated-types>=0.6.0 in /usr/local/lib/python3.10/dist-packages (from pydantic>=1.9->chromadb!=0.5.4,!=0.5.5,<0.6.0,>=0.4.0->langchain_chroma) (0.7.0)\n",
      "Requirement already satisfied: pydantic-core==2.23.3 in /usr/local/lib/python3.10/dist-packages (from pydantic>=1.9->chromadb!=0.5.4,!=0.5.5,<0.6.0,>=0.4.0->langchain_chroma) (2.23.3)\n",
      "Requirement already satisfied: charset-normalizer<4,>=2 in /usr/local/lib/python3.10/dist-packages (from requests>=2.28->chromadb!=0.5.4,!=0.5.5,<0.6.0,>=0.4.0->langchain_chroma) (3.3.2)\n",
      "Requirement already satisfied: huggingface-hub<1.0,>=0.16.4 in /usr/local/lib/python3.10/dist-packages (from tokenizers>=0.13.2->chromadb!=0.5.4,!=0.5.5,<0.6.0,>=0.4.0->langchain_chroma) (0.24.6)\n",
      "Requirement already satisfied: click>=8.0.0 in /usr/local/lib/python3.10/dist-packages (from typer>=0.9.0->chromadb!=0.5.4,!=0.5.5,<0.6.0,>=0.4.0->langchain_chroma) (8.1.7)\n",
      "Requirement already satisfied: shellingham>=1.3.0 in /usr/local/lib/python3.10/dist-packages (from typer>=0.9.0->chromadb!=0.5.4,!=0.5.5,<0.6.0,>=0.4.0->langchain_chroma) (1.5.4)\n",
      "Requirement already satisfied: rich>=10.11.0 in /usr/local/lib/python3.10/dist-packages (from typer>=0.9.0->chromadb!=0.5.4,!=0.5.5,<0.6.0,>=0.4.0->langchain_chroma) (13.8.1)\n",
      "Collecting httptools>=0.5.0 (from uvicorn[standard]>=0.18.3->chromadb!=0.5.4,!=0.5.5,<0.6.0,>=0.4.0->langchain_chroma)\n",
      "  Downloading httptools-0.6.1-cp310-cp310-manylinux_2_5_x86_64.manylinux1_x86_64.manylinux_2_17_x86_64.manylinux2014_x86_64.whl.metadata (3.6 kB)\n",
      "Requirement already satisfied: python-dotenv>=0.13 in /usr/local/lib/python3.10/dist-packages (from uvicorn[standard]>=0.18.3->chromadb!=0.5.4,!=0.5.5,<0.6.0,>=0.4.0->langchain_chroma) (1.0.1)\n",
      "Collecting uvloop!=0.15.0,!=0.15.1,>=0.14.0 (from uvicorn[standard]>=0.18.3->chromadb!=0.5.4,!=0.5.5,<0.6.0,>=0.4.0->langchain_chroma)\n",
      "  Downloading uvloop-0.20.0-cp310-cp310-manylinux_2_17_x86_64.manylinux2014_x86_64.whl.metadata (4.9 kB)\n",
      "Collecting watchfiles>=0.13 (from uvicorn[standard]>=0.18.3->chromadb!=0.5.4,!=0.5.5,<0.6.0,>=0.4.0->langchain_chroma)\n",
      "  Downloading watchfiles-0.24.0-cp310-cp310-manylinux_2_17_x86_64.manylinux2014_x86_64.whl.metadata (4.9 kB)\n",
      "Collecting websockets>=10.4 (from uvicorn[standard]>=0.18.3->chromadb!=0.5.4,!=0.5.5,<0.6.0,>=0.4.0->langchain_chroma)\n",
      "  Downloading websockets-13.0.1-cp310-cp310-manylinux_2_5_x86_64.manylinux1_x86_64.manylinux_2_17_x86_64.manylinux2014_x86_64.whl.metadata (6.7 kB)\n",
      "Requirement already satisfied: exceptiongroup in /usr/local/lib/python3.10/dist-packages (from anyio->httpx>=0.27.0->chromadb!=0.5.4,!=0.5.5,<0.6.0,>=0.4.0->langchain_chroma) (1.2.2)\n",
      "Requirement already satisfied: cachetools<6.0,>=2.0.0 in /usr/local/lib/python3.10/dist-packages (from google-auth>=1.0.1->kubernetes>=28.1.0->chromadb!=0.5.4,!=0.5.5,<0.6.0,>=0.4.0->langchain_chroma) (5.5.0)\n",
      "Requirement already satisfied: pyasn1-modules>=0.2.1 in /usr/local/lib/python3.10/dist-packages (from google-auth>=1.0.1->kubernetes>=28.1.0->chromadb!=0.5.4,!=0.5.5,<0.6.0,>=0.4.0->langchain_chroma) (0.4.1)\n",
      "Requirement already satisfied: rsa<5,>=3.1.4 in /usr/local/lib/python3.10/dist-packages (from google-auth>=1.0.1->kubernetes>=28.1.0->chromadb!=0.5.4,!=0.5.5,<0.6.0,>=0.4.0->langchain_chroma) (4.9)\n",
      "Requirement already satisfied: filelock in /usr/local/lib/python3.10/dist-packages (from huggingface-hub<1.0,>=0.16.4->tokenizers>=0.13.2->chromadb!=0.5.4,!=0.5.5,<0.6.0,>=0.4.0->langchain_chroma) (3.16.0)\n",
      "Requirement already satisfied: fsspec>=2023.5.0 in /usr/local/lib/python3.10/dist-packages (from huggingface-hub<1.0,>=0.16.4->tokenizers>=0.13.2->chromadb!=0.5.4,!=0.5.5,<0.6.0,>=0.4.0->langchain_chroma) (2024.6.1)\n",
      "Requirement already satisfied: zipp>=0.5 in /usr/local/lib/python3.10/dist-packages (from importlib-metadata<=8.4.0,>=6.0->opentelemetry-api>=1.2.0->chromadb!=0.5.4,!=0.5.5,<0.6.0,>=0.4.0->langchain_chroma) (3.20.1)\n",
      "Requirement already satisfied: markdown-it-py>=2.2.0 in /usr/local/lib/python3.10/dist-packages (from rich>=10.11.0->typer>=0.9.0->chromadb!=0.5.4,!=0.5.5,<0.6.0,>=0.4.0->langchain_chroma) (3.0.0)\n",
      "Requirement already satisfied: pygments<3.0.0,>=2.13.0 in /usr/local/lib/python3.10/dist-packages (from rich>=10.11.0->typer>=0.9.0->chromadb!=0.5.4,!=0.5.5,<0.6.0,>=0.4.0->langchain_chroma) (2.16.1)\n",
      "Collecting humanfriendly>=9.1 (from coloredlogs->onnxruntime>=1.14.1->chromadb!=0.5.4,!=0.5.5,<0.6.0,>=0.4.0->langchain_chroma)\n",
      "  Downloading humanfriendly-10.0-py2.py3-none-any.whl.metadata (9.2 kB)\n",
      "Requirement already satisfied: mpmath<1.4,>=1.1.0 in /usr/local/lib/python3.10/dist-packages (from sympy->onnxruntime>=1.14.1->chromadb!=0.5.4,!=0.5.5,<0.6.0,>=0.4.0->langchain_chroma) (1.3.0)\n",
      "Requirement already satisfied: mdurl~=0.1 in /usr/local/lib/python3.10/dist-packages (from markdown-it-py>=2.2.0->rich>=10.11.0->typer>=0.9.0->chromadb!=0.5.4,!=0.5.5,<0.6.0,>=0.4.0->langchain_chroma) (0.1.2)\n",
      "Requirement already satisfied: pyasn1<0.7.0,>=0.4.6 in /usr/local/lib/python3.10/dist-packages (from pyasn1-modules>=0.2.1->google-auth>=1.0.1->kubernetes>=28.1.0->chromadb!=0.5.4,!=0.5.5,<0.6.0,>=0.4.0->langchain_chroma) (0.6.1)\n",
      "Downloading langchain_chroma-0.1.4-py3-none-any.whl (10 kB)\n",
      "Downloading chromadb-0.5.3-py3-none-any.whl (559 kB)\n",
      "\u001b[2K   \u001b[90m━━━━━━━━━━━━━━━━━━━━━━━━━━━━━━━━━━━━━━━━\u001b[0m \u001b[32m559.5/559.5 kB\u001b[0m \u001b[31m35.4 MB/s\u001b[0m eta \u001b[36m0:00:00\u001b[0m\n",
      "\u001b[?25hDownloading chroma_hnswlib-0.7.3-cp310-cp310-manylinux_2_17_x86_64.manylinux2014_x86_64.whl (2.4 MB)\n",
      "\u001b[2K   \u001b[90m━━━━━━━━━━━━━━━━━━━━━━━━━━━━━━━━━━━━━━━━\u001b[0m \u001b[32m2.4/2.4 MB\u001b[0m \u001b[31m81.9 MB/s\u001b[0m eta \u001b[36m0:00:00\u001b[0m\n",
      "\u001b[?25hDownloading fastapi-0.114.2-py3-none-any.whl (94 kB)\n",
      "\u001b[2K   \u001b[90m━━━━━━━━━━━━━━━━━━━━━━━━━━━━━━━━━━━━━━━━\u001b[0m \u001b[32m94.0/94.0 kB\u001b[0m \u001b[31m8.0 MB/s\u001b[0m eta \u001b[36m0:00:00\u001b[0m\n",
      "\u001b[?25hDownloading bcrypt-4.2.0-cp39-abi3-manylinux_2_28_x86_64.whl (273 kB)\n",
      "\u001b[2K   \u001b[90m━━━━━━━━━━━━━━━━━━━━━━━━━━━━━━━━━━━━━━━━\u001b[0m \u001b[32m273.8/273.8 kB\u001b[0m \u001b[31m24.4 MB/s\u001b[0m eta \u001b[36m0:00:00\u001b[0m\n",
      "\u001b[?25hDownloading kubernetes-30.1.0-py2.py3-none-any.whl (1.7 MB)\n",
      "\u001b[2K   \u001b[90m━━━━━━━━━━━━━━━━━━━━━━━━━━━━━━━━━━━━━━━━\u001b[0m \u001b[32m1.7/1.7 MB\u001b[0m \u001b[31m73.7 MB/s\u001b[0m eta \u001b[36m0:00:00\u001b[0m\n",
      "\u001b[?25hDownloading mmh3-4.1.0-cp310-cp310-manylinux_2_5_x86_64.manylinux1_x86_64.manylinux_2_17_x86_64.manylinux2014_x86_64.whl (67 kB)\n",
      "\u001b[2K   \u001b[90m━━━━━━━━━━━━━━━━━━━━━━━━━━━━━━━━━━━━━━━━\u001b[0m \u001b[32m67.6/67.6 kB\u001b[0m \u001b[31m6.5 MB/s\u001b[0m eta \u001b[36m0:00:00\u001b[0m\n",
      "\u001b[?25hDownloading onnxruntime-1.19.2-cp310-cp310-manylinux_2_27_x86_64.manylinux_2_28_x86_64.whl (13.2 MB)\n",
      "\u001b[2K   \u001b[90m━━━━━━━━━━━━━━━━━━━━━━━━━━━━━━━━━━━━━━━━\u001b[0m \u001b[32m13.2/13.2 MB\u001b[0m \u001b[31m102.8 MB/s\u001b[0m eta \u001b[36m0:00:00\u001b[0m\n",
      "\u001b[?25hDownloading opentelemetry_api-1.27.0-py3-none-any.whl (63 kB)\n",
      "\u001b[2K   \u001b[90m━━━━━━━━━━━━━━━━━━━━━━━━━━━━━━━━━━━━━━━━\u001b[0m \u001b[32m64.0/64.0 kB\u001b[0m \u001b[31m5.9 MB/s\u001b[0m eta \u001b[36m0:00:00\u001b[0m\n",
      "\u001b[?25hDownloading opentelemetry_exporter_otlp_proto_grpc-1.27.0-py3-none-any.whl (18 kB)\n",
      "Downloading opentelemetry_exporter_otlp_proto_common-1.27.0-py3-none-any.whl (17 kB)\n",
      "Downloading opentelemetry_proto-1.27.0-py3-none-any.whl (52 kB)\n",
      "\u001b[2K   \u001b[90m━━━━━━━━━━━━━━━━━━━━━━━━━━━━━━━━━━━━━━━━\u001b[0m \u001b[32m52.5/52.5 kB\u001b[0m \u001b[31m5.2 MB/s\u001b[0m eta \u001b[36m0:00:00\u001b[0m\n",
      "\u001b[?25hDownloading opentelemetry_instrumentation_fastapi-0.48b0-py3-none-any.whl (11 kB)\n",
      "Downloading opentelemetry_instrumentation-0.48b0-py3-none-any.whl (29 kB)\n",
      "Downloading opentelemetry_instrumentation_asgi-0.48b0-py3-none-any.whl (15 kB)\n",
      "Downloading opentelemetry_semantic_conventions-0.48b0-py3-none-any.whl (149 kB)\n",
      "\u001b[2K   \u001b[90m━━━━━━━━━━━━━━━━━━━━━━━━━━━━━━━━━━━━━━━━\u001b[0m \u001b[32m149.7/149.7 kB\u001b[0m \u001b[31m14.8 MB/s\u001b[0m eta \u001b[36m0:00:00\u001b[0m\n",
      "\u001b[?25hDownloading opentelemetry_util_http-0.48b0-py3-none-any.whl (6.9 kB)\n",
      "Downloading opentelemetry_sdk-1.27.0-py3-none-any.whl (110 kB)\n",
      "\u001b[2K   \u001b[90m━━━━━━━━━━━━━━━━━━━━━━━━━━━━━━━━━━━━━━━━\u001b[0m \u001b[32m110.5/110.5 kB\u001b[0m \u001b[31m10.2 MB/s\u001b[0m eta \u001b[36m0:00:00\u001b[0m\n",
      "\u001b[?25hDownloading overrides-7.7.0-py3-none-any.whl (17 kB)\n",
      "Downloading posthog-3.6.5-py2.py3-none-any.whl (54 kB)\n",
      "\u001b[2K   \u001b[90m━━━━━━━━━━━━━━━━━━━━━━━━━━━━━━━━━━━━━━━━\u001b[0m \u001b[32m54.2/54.2 kB\u001b[0m \u001b[31m5.3 MB/s\u001b[0m eta \u001b[36m0:00:00\u001b[0m\n",
      "\u001b[?25hDownloading starlette-0.38.5-py3-none-any.whl (71 kB)\n",
      "\u001b[2K   \u001b[90m━━━━━━━━━━━━━━━━━━━━━━━━━━━━━━━━━━━━━━━━\u001b[0m \u001b[32m71.4/71.4 kB\u001b[0m \u001b[31m6.5 MB/s\u001b[0m eta \u001b[36m0:00:00\u001b[0m\n",
      "\u001b[?25hDownloading uvicorn-0.30.6-py3-none-any.whl (62 kB)\n",
      "\u001b[2K   \u001b[90m━━━━━━━━━━━━━━━━━━━━━━━━━━━━━━━━━━━━━━━━\u001b[0m \u001b[32m62.8/62.8 kB\u001b[0m \u001b[31m6.0 MB/s\u001b[0m eta \u001b[36m0:00:00\u001b[0m\n",
      "\u001b[?25hDownloading backoff-2.2.1-py3-none-any.whl (15 kB)\n",
      "Downloading Deprecated-1.2.14-py2.py3-none-any.whl (9.6 kB)\n",
      "Downloading httptools-0.6.1-cp310-cp310-manylinux_2_5_x86_64.manylinux1_x86_64.manylinux_2_17_x86_64.manylinux2014_x86_64.whl (341 kB)\n",
      "\u001b[2K   \u001b[90m━━━━━━━━━━━━━━━━━━━━━━━━━━━━━━━━━━━━━━━━\u001b[0m \u001b[32m341.4/341.4 kB\u001b[0m \u001b[31m32.6 MB/s\u001b[0m eta \u001b[36m0:00:00\u001b[0m\n",
      "\u001b[?25hDownloading importlib_metadata-8.4.0-py3-none-any.whl (26 kB)\n",
      "Downloading monotonic-1.6-py2.py3-none-any.whl (8.2 kB)\n",
      "Downloading uvloop-0.20.0-cp310-cp310-manylinux_2_17_x86_64.manylinux2014_x86_64.whl (3.4 MB)\n",
      "\u001b[2K   \u001b[90m━━━━━━━━━━━━━━━━━━━━━━━━━━━━━━━━━━━━━━━━\u001b[0m \u001b[32m3.4/3.4 MB\u001b[0m \u001b[31m106.7 MB/s\u001b[0m eta \u001b[36m0:00:00\u001b[0m\n",
      "\u001b[?25hDownloading watchfiles-0.24.0-cp310-cp310-manylinux_2_17_x86_64.manylinux2014_x86_64.whl (425 kB)\n",
      "\u001b[2K   \u001b[90m━━━━━━━━━━━━━━━━━━━━━━━━━━━━━━━━━━━━━━━━\u001b[0m \u001b[32m425.7/425.7 kB\u001b[0m \u001b[31m32.1 MB/s\u001b[0m eta \u001b[36m0:00:00\u001b[0m\n",
      "\u001b[?25hDownloading websockets-13.0.1-cp310-cp310-manylinux_2_5_x86_64.manylinux1_x86_64.manylinux_2_17_x86_64.manylinux2014_x86_64.whl (157 kB)\n",
      "\u001b[2K   \u001b[90m━━━━━━━━━━━━━━━━━━━━━━━━━━━━━━━━━━━━━━━━\u001b[0m \u001b[32m157.3/157.3 kB\u001b[0m \u001b[31m15.9 MB/s\u001b[0m eta \u001b[36m0:00:00\u001b[0m\n",
      "\u001b[?25hDownloading coloredlogs-15.0.1-py2.py3-none-any.whl (46 kB)\n",
      "\u001b[2K   \u001b[90m━━━━━━━━━━━━━━━━━━━━━━━━━━━━━━━━━━━━━━━━\u001b[0m \u001b[32m46.0/46.0 kB\u001b[0m \u001b[31m4.6 MB/s\u001b[0m eta \u001b[36m0:00:00\u001b[0m\n",
      "\u001b[?25hDownloading asgiref-3.8.1-py3-none-any.whl (23 kB)\n",
      "Downloading humanfriendly-10.0-py2.py3-none-any.whl (86 kB)\n",
      "\u001b[2K   \u001b[90m━━━━━━━━━━━━━━━━━━━━━━━━━━━━━━━━━━━━━━━━\u001b[0m \u001b[32m86.8/86.8 kB\u001b[0m \u001b[31m8.7 MB/s\u001b[0m eta \u001b[36m0:00:00\u001b[0m\n",
      "\u001b[?25hBuilding wheels for collected packages: pypika\n",
      "  Building wheel for pypika (pyproject.toml) ... \u001b[?25l\u001b[?25hdone\n",
      "  Created wheel for pypika: filename=PyPika-0.48.9-py2.py3-none-any.whl size=53725 sha256=6f7eb1c973301243ec4d4fea8eebf0f5a9db4271dd021e630cf8739f05b8af7b\n",
      "  Stored in directory: /root/.cache/pip/wheels/e1/26/51/d0bffb3d2fd82256676d7ad3003faea3bd6dddc9577af665f4\n",
      "Successfully built pypika\n",
      "Installing collected packages: pypika, monotonic, mmh3, websockets, uvloop, uvicorn, overrides, opentelemetry-util-http, opentelemetry-proto, importlib-metadata, humanfriendly, httptools, deprecated, chroma-hnswlib, bcrypt, backoff, asgiref, watchfiles, starlette, posthog, opentelemetry-exporter-otlp-proto-common, opentelemetry-api, coloredlogs, opentelemetry-semantic-conventions, opentelemetry-instrumentation, onnxruntime, kubernetes, fastapi, opentelemetry-sdk, opentelemetry-instrumentation-asgi, opentelemetry-instrumentation-fastapi, opentelemetry-exporter-otlp-proto-grpc, chromadb, langchain_chroma\n",
      "  Attempting uninstall: importlib-metadata\n",
      "    Found existing installation: importlib_metadata 8.5.0\n",
      "    Uninstalling importlib_metadata-8.5.0:\n",
      "      Successfully uninstalled importlib_metadata-8.5.0\n",
      "Successfully installed asgiref-3.8.1 backoff-2.2.1 bcrypt-4.2.0 chroma-hnswlib-0.7.3 chromadb-0.5.3 coloredlogs-15.0.1 deprecated-1.2.14 fastapi-0.114.2 httptools-0.6.1 humanfriendly-10.0 importlib-metadata-8.4.0 kubernetes-30.1.0 langchain_chroma-0.1.4 mmh3-4.1.0 monotonic-1.6 onnxruntime-1.19.2 opentelemetry-api-1.27.0 opentelemetry-exporter-otlp-proto-common-1.27.0 opentelemetry-exporter-otlp-proto-grpc-1.27.0 opentelemetry-instrumentation-0.48b0 opentelemetry-instrumentation-asgi-0.48b0 opentelemetry-instrumentation-fastapi-0.48b0 opentelemetry-proto-1.27.0 opentelemetry-sdk-1.27.0 opentelemetry-semantic-conventions-0.48b0 opentelemetry-util-http-0.48b0 overrides-7.7.0 posthog-3.6.5 pypika-0.48.9 starlette-0.38.5 uvicorn-0.30.6 uvloop-0.20.0 watchfiles-0.24.0 websockets-13.0.1\n"
     ]
    }
   ],
   "source": [
    "!pip install langchain_chroma"
   ]
  },
  {
   "cell_type": "code",
   "execution_count": 7,
   "metadata": {
    "id": "ZQ2jx6K-JxGe"
   },
   "outputs": [],
   "source": [
    "####if you want to use gemini feel free to use this code.\n",
    "\n",
    "\n",
    "%pip install --upgrade --quiet  google-generativeai langchain-google-genai\n",
    "\n",
    "import os\n",
    "from google.colab import userdata\n",
    "\n",
    "GOOGLE_API_KEY = userdata.get('GOOGLE_API_KEY')\n",
    "os.environ[\"GOOGLE_API_KEY\"] = GOOGLE_API_KEY\n",
    "\n",
    "from langchain_google_genai import GoogleGenerativeAIEmbeddings\n",
    "gemini_embeddings = GoogleGenerativeAIEmbeddings(model=\"models/embedding-001\")\n",
    "\n",
    "from langchain_google_genai import ChatGoogleGenerativeAI\n",
    "llm = ChatGoogleGenerativeAI(model=\"gemini-1.5-pro\")\n",
    "\n"
   ]
  },
  {
   "cell_type": "code",
   "execution_count": 8,
   "metadata": {
    "id": "XLiHiHPJHnC2"
   },
   "outputs": [],
   "source": [
    "# from google.colab import userdata\n",
    "# OPENAI_API_KEY=userdata.get('OPENAI_API_KEY')"
   ]
  },
  {
   "cell_type": "code",
   "execution_count": 9,
   "metadata": {
    "id": "TgjLGyO2HnFm"
   },
   "outputs": [],
   "source": [
    "# import os\n",
    "# os.environ[\"OPENAI_API_KEY\"]=OPENAI_API_KEY"
   ]
  },
  {
   "cell_type": "code",
   "execution_count": 10,
   "metadata": {
    "id": "YNnkfnVzJlP0"
   },
   "outputs": [],
   "source": [
    "from langchain_chroma import Chroma\n",
    "from langchain_core.documents import Document\n",
    "# from langchain_openai import OpenAIEmbeddings"
   ]
  },
  {
   "cell_type": "code",
   "execution_count": 10,
   "metadata": {
    "id": "IYTgJ9utSori"
   },
   "outputs": [],
   "source": []
  },
  {
   "cell_type": "code",
   "execution_count": 11,
   "metadata": {
    "id": "nAioNXP8HnIO"
   },
   "outputs": [],
   "source": [
    "# embedding = OpenAIEmbeddings(openai_api_key=OPENAI_API_KEY)"
   ]
  },
  {
   "cell_type": "code",
   "execution_count": 12,
   "metadata": {
    "colab": {
     "base_uri": "https://localhost:8080/"
    },
    "id": "bkE6PFBfDFCX",
    "outputId": "a55299d3-15d7-4b76-ce83-bb674cfe595f"
   },
   "outputs": [
    {
     "name": "stdout",
     "output_type": "stream",
     "text": [
      "Collecting pypdf\n",
      "  Downloading pypdf-4.3.1-py3-none-any.whl.metadata (7.4 kB)\n",
      "Requirement already satisfied: typing_extensions>=4.0 in /usr/local/lib/python3.10/dist-packages (from pypdf) (4.12.2)\n",
      "Downloading pypdf-4.3.1-py3-none-any.whl (295 kB)\n",
      "\u001b[?25l   \u001b[90m━━━━━━━━━━━━━━━━━━━━━━━━━━━━━━━━━━━━━━━━\u001b[0m \u001b[32m0.0/295.8 kB\u001b[0m \u001b[31m?\u001b[0m eta \u001b[36m-:--:--\u001b[0m\r",
      "\u001b[2K   \u001b[90m━━━━━━━━━━━━━━━━━━━━━━━━━━━━━━━━━━━━━━━━\u001b[0m \u001b[32m295.8/295.8 kB\u001b[0m \u001b[31m19.3 MB/s\u001b[0m eta \u001b[36m0:00:00\u001b[0m\n",
      "\u001b[?25hInstalling collected packages: pypdf\n",
      "Successfully installed pypdf-4.3.1\n"
     ]
    }
   ],
   "source": [
    "from langchain_core.documents import Document\n",
    "%pip install pypdf\n",
    "from langchain_community.document_loaders import PyPDFLoader"
   ]
  },
  {
   "cell_type": "code",
   "execution_count": 13,
   "metadata": {
    "colab": {
     "base_uri": "https://localhost:8080/"
    },
    "id": "XgS5nkYtKsq5",
    "outputId": "95e138fe-3e2d-4192-d6f7-0137c33fb10f"
   },
   "outputs": [
    {
     "data": {
      "text/plain": [
       "[Document(metadata={'source': '/content/combinepdf.pdf', 'page': 0}, page_content=''),\n",
       " Document(metadata={'source': '/content/combinepdf.pdf', 'page': 1}, page_content=''),\n",
       " Document(metadata={'source': '/content/combinepdf.pdf', 'page': 2}, page_content=''),\n",
       " Document(metadata={'source': '/content/combinepdf.pdf', 'page': 3}, page_content=''),\n",
       " Document(metadata={'source': '/content/combinepdf.pdf', 'page': 4}, page_content=''),\n",
       " Document(metadata={'source': '/content/combinepdf.pdf', 'page': 5}, page_content=''),\n",
       " Document(metadata={'source': '/content/combinepdf.pdf', 'page': 6}, page_content=''),\n",
       " Document(metadata={'source': '/content/combinepdf.pdf', 'page': 7}, page_content=''),\n",
       " Document(metadata={'source': '/content/combinepdf.pdf', 'page': 8}, page_content=''),\n",
       " Document(metadata={'source': '/content/combinepdf.pdf', 'page': 9}, page_content=''),\n",
       " Document(metadata={'source': '/content/combinepdf.pdf', 'page': 10}, page_content=''),\n",
       " Document(metadata={'source': '/content/combinepdf.pdf', 'page': 11}, page_content=''),\n",
       " Document(metadata={'source': '/content/combinepdf.pdf', 'page': 12}, page_content=''),\n",
       " Document(metadata={'source': '/content/combinepdf.pdf', 'page': 13}, page_content=''),\n",
       " Document(metadata={'source': '/content/combinepdf.pdf', 'page': 14}, page_content=''),\n",
       " Document(metadata={'source': '/content/combinepdf.pdf', 'page': 15}, page_content=''),\n",
       " Document(metadata={'source': '/content/combinepdf.pdf', 'page': 16}, page_content=''),\n",
       " Document(metadata={'source': '/content/combinepdf.pdf', 'page': 17}, page_content=''),\n",
       " Document(metadata={'source': '/content/combinepdf.pdf', 'page': 18}, page_content=''),\n",
       " Document(metadata={'source': '/content/combinepdf.pdf', 'page': 19}, page_content=''),\n",
       " Document(metadata={'source': '/content/combinepdf.pdf', 'page': 20}, page_content=''),\n",
       " Document(metadata={'source': '/content/combinepdf.pdf', 'page': 21}, page_content=''),\n",
       " Document(metadata={'source': '/content/combinepdf.pdf', 'page': 22}, page_content=''),\n",
       " Document(metadata={'source': '/content/combinepdf.pdf', 'page': 23}, page_content=''),\n",
       " Document(metadata={'source': '/content/combinepdf.pdf', 'page': 24}, page_content=''),\n",
       " Document(metadata={'source': '/content/combinepdf.pdf', 'page': 25}, page_content=''),\n",
       " Document(metadata={'source': '/content/combinepdf.pdf', 'page': 26}, page_content=''),\n",
       " Document(metadata={'source': '/content/combinepdf.pdf', 'page': 27}, page_content='THE PROTECTION AGAINST HARASSMENT OF WOMEN \\nAT THE WORKPLACE ACT , 2010  \\n(IV of 2010)  \\nCONTENTS  \\n1. Short title, extent and commencement  \\n2. Definitions  \\n3. Inquiry Committee  \\n4. Procedure for holding inquiry  \\n5. Powers of the Inquiry Committee  \\n6. Appeal against minor and major penalties  \\n7. Ombudsperson  \\n8. Ombudsperson  to enquir e into complaint  \\n9. Representation to Governor  \\n10. Powers of the Ombudsperson  \\n11. Responsibility of employer  \\n12. Provisions of the Act in addition to and not  in derogation of any other \\nlaw \\n13. Power to make rules  \\nSCHEDULE  '),\n",
       " Document(metadata={'source': '/content/combinepdf.pdf', 'page': 28}, page_content=' \\nTEXT  \\n1THE PROTECTION AGAINST HARASSMENT OF WOMEN AT THE \\nWORKPLACE ACT , 2010  \\n(IV of 2010)  \\n[11th March, 2010 ] \\nAn \\nAct \\nto make provisions for the protection against harassment of women at the workplace  \\nWHEREAS  the constitution of the Islamic Republic of Pakistan recognizes the \\nfundamental right of citizens to dignity of person;  \\nAND WHEREAS it is expedient to make this provision for the protecti on of \\nwomen from harassment at the workplace;  \\nIt is hereby enacted as follows:  \\n1.  Short title, extent and commencement. – (1) This Act may be called the \\nProtection against Harassment of women at the Workplace Act, 2010.  \\n2[(2) It extends to whole of the P unjab.]  \\n(3)  It shall come into force at once.  \\n2.  Definitions. – In this Act, unless there is anything repugnant in the subject or \\ncontext –  \\n(a)  “accused” means an employee or employer of an organization against \\nwhom complaint has been made under this Ac t;  \\n(b)  “CBA” means Collective Bargaining Agent  as provided in the 3[Punjab \\nIndustrial Relations Act 2010 (XIX of 2010)] , or any other law for the \\ntime being in force.  \\n(c)  “Code” means the Code of Conduct as mentioned in the Schedule to \\nthis Act;  \\n(d)  “Competent Authority” means the authority as may be designated by \\nthe management for the purposes of this Act;  \\n(e)  “complainant” means a woman or man who has made a complaint to \\nthe 4[Ombudsperson]  or to the Inquiry Committee on being aggrieved \\nby an act  of harassment;  \\n                                                           \\n1This Act wa s passed by the Parliament ; assented to by the President on 9  March  2010; and published in the Gazette of \\nPakistan (Extraordinary), dated 11 March  2010, pages 63-84. \\n2Substituted by the Punjab Protection Against Harassment of Women a t the Workplace (Amendm ent) Act 2012 ( III of 2013) , \\nw.e.f.5.1.2013, s.3; and published in the Punjab Gazette (Extraordinary), pages 1959 -1960.  \\n3Substituted for the expressions “Industrial Relations Act, 2008 (IV of 2008)”  by the Punjab Protection Against Harassment of \\nWomen at t he Workplace (Amendment) Act 2012 (III of 2013), w.e.f.5.1.2013, s. 4; and published in the Punjab Gazette \\n(Extraordinary), pages 1959 -1960.  '),\n",
       " Document(metadata={'source': '/content/combinepdf.pdf', 'page': 29}, page_content='(f)  “employee” means a regular or contractual employee wheth er \\nemployed on daily, weekly,  monthly or hourly basis, and includes an \\nintern or an apprentice;  \\n(g)  “employer” in relation to an organization, means any person or body of \\nperso ns whether incorporated or not, who or which employs workers in \\nan organization under a contract of employment or in any other manner \\nwhosoever and includes –  \\n(i)  an heir, successor or assign, as the case may be, of such \\nperson or, body as aforesaid;  \\n(ii)  any person responsible for the direction, administration, \\nmanagement and control of the management;  \\n5[(iii)  the authority, in relation to an organization or group of \\norganizations run by or under the authority of the Government, \\nthe Federal Governmen t or any other Provincial Government, \\nappointed in this behalf or, where no such authority is appointed, \\nthe head of the organization or group of organizations;]  \\n(iv)  the office bearer, in relation to an organization run by or on \\nbehalf of the local autho rity, appointed in this behalf, or where \\nno officer is so appointed, the chief executive officer bearer of \\nthat authority;  \\n(v)  the proprietor, in relation to any other organization, of such \\norganization and every director, manager, secretary, agent or \\noffice bearer or person concerned with the management of the \\naffairs thereo f;  \\n(vi)  a contractor or an organization of a contractor who or which \\nundertakes to procure the labour or services of employees for \\nuse by another person or in another organization f or any \\npurpose whatsoever and for payment in any form and on any \\nbasis whatsoever ; and  \\n(vii)  office bearers of 6[* * * *] a Federal or a Provincial or local \\nauthority who belong to the managerial, secretarial or directional \\ncadre or categories of supervi sors or agents and those who \\nhave been notified for this purpose in the official Gazette;  \\n7[(gg) “Government” means Government of the Punjab;]   \\n(h)  “harassment” means any unwelcome sexual advance, request for \\nsexual favors or other verbal or written commu nication or physical \\n                                                                                                                                                                                     \\n4Substituted  for the wo rd “Ombudsman” by the Punjab Protection Against Harassment of Women at the Workplace \\n(Amendme nt) Act 2012 (III of 2013), w.e.f.5.1.2013, s.2; and published in the Punjab Gazette (Extraordinary), pages 1959 -\\n1960 . \\n5Substituted by the Punjab Protection Against Harassment of Women at the Workplace (Amendment) Act 2012 (III of 2013), \\nw.e.f.5.1.2013, s. 4; and published in the Punjab Gazette (Extraordinary), pages 1959 -1960.  \\n6Omitted  the words “ a department or a Division of ” by the Punjab Protection Against Harassment of Women at the Workplace \\n(Amendment) Act 2012 (III of 2013), w.e.f.5.1.2013, s.4; and p ublished in the Punjab Gazette (Extraordinary), pages 1959 -\\n1960.  \\n7Inserted by the Punjab Protection Against Harassment of Women at the Workplace (Amendment) Act 2012 (III of 2013), \\nw.e.f.5.1.2013, s.4; and published in the Punjab Gazette (Extraordinary), p ages 1959 -1960.  '),\n",
       " Document(metadata={'source': '/content/combinepdf.pdf', 'page': 30}, page_content='conduct of a sexual nature or sexually demeaning attitudes, causing \\ninterference with work performance or creating an intimidating, hostile \\nor offensive work environment, or the attempt to punish the \\ncomplainant for refusal to comply t o such a request or is made a \\ncondition for employment;  \\n(i)  “Inquiry Committee” means the Inquiry Committee established under \\nsub-section (1) of section 3;  \\n(j)  “management” means a person or body of persons responsible for the \\nmanagement of the affairs  of an organization and includes an \\nemployer;  \\n(k)  8[Ombudsperson] means the 9[Ombudsperson] appointed under section \\n7;  \\n(l)  “organization” means a Federal or Provincial Government Ministry, \\nDivision or department, a corporation or any autonomous or semi  \\nautonomous body, Educational Institutes, Medical facilities established \\nor controlled by the Federal or Provincial Government or District \\nGovernment or registered civil society associations or privately \\nmanaged a commercial or an industrial establishment or institution, a \\ncompany as defined in the Companies Ordinance, 1984 (XLVII of \\n1984) and includes any other registered private sector organization or \\ninstitution;  \\n(m)  “Schedule” means Schedule annexed to this Act;  \\n(n)  “workplace” means the place of wo rk or the premises where an \\norganization or employer operates and includes building, factory, open \\narea or a larger geographical area where the activities of the \\norganization or of employer are carried out and including any situation \\nthat is linked to offi cial work or official activity outside the office.  \\n3.  Inquiry Committee. – (1) Each organization shall constitute an Inquiry \\nCommittee within thirty days of the enactment of this Act to enquire into complaints \\nunder this Act.  \\n(2)  The Committee shall con sist of three members of whom at least one \\nmember shall be a woman. One member shall be from senior management and one \\nshall be a senior representative of the employees or a senior employee where there \\nis no CBA. One or more members can be co -opted from ou tside the organization if \\nthe organization is unable to designate three members from within as described \\nabove. A Chairperson shall be designated from amongst them.  \\n(3) In case a complaint is made against one of the members of the Inquiry \\nCommittee that m ember should be replaced by another for that particular case. Such \\nmember may be from within or outside the organization.  \\n                                                           \\n8Substituted for the word “Ombudsman” by the Punjab Protection Against Harassment of Women at the Workplace \\n(Amendment) Act 2012 (III of 2013), w.e.f.5.1.2013, s.2; and published in the Punjab Gazette (Extraordinary), pages 1959 -\\n1960.  \\n9Subs tituted for the word “Ombudsman” by the Punjab Protection Against Harassment of Women at the Workplace \\n(Amendment) Act 2012 (III of 2013), w.e.f.5.1.2013, s.2; and published in the Punjab Gazette (Extraordinary), pages 1959 -\\n1960.  '),\n",
       " Document(metadata={'source': '/content/combinepdf.pdf', 'page': 31}, page_content='(4) In case where no competent authority is designated the organization \\nshall within thirty days of the enactment of this Act designa te a competent authority .  \\n4.  Procedure for holding inquiry. – (1) The Inquiry Committee, within three \\ndays of receipt of a written complaint, shall –  \\n(a) communicate to the accused the charges and statement of allegations \\nleveled against him, the formal w ritten receipt of which will be given;  \\n(b) require the accused within seven days from the day the charge is \\ncommunicated to him to submit a written defense and on his failure to \\ndo so without reasonable cause, the Committee shall proceed ex-parte ; \\nand  \\n(c) enquire into the charge and may examine such oral or documentary \\nevidence in support of the charge or in defense of the accused as the \\nCommittee may consider necessary and each party shall be entitled to \\ncross -examine the witnesses against him.  \\n(2) Subject to the provisions of this Act and any rules made thereunder the \\nInquiry Committee shall have power to regulate its own procedure for conducting \\ninquiry and for the fixing place and time of its sitting.  \\n(3) The following provisions inter alia shall be followed by the Committee in \\nrelation to inquiry:  \\n(a) The statements and other evidence acquired in the inquiry process \\nshall be considered as confidential;  \\n(b) An officer in an organization, if considered necessary, may be \\nnominated to provide advice an d assistance to each party;  \\n(c) Both parties, the complainant and the accused, shall have the right to \\nbe represented or accompanied by a Collective Bargaining Agent \\nrepresentative, a friend or a colleague;  \\n(d) Adverse action shall not be taken against t he complainant or the \\nwitnesses;  \\n(e) The inquiry Committee shall ensure that the employer or accused shall \\nin no case create any hostile environment for the complainant so as to \\npressurize her from freely pursuing her complaint; and  \\n(f) The Inquiry Commi ttee shall give its findings in writing by recording \\nreasons thereof.  \\n(4) The Inquiry Committee shall submit its findings and recommendations \\nto the Competent Authority within thirty days of the initiation of inquiry. If the Inquiry \\nCommittee finds the ac cused to be guilty it shall recommend to the Competent \\nAuthority for imposing one or more of the following penalties:  \\n(i)  Minor penalties:  \\n(a)  censure;  \\n(b)  withholding, for a specific period, promotion or increment;  \\n(c)  stoppage, for a specific per iod, at an efficiency bar in the time -\\nscale, otherwise than for unfitness to cross such bar; and  '),\n",
       " Document(metadata={'source': '/content/combinepdf.pdf', 'page': 32}, page_content='(d)  recovery of the compensation payable to the complainant from \\npay or any other source of the accused;  \\n(ii)  Major penalties:  \\n(a)  reduction to a lower p ost or time -scale, or to a lower stage in a \\ntime-scale;  \\n(b)  compulsory retirement;  \\n(c)  removal from service;  \\n(d)  dismissal from service; and  \\n(e)  Fine. A part of the fine can be used as compensation for the \\ncomplainant. In case of the owner, the fin e shall be payable to \\nthe complainant.  \\n(5)  The Competent Authority shall impose the penalty recommended by \\nthe Inquiry Committee under sub -section (4) within one week of the receipt of the \\nrecommendations of the Inquiry Committee .  \\n(6)  The Inquiry Commi ttee shall meet on regular basis and monitor the \\nsituation regularly until they are satisfied that their recommendations subject to \\ndecision, if any of Competent Authority and Appellate Authority have been \\nimplemented.  \\n(7)  In case the complainant is in t rauma the organization will arrange for \\npsycho -social counseling or medical treatment  and for additional medical leave.  \\n(8)  The organization may also offer compensation to the complainant in \\ncase of loss of salary or other damages.  \\n5.  Powers of the Inq uiry Committee. – (1) The Inquiry Committee shall have \\npower –  \\n(a)  to summon and enforce attendance of any person and examine him on \\noath;  \\n(b)  to require the discovery and production of any document;  \\n(c)  to receive evidence on affidavits; and  \\n(d)  to record evidence.  \\n(2)  The Inquiry Committee shall have the power to inquire into the matters \\nof harassment under this Act, to get the complainant or the accused medically \\nexamined by an authorized doctor, if necessary, and may recommend appropriate \\npenalt y against the accused within the meaning of sub -section (4) of section 4.  \\n(3)  The Inquiry Committee may recommend to 10[Ombudsperson ] for \\nappropriate action against the complainant if allegations leveled against the accused \\nfound to be false and made with  mala fide  intentions.  \\n(4)  The Inquiry Committee can instruct to treat the proceedings \\nconfidential.  \\n                                                           \\n10Substituted for the word “Ombudsman” by the Punjab Protection Against Harassment of Women at the Workplace \\n(Amendment) Act 2012 (III of 2013), w.e.f.5.1.2013, s.2; and published in the Punjab Gazette (Extraordinary), pages 1959 -\\n1960.  '),\n",
       " Document(metadata={'source': '/content/combinepdf.pdf', 'page': 33}, page_content='6.  Appeal against minor and major penalties. – (1) Any party aggrieved by \\ndecision of the Competent Authority on whom minor or major penalty is imposed \\nmay within thirty days of written communication of decision prefer an appeal to an \\n11[Ombudsperson] established under section 7.  \\n(2)  A complainant aggrieved by the decision of the Competent Authority \\nmay also prefer appeal within thirty days of the decisi on to the 12[Ombudsperson].  \\n(3)  The Appellate Authority may, on consideration of the appeal and any \\nother relevant material, confirm, set aside, vary or modify the decision within thirty \\ndays in respect of which such appeal is made. It shall communicate th e decision to \\nboth the parties and the employer.  \\n13[(4) * * * * * * * * * * *   ] \\n14[(5) * * * * * * * * * * *   ] \\n15[7.  Ombudsperson .– The Government shall appoint the Ombudsperson on such \\nterms and conditions as may be prescribed.  \\n(2) A person shall be qu alified to be appointed as the Ombudsperson who \\nis not less than forty five years of age and – \\n(a) has been or is qualified to be a Judge of a High Court; or  \\n(b) has been in the service of Pakistan in BS -20 or above; or  \\n(c) is an eminent educationist with n ot less than four years administrative \\nexperience.  \\n(3) The Ombudsperson shall not – \\n(a) hold any other office of profit in the service of Pakistan; or  \\n(b) occupy any other position carrying the right to remuneration for the \\nrendering of services.  \\n(4) The Om budsperson may appoint such staff as may be required to \\nachieve the purposes of this Act. ] \\n16[(5) The Ombudsperson shall hold office for a period of four years and shall \\nnot be eligible for extension of tenure or re -appointment.  \\n                                                           \\n11Substituted for the word “Ombudsman” by the Pu njab Protection Against Harassment of Women at the Workplace \\n(Amendment) Act 2012 (III of 2013), w.e.f.5.1.2013, s.2; and published in the Punjab Gazette (Extraordinary), pages 1959 -\\n1960.  \\n12Substituted for the word “Ombudsman” by the Punjab Protection Again st Harassment of Women at the Workplace \\n(Amendment) Act 2012 (III of 2013), w.e.f.5.1.2013, s.2; and published in the Punjab Gazette (Extraordinary), pages 1959 -\\n1960.  \\n13Omitted by the Punjab Protection Against Harassment of Women at the Workplace (Amendment ) Act 2012 (III of 2013), \\nw.e.f.5.1.2013, s.5; and published in the Punjab Gazette (Extraordinary), pages 1959 -1960.  \\n14Omitted  by the Punjab Protection Against Harassment of Women at the Workplace (Amendment) Act 2012 (III of 2013), \\nw.e.f.5.1.2013, s.5; an d published in the Punjab Gazette (Extraordinary), pages 1959 -1960.  \\n15Substituted  by the Punjab Protection Against Harassment of Women at the Workplace (Amendment) Act 2012 (III of 2013), \\nw.e.f.5.1.2013, s.6; and published in the Punjab Gazette (Extraordin ary), pages 1959 -1960  \\n16Added  by the Punjab Protection Against Harassment of Women at the Workplace (Amendment) Act 2021  (I of 20 22), \\npublished in the Punjab Gazette (Extraordinary), dated: 12th January 2022, pp. 3399 , s.2.  '),\n",
       " Document(metadata={'source': '/content/combinepdf.pdf', 'page': 34}, page_content='(6) The Ombudsperson may res ign from office by writing under her hand \\naddressed to the Governor. ] \\n8.  17[Ombudsperson ] to enquire into complaint .- (1) Any employee shall have \\nthe option to prefer a complaint either to the 18[Ombudsperson] or the Inquiry \\nCommittee.   \\n(2)  The 19[Ombudspe rson] shall within 3 days of receiving a complaint \\nissue a written show cause notice to the accused. The accused after the receipt of \\nwritten notice, shall submit written defense to the 20[Ombudsperson]  within five days \\nand his failure to do so without rea sonable cause the 21[Ombudsperson] may proceed \\nex-parte . Both the parties can represent themselves before the 22[Ombudsperson] .  \\n(3) The 23[Ombudsperson] shall conduct an inquiry into the matter \\naccording to the rules made under this Act and conduct proceedin gs as the \\n24[Ombudsperson] deems proper.  \\n(4)  For the purposes of an investigation under this Act, the \\n25[Ombudsperson] may require any office or member of an organization concerned to \\nfurnish any information or to produce any document which in the opinion of the \\n26[Ombudsperson] is relevant and helpful in the conduct of the investigation.  \\n(5)  The 27[Ombudsperson] shall record his decision and inform both parties \\nand the management of the concerned organization for implementation of the orders.  \\n                                                           \\n17Substituted for the word “Ombud sman” by the Punjab Protection Against Harassment of Women at the Workplace \\n(Amendment) Act 2012 (III of 2013), w.e.f.5.1.2013, s.2; and published in the Punjab Gazette (Extraordinary), pages 1959 -\\n1960.  \\n18Substituted for the word “Ombudsman” by the Punjab P rotection Against Harassment of Women at the Workplace \\n(Amendment) Act 2012 (III of 2013), w.e.f.5.1.2013, s.2; and published in the Punjab Gazette (Extraordinary), pages 1959 -\\n1960.  \\n19Substituted for the word “Ombudsman” by the Punjab Protection Against Har assment of Women at the Workplace \\n(Amendment) Act 2012 (III of 2013), w.e.f.5.1.2013, s.2; and published in the Punjab Gazette (Extraordinary), pages 1959 -\\n1960.  \\n20Substituted for the word “Ombudsman” by the Punjab Protection Against Harassment of Women at t he Workplace \\n(Amendment) Act 2012 (III of 2013), w.e.f.5.1.2013, s.2; and published in the Punjab Gazette (Extraordinary), pages 1959 -\\n1960.  \\n21Substituted for the word “Ombudsman” by the Punjab Protection Against Harassment of Women at the Workplace \\n(Amendme nt) Act 2012 (III of 2013), w.e.f.5.1.2013, s.2; and published in the Punjab Gazette (Extraordinary), pages 1959 -\\n1960.  \\n22Substituted for the word “Ombudsman” by the Punjab Protection Against Harassment of Women at the Workplace \\n(Amendment) Act 2012 (III of 2013), w.e.f.5.1.2013, s.2; and published in the Punjab Gazette (Extraordinary), pages 1959 -\\n1960.  \\n23Substituted for the word “Ombudsman” by the Punjab Protection Against Harassment of Women at the Workplace \\n(Amendment) Act 2012 (III of 2013), w.e.f.5.1.2013 , s.2; and published in the Punjab Gazette (Extraordinary), pages 1959 -\\n1960.  \\n24Substituted for the word “Ombudsman” by the Punjab Protection Against Harassment of Women at the Workplace \\n(Amendment) Act 2012 (III of 2013), w.e.f.5.1.2013, s.2; and published in the Punjab Gazette (Extraordinary), pages 1959 -\\n1960.  \\n25Substituted for the word “Ombudsman” by the Punjab Protection Against Harassment of Women at the Workplace \\n(Amendment) Act 2012 (III of 2013), w.e.f.5.1.2013, s.2; and published in the Punjab Gazette  (Extraordinary), pages 1959 -\\n1960.  \\n26Substituted for the word “Ombudsman” by the Punjab Protection Against Harassment of Women at the Workplace \\n(Amendment) Act 2012 (III of 2013), w.e.f.5.1.2013, s.2; and published in the Punjab Gazette (Extraordinary), pag es 1959 -\\n1960.  \\n27Substituted for the word “Ombudsman” by the Punjab Protection Against Harassment of Women at the Workplace \\n(Amendment) Act 2012 (III of 2013), w.e.f.5.1.2013, s.2; and published in the Punjab Gazette (Extraordinary), pages 1959 -\\n1960.  '),\n",
       " Document(metadata={'source': '/content/combinepdf.pdf', 'page': 35}, page_content='28[9. Represe ntation to Governor .– Any person aggrieved by a decision of the \\nOmbudsperson under subsection (5) of section 8 may, within thirty days of the \\ncommunication of the decision, make a representation to the Governor whose \\ndecision shall be final.]   \\n10.  Powers of the 29[Ombudsperson ].– The 30[Ombudsperson] shall for the \\npurpose of this Act have the same powers as are vested in a Civil Court under the \\nCode of Civil Procedure, 1908 (Act V of 1908), in respect of the following matters, \\nnamely:  \\n(i) summoning and enforcin g the attendance of any person and examining \\nhim on oath;  \\n(ii) compelling the production of evidence;  \\n(iii) receiving evidence on affidavits;  \\n(iv) issuing commission for the examination of witnesses ; \\n(v) entering any premises for the purpose of making any inspection or \\ninvestigation, enter any premises where the 31[Ombudsperson] has a \\nreason to believe that any information relevant to the case may be \\nfound; and  \\n(vi) the 32[Ombudsperson] shall have the same powers as the High Court \\nhas to punish any person for its contempt.  \\n(2)  33[Ombudsperson] shall while making the decision on the complaint \\nmay impose any of the minor or ma jor penalties specified in sub -section (4) of \\nsection 4.  \\n11. Responsibility of employer. – (1) It shall be the responsibility of the employer \\nto ensure impleme ntation of this Act, including but not limited to incorporate the \\nCode of Conduct for protection against harassment at the workplace  as a part of \\ntheir management policy and to form Inquiry Committee referred to in section 3 and \\ndesignate a competent autho rity referred to in section 4.  \\n(2)  The management shall display copies of the Code in English as well as \\nin language understood by the majority of employees at conspicuous place in the \\norganization and the work place within six months of the commencement  of this Act.  \\n                                                           \\n28Substi tuted by the Punjab Protection Against Harassment of Women at the Workplace (Amendment) Act 2012 (III of 2013), \\nw.e.f.5.1.2013, s.7; and published in the Punjab Gazette (Extraordinary), pages 1959 -1960  \\n29Substituted for the word “Ombudsman” by the Punjab Pr otection Against Harassment of Women at the Workplace \\n(Amendment) Act 2012 (III of 2013), w.e.f.5.1.2013, s.2; and published in the Punjab Gazette (Extraordinary), pages 1959 -\\n1960.  \\n30Substituted for the word “Ombudsman” by the Punjab Protection Against Hara ssment of Women at the Workplace \\n(Amendment) Act 2012 (III of 2013), w.e.f.5.1.2013, s.2; and published in the Punjab Gazette (Extraordinary), pages 1959 -\\n1960.  \\n31Substituted for the word “Ombudsman” by the Punjab Protection Against Harassment of Women at th e Workplace \\n(Amendment) Act 2012 (III of 2013), w.e.f.5.1.2013, s.2; and published in the Punjab Gazette (Extraordinary), pages 1959 -\\n1960.  \\n32Substituted for the word “Ombudsman” by the Punjab Protection Against Harassment of Women at the Workplace \\n(Amendmen t) Act 2012 (III of 2013), w.e.f.5.1.2013, s.2; and published in the Punjab Gazette (Extraordinary), pages 1959 -\\n1960.  \\n33Substituted for the word “Ombudsman” by the Punjab Protection Against Harassment of Women at the Workplace \\n(Amendment) Act 2012 (III of 2 013), w.e.f.5.1.2013, s.2; and published in the Punjab Gazette (Extraordinary), pages 1959 -\\n1960.  '),\n",
       " Document(metadata={'source': '/content/combinepdf.pdf', 'page': 36}, page_content='(3)  On failure of an employer to comply with the provisions of this section \\nany employee of an organization may file a 34[complaint before the Ombudsperson ] \\nand on having been found guilty the employer shall be liable to fine which may \\nexten d to one hundred thousand rupees but shall not be less than twenty -five \\nthousand rupees.  \\n35[(4) A person aggrieved by an order under subsection (3) may, within thirty \\ndays of the communication of the order, make a representation to the Governor \\nwhose decis ion shall be final.]  \\n12.  Provisions of the Act in addition to and not in derogation of any other \\nlaw.– The provisions of this Act shall be in addition to and not in derogation of any \\nother law for the time being in force.  \\n13.  Power to make rules .– The 36[* * *] Government may make rules to carryout \\nthe purposes of this Act.  \\n                                                           \\n34Substituted  for the words “petition before the District Court”   by the Punjab Protection Against Harassment of Women at the \\nWorkplace (Amendment) Act 2012 (II I of 2013), w.e.f.5.1.2013, s.8; and published in the Punjab Gazette (Extraordinary), pages \\n1959 -1960  \\n35Inserted by the Punjab Protection Against Harassment of Women at the Workplace (Amendment) Act 2012 (III of 2013), \\nw.e.f.5.1.2013, s.8; and published in the Punjab Gazette (Extraordinary), pages 1959 -1960  \\n36Omitted  the word “Federal”  by the Punjab Protection Against Harassment of Women at the Workplace (Amendment) Act 2012 \\n(III of 2013), w.e.f.5.1.2013, s.9; and published in the Punjab Gazette (Extraordinar y), pages 1959 -1960  '),\n",
       " Document(metadata={'source': '/content/combinepdf.pdf', 'page': 37}, page_content='SCHEDULE  \\n[See sections 2(c) and 11]  \\nCODE OF CONDUCT FOR PROTECTION AGAINST HARASSMENT OF WOMEN \\nAT THE WORKPLACE  \\nWhereas it is expedient to make the Code of Conduct at the Workplace e tc. to \\nprovide protection and safety to women against harassment it is hereby provided as \\nunder: –  \\n(i)  The Code provides a guideline for behavior of all employees, including \\nmanagement, and the owners of an organization to ensure a work \\nenvironment free o f harassment and intimidation;  \\n(ii)  “Harassment” means any unwelcome sexual advance, request for \\nsexual favors or other verbal or written communication or physical \\nconduct of a sexual nature, or sexually demeaning attitudes, causing \\ninterference with wor k performance or creating an intimidating, hostile \\nor offensive work environment, or the attempt to punish the \\ncomplainant for refusal to comply to such a request or is made a \\ncondition for employment;  \\nThe above is unacceptable behavior in the organizatio n and at the workplace, \\nincluding in any interaction or situation that is linked to official work or official activity \\noutside the office.  \\nExplanation .– There are three significant manifestations of harassment in the work \\nenvironment: –  \\n(a)  Abuse of auth ority  \\nA demand by a person in authority, such as a supervisor, for sexual favors in \\norder for the complainant to keep or obtain certain job benefits, be it a wage \\nincrease, a promotion, training opportunity, a transfer or the job itself.  \\n(b)  Creating a hostile environment  \\nAny unwelcome sexual advance, request for sexual favors or other verbal or \\nphysical conduct of a sexual nature, which interferes with an individual’s work \\nperformance or creates an intimidating, hostile, abusive or offensive work \\nenvir onment.  \\nThe typical “hostile environment” claim, in general, requires finding of a \\npattern of offensive conduct, however, in cases where the harassment is particularly \\nsevere, such as in cases involving physical contact, a single offensive incident will \\nconstitute a violation.  \\n(c)  Retaliation  \\nThe refusal to grant a sexual favor can result in retaliation, which may include \\nlimiting the employee’s options for future promotions or training, distorting the \\nevaluation reports, generating gossip against the e mployee or other ways of limiting \\naccess to his/her rights. Such behavior is also a part of the harassment.  \\n(iii)  An informal approach to resolve a complaint of harassment may be \\nthrough mediation between the parties involved and by providing \\nadvice and counseling on a strictly confidential basis;  '),\n",
       " Document(metadata={'source': '/content/combinepdf.pdf', 'page': 38}, page_content=\"(iv)  A complainant or a staff member designated by the complainant for the \\npurpose may report an incident of harassment informally to her \\nsupervisor, or a member of the Inquiry Committee, in which case the \\nsupervisor or the Committee member may address the issue at her \\ndiscretion in the spirit of this Code. The request may be made orally or \\nin writing;  \\n(v)  If the case is taken up for investigation at an informal level, a senior \\nmanager from the office or the head office will conduct the investigation \\nin a confidential manner. The alleged accused will be approached with \\nthe intention of resolving the matter in a confidential manner;  \\n(vi)  If the incident or the case reported does constitute harassment of a \\nhigher degree and the officer or a member reviewing the case feels \\nthat it needs to be pursued formally for a disciplinary action, with the \\nconsent of the complainant, the case can be taken as a formal \\ncomplaint;  \\n(vii)  A complainant does not necessarily hav e to take a complaint of \\nharassment through the informal channel. She can launch a formal \\ncomplaint at any time;  \\n(viii)  The complainant may make formal complaint through her incharge, \\nsupervisor, CBA nominee or worker's representative, as the case may \\nbe, or directly to any member of the Inquiry Committee. The Committee \\nmember approached is obligated to initiate the process of investigation. \\nThe supervisor shall facilitate the process and is obligated not to cover \\nup or obstruct the inquiry;  \\n(ix)  Assist ance in the inquiry procedure can be sought from any member of \\nthe organization who should be contacted to assist in such a case;  \\n(x)  The employer shall do its best to temporarily make adjustments so that \\nthe accused and the complainant do not have to in teract for official \\npurposes during the investigation period. This would include \\ntemporarily changing the office, in case both sit in one office, or taking \\naway any extra charge over and above their contract which may give \\none party excessive powers over t he other's job conditions. The \\nemployer can also decide to send the accused on leave, or suspend \\nthe accused in accordance with the applicable procedures for dealing \\nwith the cases of misconduct, if required;  \\n(xi)  Retaliation from either party should be strictly monitored. During the \\nprocess of the investigation work, evaluation, daily duties, reporting \\nstructure and any parallel inquiries initiated should be strictly monitored \\nto avoid any retaliation from either side;  \\n(xii)  The harassment usually occu rs between colleagues when they are \\nalone, therefore usually it is difficult to produce evidence. It is strongly \\nrecommended that staff should report an offensive behavior \\nimmediately to someone they trust, even if they do not wish to make a \\nformal complai nt at the time. Although not reporting immediately shall \\nnot affect the merits of the case; and  \"),\n",
       " Document(metadata={'source': '/content/combinepdf.pdf', 'page': 39}, page_content='(xiii)  The Code lays down the minimum standards of behavior regarding \\nprotection of women from harassment at workplace etc . but will not \\naffect any better arr angement that an organization may have \\ndeveloped nor will it bar the grant of protection that employees working \\nin an institute may secure from their employers through negotiation.  \\n37[Kindly see end notes for statement of objects and reasons]   \\n                                                           \\n37The objective of this Act is to create a safe working environment for women, which is free of harassment, abuse and \\nintimidation with a view toward fulfillment of their right to work with dignity. It will also enable higher productivit y and a better \\nquality of life at work. Harassment is one of the biggest hurdles faced by working women preventing many who want to work to \\nget themselves and their families out of poverty. This Act will open the path for women to participate more fully in  the \\ndevelopment of this country at all levels.  \\nThis Act builds on the principles of equal opportunity for men and women and their right to earn a livelihood without fear of  \\ndiscrimination as stipulated in the Constitution. This Act complies with the Gove rnment’s commitment to high international \\nlabour standards and empowerment of women. It also adheres to the Human Rights Declaration, the United Nation’s \\nConvention for Elimination of all forms of Discrimination Against Women and ILO’s convention 100 and 1 11 on workers’ rights. \\nIt adheres to the principles of Islam and all other religions in our country which assure women’s dignity.  \\nThis Act requires all public and private organizations to adopt an internal Code of Conduct and a complain/appeals mechanism \\naimed at establishing a safe working environment, free of intimidation and abuse, for all working women. It shall also establ ish \\nan 37[Ombudsperson] at Federal and provincial levels.  '),\n",
       " Document(metadata={'source': '/content/combinepdf.pdf', 'page': 40}, page_content=''),\n",
       " Document(metadata={'source': '/content/combinepdf.pdf', 'page': 41}, page_content=''),\n",
       " Document(metadata={'source': '/content/combinepdf.pdf', 'page': 42}, page_content='Stakeholders Joint Submission to UN Human Rights Council: Pakistan’s Universal Periodic Review -14th Session\\nWomen’s Resource CentreWomen’s Rights in Pakistan\\nStatus and Challenges\\nStakeholders Joint Submission to UN Human Rights Council:\\nPakistan’s Universal Periodic Review -14th Session\\nOctober 2012\\nA Stakeholders Joint Submission made by Shirkat Gah – Women’s\\nResource Centre on behalf of the following civil society organizationsof Pakistan: \\nAurat Foundation, HomeNet Pakistan, Bedari, Church of Pakistan - Lahore\\nDiocese, Simorgh Women’s Resource and Publication Centre, SudharDevelopment Organization, Women in Struggle for Empowerment (WISE),Ittehad Foundation and Women’s Organization for Rights and Development(WORD)'),\n",
       " Document(metadata={'source': '/content/combinepdf.pdf', 'page': 43}, page_content='Copyright © Shirkat Gah 2013\\nEdited by Shahina Hanif\\nDesigned by Muhammad Asim\\nCover photograph Associated Press (AP)\\nPrinted by Fix Dot Printers \\nPublished by Shirkat Gah - Women’s Resource Centre\\nP.O. Box. 5192, Lahore - Pakistan\\nE-mail: pubs@sgah.org.pk\\nWebsite: www.shirkatgah.org\\nThis publication has been made possible through the generous support of\\nThe Royal Norwegian Embassy.'),\n",
       " Document(metadata={'source': '/content/combinepdf.pdf', 'page': 44}, page_content='Contents\\nList of Acronyms 4\\nIntroduc/gid19fon 5\\n1. Women’s Rights in Pakistan – An Overview 6\\n2. Women’s Poli/gid19fcal Par/gid19fcipa/gid19fon 6\\n3. Local Government 7\\n4. Legisla/gid19fon – Status & Implementa/gid19fon 8\\n5. Violence Against Women 9\\n6. Home-Based Workers 10\\n7. Minority Women’s Rights 11\\n8. ‘Islamiza/gid19fon’ of Criminal Laws: The Qisas and Diyat Provisions and their \\nimpact on cases of ‘Honour’ Killing14\\n9. Inheritance 15\\n10. Alternate Dispute Resolu/gid19fon Mechanisms 16\\n11. Early Age Marriage 18\\nTable: SG recommenda/gid19fons adopted during the UPR Working Group 21'),\n",
       " Document(metadata={'source': '/content/combinepdf.pdf', 'page': 45}, page_content='Women’s Rights in Pakistan Status and Challenges\\n4CNICs Computerized National Identity Cards\\nHRCP Human Rights Commission of Pakistan\\nICCPR International Covenant on Civil and Political Rights\\nILO International Labour Organisation\\nMDGs Millennium Development Goals\\nNCSW National Commission on the Status of Women\\nNADRA National Database and Registration Authority\\nSOPs Standard Operational Procedures\\nSG Shirkat Gah\\nUN United Nations\\nUPR Universal Periodic ReviewList of Acronyms'),\n",
       " Document(metadata={'source': '/content/combinepdf.pdf', 'page': 46}, page_content='Stakeholders Joint Submission to UN Human Rights Council: Pakistan’s Universal Periodic Review -14th Session\\n5Human rights are understood to be fundamental rights that all individuals are entitled to\\nsimply by virtue of being human beings. These rights are all interrelated, interdependent andindivisible\\n1, and are guaranteed by international human rights law that comprises of treaties,\\ncustomary law, general principles and other sources. This legal framework creates duties andobliges governments to both promote and protect the rights of individuals or groups.\\nThe Universal Periodic Review (UPR) is a mechanism of the UN Human Rights Council that\\naims to improve the fulfilment of human rights across the world through an assessment ofthe human rights record of all 193 UN member states every four and a half years. Currently,there is no other mechanism of this kind that exists within the international legal framework.Through this review, states are given the opportunity to highlight the steps they have takenin the promotion and protection of human rights while at the same time providing the spaceto focus on actions that need to be taken to address violations. \\nThis mechanism also provides NGOs and other stakeholders the opportunity to engage with\\nand influence the review process by providing information that is considered during a state’sreview. This information not only provides an accurate picture of the human rights positionon the ground but also helps monitor the implementation of those recommendations andpledges a state agrees to at the end of its review.\\nPakistan’s first Universal Periodic Review was conducted in 2008 by the UPR Working\\nGroup. During the course of the discussions, the majority of the recommendations madewere accepted by Pakistan, making it obligatory for the state to report on theirimplementation at its next review in 2012. \\nShirkat Gah Women’s Resource Centre made a joint submission on behalf of 9 civil society\\norganizations for Pakistan’s 2012 review, the focus of which was the state of women’s rightsin Pakistan and the challenge that exist as regards their promotion and protection. Thissubmission provided an assessment of the implementation of recommendations received bythe government during the first UPR cycle, highlighted developments and existing gaps andmade recommendations. \\nAt the end of this booklet is a table listing the recommendations Shirkat Gah actively lobbied\\nfor and identifies those subsequently adopted by the Working Group.Introduc/gid19fon'),\n",
       " Document(metadata={'source': '/content/combinepdf.pdf', 'page': 47}, page_content='Women’s Rights in Pakistan Status and Challenges\\n61. Women’s Rights in Pakistan – An Overview\\n1.1 Women’s rights and empowerment measures in Pakistan continue to fall\\nshort of projections and promises despite some positive steps to amelioratetheir condition. Pakistan ranks 99 out of 109 countries in the GenderEmpowerment Measure\\n2and has a Gender Inequality Index value of 0.573,\\nranking it 115 out of 146 countries in the 2011 index3. Reported incidents\\nof violence against women increased from 7,571 in 2008 to 8,5394by 2011\\nand while the adult literacy rate in Pakistan is 56%, female literacy standsat 40%\\n5despite the Government’s commitment under the Millennium\\nDevelopment Goals (MDGs) to 87% women’s literacy by 2011. TheGovernment of Pakistan has acknowledged the need to tackle patriarchalmindsets and for further legislative reform to address the problem ofviolence against women and ensure the protection of women’s rights\\n6. It is\\na matter of concern however, that in its response to comments as the Stateunder Review, Pakistan was mostly silent on the issues of jirgas\\n7and the\\nprovisions under Qisas and Diyat with regard to cases of honour killings or,at best, buried said issues under generalized blanket women-centricresponses. \\n2. Women’s Poli/gid19fcal Par/gid19fcipa/gid19fon\\n2.1 The current representation of women in National Parliament andProvincial Legislatures is ensured with 17% seats reserved for women.Women occupy 22.2 % seats in the National Assembly, 17% in theSenate of Pakistan and 126 out of 728 seats (17.6%) in the ProvincialAssemblies.\\n2.2 Reserved seats are a welcome and necessary step. Data indicates that womenon reserved seats are among the most active in the Provincial and NationalAssemblies and in the Senate. Of the 71 private member bills that wereintroduced in 2008-09, 57 were introduced by women on reserved seats, ofwhich 8 introduced in 2008 directly related to women. Similarly, in 2010-11, the majority of the bills were introduced by women on reserved seats\\n8.\\nThese women challenged social and cultural norms and introduced billsagainst domestic violence, women trafficking, discriminatory practicesagainst women, and bills pertaining to women’s reproductive rights. Womenlegislators have not restricted themselves to addressing women’s issues only;'),\n",
       " Document(metadata={'source': '/content/combinepdf.pdf', 'page': 48}, page_content='Stakeholders Joint Submission to UN Human Rights Council: Pakistan’s Universal Periodic Review -14th Session\\n7they have also introduced amendments pertaining to a broad range of issues\\nfrom citizenship to Anti-terrorism.\\n2.3 Increasing women’s reserved seats in Parliament and Provincial Assemblies to33%, and restoring the local government system with 33% women’s reservedseats will ensure women’s increased and effective contribution on all matterspertaining to citizenry.\\n3. Local Government\\n3.1 The Local Government System, introduced under the Local GovernmentOrdinance 2001, expired on 31 December 2009. Although introduced bya military dictator to create a political constituency, this system clearlyemerged as a nursery for potential grass roots politicians who lacked eithermoney or clout, or both. Under the Local Government System, 33% seatswere reserved for women and with its end, women’s representation indecision-making at the grassroots was terminated. Despite shortcomings inthe manner in which women were nominated to the reserved seats, thesystem was a springboard for numerous women to enter provincial levelpolitics. Elected on non-partisan platforms, these women later joinedpolitical parties and were elected to Provincial Assemblies. In the 2008General Elections, 6 local women councillors were elected as Members ofProvincial Assemblies.\\nRecommenda/gid19fons\\na. Restore the Local Government System with 33% reserved seats for\\nwomen.Recommenda/gid19fons\\na. Increase women’s seats in the Parliament and Provincial Assemblies\\nto 33%.\\nb. Increase the number of directly elected women in poli/gid19fcal par/gid19fes.\\nThis is recommended in addi/gid19fon to the reserva/gid19fon of seats under the current aﬃrma/gid19fve measures for women’s poli/gid19fcalpar/gid19fcipa/gid19fon.\\n'),\n",
       " Document(metadata={'source': '/content/combinepdf.pdf', 'page': 49}, page_content='Women’s Rights in Pakistan Status and Challenges\\n84. Legisla/gid19fon: Status & Implementa/gid19fon \\n4.1 There has been significant progress in legislation on women’s issues in Pakistan\\nand many laws have been enacted for the protection and promotion ofwomen’s rights in the period between 2010 and March 2012. These lawscriminalize forced marriages and other customary practices discriminatingagainst women, such as, giving women in marriage to settle civil or criminalliability\\n9, domestic violence10, acid crimes11and sexual harassment within the\\nworkplace12. The Women in Distress and Detention Fund Act has also been\\namended to enable the Ministry of Human Rights13to use the fund in order\\nto provide financial and legal assistance to women in jail. Moreover, onInternational Women’s Day in March 2012, the President gave his assent to thebill establishing an autonomous and effective National Commission on theStatus of Women (NCSW)\\n14. However, the 18th Constitutional Amendment\\nin April 2010 halted the legislative process by Parliament on many issuesrelated to women’s rights and several bills lapsed as this amendment broughtthis subject within the domain of Provincial legislation\\n15. Provinces must now\\ninstitute legislation in areas such as domestic violence.\\n4.2 The implementation of rights under the law is also hampered due to theprevalent patriarchal mindset of law enforcement institutions. Gendersensitization training needs to be incorporated as part of the foundationaltraining at the time of induction and must become a prerequisite forpromotion within the police, judiciary and the local administration.\\n4.3 The level of public awareness about the law is very low in Pakistan. Themedia plays an important role in raising public awareness but it is neithertrained nor equipped to understand women’s issues or highlight violationsof women’s rights. \\nRecommenda/gid19fons\\na. Ensure the implementa/gid19fon of exis/gid19fng legisla/gid19fon in le/gid1a9er and spirit\\nand develop the requisite rules under these laws where required.Mechanisms for the eﬀec/gid19fve enforcement of all new legisla/gid19fon thathas been introduced for the protec/gid19fon of women should bedeveloped with Standard Opera/gid19fonal Procedures (SOPs) for therelevant duty bearers. \\n'),\n",
       " Document(metadata={'source': '/content/combinepdf.pdf', 'page': 50}, page_content='Stakeholders Joint Submission to UN Human Rights Council: Pakistan’s Universal Periodic Review -14th Session\\n95. Violence Against Women\\n5.1 Women have experienced an increase in violence including sexual and\\ndomestic violence, acid throwing, killings and rape. According to incidentsreported and registered at different forums (police stations, Courts andcomplaint cells), there has been a 13% increase in crimes against womensince 2008\\n17. More than 2000 women were killed in the name of honour\\nfrom 2008 to the end of 201018. The actual numbers may be more since\\nmany cases go unreported. \\n5.2 Support structures for dealing with victims of violence are limited andunder resourced. There are currently only 44 Government-run women’sshelters in a population of 177.10 million (of which women are estimatedto be 48-50%)\\n19. Till 2010, 23 women’s emergency crisis support centres\\naugmented services to survivors of violence. Following the devolution ofthe crisis centres for women established by the Federal Government to theProvincial Governments under the 18th Constitutional Amendment, thePunjab Government has refused to adopt twelve such functional centres,replacing them instead with crisis support desks that only serve as referralmechanisms. Other provinces have adopted Women’s Crisis Centres buthave failed to provide adequate and timely budgetary allocations to theseb. All line departments and implemen/gid19fng agencies including the\\npolice, subordinate judiciary, medico legal units and burn units ofhospitals to be given proper orienta/gid19fon on laws related to theprotec/gid19fon of women against various forms of violence includingforced marriages, sexual harassment and injuries through all formsof burns including acid and other substances.\\nc. Laws that are discriminatory towards women to be abolished. These\\ninclude the provisions of Qisas and Diyat and the law ofinheritance\\n16.\\nd. Legisla/gid19fon to be enacted on issues like domes/gid19fc violence and a\\nstandardized minimum age of marriage for both males and females.The NCSW has dra/gid14ced proposals regarding legisla/gid19fon for HinduFamily Laws and a review of Chris/gid19fan Family Laws which should betaken up by the concerned legislatures.'),\n",
       " Document(metadata={'source': '/content/combinepdf.pdf', 'page': 51}, page_content='Women’s Rights in Pakistan: Status and Challenges\\n10centres thereby sending a message that women’s issues occupy low priority\\nin Government budgets. There are currently only 3 recognized GovernmentBurn Units in civil hospitals in Pakistan and 3 Burn Units in militaryhospitals. While some District hospitals provide burn treatment, they arepoorly equipped to handle serious cases, especially those arising from acidviolence. Many patients are denied treatment because of a lack of burn unitsin major public hospitals.\\n6. Home-Based Workers\\n6.1 As part of Pakistan’s 2008 Universal Periodic Review, it was recommendedthat Pakistan adapt labour legislation and align it with the provisions of theInternational Labour Organisation (ILO) Conventions. Pakistan was alsoasked about its plans to harmonize national legislation with internationalobligations in the field of labour laws (Slovenia)\\n20. \\n6.2 It has been estimated that there are 8.52 million home based workers inPakistan and within this sector the proportion of women comes to aboutRecommenda/gid19fons\\na. Establish new and strengthen exis/gid19fng support structures for vic/gid19fms\\nof violence (Women’s Shelters, Crisis Centres and Burn Units fortreatment of women vic/gid19fms at district level in all provinces).\\nb. The deﬁni/gid19fon of rape to be amended to include sexual intercourse\\nwith a woman in custody or in care of state func/gid19fonaries or in abuseof authority with or without her consent. This should be classiﬁed asstatutory rape. \\nc. Ensure that guidelines developed for Darul amans (Government-run\\nshelters) in the Province of Punjab be fully implemented. Balochistanhas formulated similar guidelines and the Provinces of Sindh andKhyber-Pakhtunkhwa should develop similar guidelines andopera/gid19fonal procedures for Darul amans along with establishing atleast one such shelter in each District.\\nd. Address gaps and gender biases in educa/gid19fonal/professional\\ntextbooks and training curricula for the advancement of a gender-sensi/gid19fve and rights-based approach towards public service.\\n'),\n",
       " Document(metadata={'source': '/content/combinepdf.pdf', 'page': 52}, page_content='Stakeholders Joint Submission to UN Human Rights Council: Pakistan’s Universal Periodic Review -14th Session\\n1165%21. Currently, workers within this sector are not covered by any\\nlegislation. Therefore neither the terms of their employment nor theirworking conditions are regulated under any legislative framework. In 2007,an initiative was undertaken to develop a National policy on home-basedworkers which resulted in a draft National Framework that is yet to beadopted by the Government.\\n6.3 Moreover, post the 18th Amendment devolution, the four provinces haveto devise their own policy and legislation with regard to home-basedworkers. To that end, Punjab has finalized a policy draft which is to bepresented, and a task force has been announced in Sindh headed by theDepartment of Labour which is responsible for reviewing the draft policyfor Sindh. \\n7. Minority Women’s Rights\\n7.1 Pakistan, during the 2008 Review, stated that it considered minorities to bean integral part of Pakistani society and that they enjoyed equal civil andpolitical rights. In response to various comments on religious minorities, theDelegation of Pakistan defended its position against what it termed was ‘avery wrong perception of the treatment of minorities’. It was stated thatminorities represent only 3 percent of the total population, that manymembers of the Christian and Hindu minorities hold important positions,Recommenda/gid19fons\\na. Home-based workers to be recognized and the Department of\\nLabour to make arrangements for their registra/gid19fon along withregistering their category of work.\\nb. The Government to ensure the inclusion of home based workers in\\nsocial safety nets.\\nc. The Government to pass legisla/gid19fon in order to provide adequate\\nsafety and compensa/gid19fon to such workers. \\nd. There is a need to improve the role and contribu/gid19fon of women in the\\nlabour force and to provide them equal opportuni/gid19fes foremployment by introducing the principle of equal pay for work ofequal value adopted with the ra/gid19fﬁca/gid19fon of ILO Conven/gid19fon No. 100\\n22.\\n'),\n",
       " Document(metadata={'source': '/content/combinepdf.pdf', 'page': 53}, page_content='Women’s Rights in Pakistan Status and Challenges\\n12and that the migration of minorities was not caused by discrimination, but\\nby better opportunities elsewhere23.\\n7.2 Hindus and Christians confront increasing social discrimination and stigmabased on stereotypes. In cases of violence and discrimination, women ofthese religious minorities face double jeopardy because of their gender andreligion. This is a matter of serious concern resulting in multiple socialproblems including abduction, forced conversion and marriages of non-Muslim women from the Hindu and Christian communities with Muslimmen. Conversions of non-Muslim women to Islam are often accompaniedby violence and coercion\\n24. Forced conversion of Hindu women to Islam is\\non the rise; Human Rights Commission of Pakistan (HRCP) reported anaverage of 25 forced conversions per month\\n25in Pakistan despite the\\nguarantee of freedom of belief and equal protection before the law underthe Constitution. Law enforcement officers fail to cooperate with the familiesof abducted and forcibly converted women. These conversions are mostlyreported only in the case of women who are kept from meeting their families.A collusion of local landlords and influential persons with religious zealotsis being seen to operate in Sindh to keep women under the control of theirabductors. These problems are further compounded as legislation pertainingto their personal laws is not available.\\n7.3 Hindu married couples face numerous problems when travelling and lodgingoutside their place of residence. Moreover, Hindu women are deprived oftheir right to property and other rights conferred upon a divorced orwidowed woman; have difficulty in accessing heath facilities; and are unableto contribute to social, economic and political processes. Hindus have longbeen demanding legislation to register Hindu marriages, and in 2011 a Billwas presented in the National Assembly to pass a law to register Hindumarriages but so far there has been no progress. A 5% quota in all FederalGovernment jobs for minorities was also allocated by a notification on 26May 2009 but its application is not visible.\\n7.4 In November 2009, when the National Database and RegistrationAuthority (NADRA) rejected a Hindu woman’s request for a marriagecertificate on the grounds that ‘no such mechanism or legislation was inplace’, the Chief Justice of Pakistan took suo moto action and directed the\\nGovernment to legislate on the issue of Hindu marriage registration. TheSupreme Court of Pakistan has ordered NADRA to address problems facedby Hindu women in obtaining Computerized National Identity Cards'),\n",
       " Document(metadata={'source': '/content/combinepdf.pdf', 'page': 54}, page_content='Stakeholders Joint Submission to UN Human Rights Council: Pakistan’s Universal Periodic Review -14th Session\\n13(CNICs), as it has affected three million Hindus in the country. NADRA\\nhas been asked to amend its rules and regulations for the issuance of CNICsto Hindu women.\\n7.5 In another positive development, efforts have been made to recognize therights of sexual minorities (albeit with limitations). In 2009, the SupremeCourt recognized the basic human rights of transgender citizens in itsjudgment. NADRA has been directed to issue CNICs to the transgenderedcommunity, and in November 2011, the Supreme Court directed theElection Commission of Pakistan to enrol them as voters. The SupremeCourt has also ordered all the district administrations in the country tohelp transgender people get property due to them as part of theirinheritance.\\nRecommenda/gid19fons\\na. All types of legal discrimina/gid19fon against non-Muslims with respect to\\ntheir status as equal ci/gid19fzens to be removed. This includesdiscrimina/gid19fon against their poli/gid19fcal par/gid19fcipa/gid19fon and discrimina/gid19fonas regards their evidence under certain laws e.g. HudoodOrdinances, 1979. \\nb. The exis/gid19fng personal status laws of religious minori/gid19fes to be\\nreviewed and amended. Required legisla/gid19fon to be enactedspeciﬁcally for those minori/gid19fes (Hindus and Sikhs) that areprimarily governed under their custom rather than any statutoryprovisions.\\nc. Legisla/gid19fve and administra/gid19fve eﬀorts to be made to end forced\\nconversions to Islam of vulnerable women belonging to religiousminori/gid19fes. The vic/gid19fms of this prac/gid19fce should be provided witheﬀec/gid19fve redress and protec/gid19fon. \\nd. The representa/gid19fon of women belonging to religious minori/gid19fes\\nagainst reserved seats to be ensured.\\ne. The issuance of CNICs for Hindu women to be ensured.f. The Government to ensure implementa/gid19fon of the Supreme Court’s\\norders regarding the issuance of CNICs for the transgendercommunity along with securing their share in inheritance.\\n'),\n",
       " Document(metadata={'source': '/content/combinepdf.pdf', 'page': 55}, page_content='Women’s Rights in Pakistan Status and Challenges\\n148. ‘Islamiza/gid19fon’ of Criminal Laws: The Qisas and Diyat\\nProvisions and their impact on cases of ‘Honour’ Killing\\n8.1 One of the recommendations made by the Czech Republic in the 2008\\nReview was to prohibit in all circumstances the use of the provisions of theQisas and Diyat law in cases of ‘honour’ killings. It is important to note thatPakistan considered this recommendation as neither a universally recognizedhuman right nor in conformity with its existing laws, pledges andcommitments, and therefore did not accept it\\n26.\\n8.2 ‘Honour’ killing is a term used to denote the murder of women (and men)under the pretext of restoring the family’s honour. These murders are alsoperpetrated within the context of property disputes and the inheritancerights of women.\\n8.3 According to the HRCP Report for the year 2011, “at least 943 women werekilled in the name of honour, of which 93 were minors. The purportedreasons given for this were illicit relations in 595 cases and the demand tomarry of their own choice in 219 cases. The murderers were mostly brothersand husbands, in 180 cases the murderer being a brother and in 226 casesbeing the husband of the victim. The majority of cases (557) were of marriedwomen”\\n27. \\n8.4 Currently, as per the law, murder is primarily a crime against the personrather than a crime against the State and is governed by the provisions ofQisas and Diyat introduced in the criminal law in the year 1990 as part ofthe effort to ‘Islamize’ laws in Pakistan. These changes redefined the offencesof murder and manslaughter along with their punishments in ‘Islamic’terms and the provision for retribution or blood money was made available.The introduction of the Qisas and Diyat provisions have provided astatutory right to the heirs of the deceased to pardon the killer/s, ask forcompensation or demand retribution. These provisions have also exemptedsome relations from any mandatory imprisonment sentences. A parent cankill a child or a grandchild and the only sentence under the law is bloodmoney, though the Court has the discretion to sentence the accused toimprisonment for twenty-five years depending upon the facts andcircumstances of the case. There is no minimum sentence mentioned in thelaw. In practice, however, it is rare for a parent to be sentenced withimprisonment for killing their own child. There is a similar provision for aspouse killing the other spouse provided there is a living child at the time'),\n",
       " Document(metadata={'source': '/content/combinepdf.pdf', 'page': 56}, page_content='Stakeholders Joint Submission to UN Human Rights Council: Pakistan’s Universal Periodic Review -14th Session\\n15of the killing. These provisions prove handy in cases of ‘honour’ killings as\\nthe majority of such murders of women in Pakistan are committed byfamily members who either benefit from these provisions or are ‘forgiven’by the heirs of the deceased.\\n8.5 The Government of Pakistan has introduced some measures to combat‘honour’ killings and gender discriminatory legal practices, however, the corelegal problems in relation to ‘honour’ killings have not been addressed. Theamendments introduced in the criminal law in January 2005\\n28did not prove\\neffective, as the key loopholes within the law were not plugged. Until theprovisions of Qisas and Diyat are revoked the perpetrators of ‘honourkillings’ will not fear retribution and Pakistan would be unable to complywith its international obligation of discouraging discrimination againstwomen. \\n9. Inheritance\\n9.1 During the 2008 Review, Luxembourg recommended ending genderinequality, particularly with regards to property\\n29. \\n9.2 The legislative framework regulating the law of inheritance for Muslims inPakistan results in inequalities between the shares received by men andwomen\\n30. Moreover, with regard to the share that is prescribed by the law,\\nmost women feel that they are manipulated out of it or are under socialpressure to forfeit it in favour of the male members of the family. TheConstitution of Pakistan gives women the legal right to own property, andwhen cases of denial or usurping women’s inheritance are brought to Court,the Courts have consistently upheld this right even if women haveRecommenda/gid19fons\\na. The provisions allowing for a compromise or a pardoning of the killer\\nby the heirs of the deceased should be removed immediately forpreven/gid19fon of ‘honour’ killings.\\nb. The availability of legal ‘concessions’ to some family members\\n(discussed above) should be repealed immediately and eﬀec/gid19fvesentences should be introduced irrespec/gid19fve of the rela/gid19fonshipbetween the perpetrator and the deceased.\\n'),\n",
       " Document(metadata={'source': '/content/combinepdf.pdf', 'page': 57}, page_content='Women’s Rights in Pakistan Status and Challenges\\n16technically given their share to their brothers. However, in reality customary\\npractices dictate what women are allowed to own, and their right toinheritance is easily evaded under family and social pressures. Generally, inall four provinces of Pakistan, according to customary practice, women donot inherit property and widows customarily lose their right to inheritanceif they remarry outside the family of the deceased husband, even though thelaw prescribes a prompt division of the deceased’s assets and the widow’sright to her share\\n31.\\n9.3 Another practice is that of haq bakhshwana (giving up rights, literally)\\nwhereby girls are either never married, or married to the Quran in order toprevent property going out of the family. Similarly cousin marriages and watta\\nsatta (exchange marriage whereby one set of brother and sister are married to\\nanother) marriages are designed to prevent break up of property as the size ofland and property is associated with power and status\\n32. Even though the\\nlegislative provisions dealing with a woman’s share in the property remainunchanged, the recent amendments in criminal law related to prevention ofanti-women practices have criminalized the practice of depriving women oftheir right to inheritance. The relevant Penal Provisions stipulate that theoffence of depriving a woman of her inheritance by deceitful or illegal meanswould be punishable with imprisonment, which may extend from five to tenyears or with a fine of one million rupees or both. The practice of marryingwomen to the Quran in order to deprive them of their right to inheritancecarries a sentence of three to seven years. An oath by the woman to remainunmarried or not to claim inheritance is also covered by this provision. Theeffective application of this law remains to be seen.\\n10. Alternate Dispute Resolu/gid19fon Mechanisms\\n10.1 In its 2008 Review, Pakistan accepted the Czech Republic’s recommendationto “ensure punishment for perpetrators of violence against women,thoroughly investigate and punish members and leaders of illegal jirgas for\\ntheir calls to violence against women”\\n33.Recommenda/gid19fons\\na. Amend inheritance laws to equalize inheritance for sons and\\ndaughters and change the procedures of succession to facilitatesuccession and control over inheritance.\\n'),\n",
       " Document(metadata={'source': '/content/combinepdf.pdf', 'page': 58}, page_content='Stakeholders Joint Submission to UN Human Rights Council: Pakistan’s Universal Periodic Review -14th Session\\n1710.2 The local jirga system in Pakistan undermines women’s rights by\\ncontinuing to perpetuate their voicelessness and their vulnerability to physical, social and sexual exploitation, especially in the tribal areas. \\n10.3 In April 2004, the Sindh High Court declared the pronouncing of verdictsupon people by jirgas as illegal. The Court ordered the district\\nadministration and police to take actions against such jirgas ; however, in\\npractice this judgment of the High Court is being continuously defied.There are still reported incidents of decisions given by the jirga being\\nenforced\\n34. At present, the Supreme Court is hearing Constitutional\\nPetitions against the holding of jirgas and panchayats . In March 2012, the\\nSupreme Court of Pakistan ordered the Chief Secretaries and the InspectorGeneral of Police (IGP) of all provinces and Islamabad to submit a reporton the holding of illegal jirgas/panchayats . The Court also ordered the\\nofficials concerned to take action against those people who hold jirgas in\\ntheir jurisdiction.\\n10.4 In the past there have been some cases in which the higher Courts tookaction against specific incidents. In December 2010, the Peshawar HighCourt ordered action against jirga members who had taken the decision\\nto hand over two teenage sisters to a rival family as a means of settling adispute between the two families\\n35. The Bench observed that neither\\nIslam nor the laws of Pakistan allowed such inhuman and brutalcustomary practices and ordered a First Information Report to beregistered against the jirga members. On the directives of the Peshawar\\nHigh Court, the police arrested three members of the jirga that had\\nordered the marriage of the two girls in their rival family against their willwhile a prayer leader and another accused managed to escape. Cases hadbeen registered against the arrested Jirga members but outcomes are still\\nawaited.\\nRecommenda/gid19fons\\na. The Government should take eﬀec/gid19fve measures against all informal\\ndispute resolu/gid19fon mechanisms that perpetrate and perpetuateviolence against women.\\n'),\n",
       " Document(metadata={'source': '/content/combinepdf.pdf', 'page': 59}, page_content='Women’s Rights in Pakistan Status and Challenges\\n1811. Early Age Marriage\\n11.1 Although the prevention of early marriages was recommended in the 2008\\nReview (Switzerland)36, young age marriage continues to be a challenge for\\nfemale empowerment in Pakistan. Forty percent girls are married by age 18and 13% are married by age 15\\n37. In Pakistan, one woman dies every 20\\nminutes during childbirth and the major cause is child marriage. The ChildMarriage Restraint Act establishes a minimum age of marriage at 16 for girlsand 18 for boys, despite overwhelming evidence of the negative impact ofyoung age marriage on their physical, emotional and mental wellbeing.Legislative amendments are needed to establish 18 years as the minimumage of marriage and to criminalize young age marriage with heavy fines andpunishment. Inconsistency in the law on minimum age of marriage alsoneeds to be removed. \\nRecommenda/gid19fons\\na. Standardiza/gid19fon of age of marriage at 18 years for females and males.\\nb. Ensure universal access to reproduc/gid19fve health services including\\ncomprehensive emergency obstetric care and post abor/gid19fon care towomen backed by necessary informa/gid19fon on contracep/gid19fves, birthspacing and abor/gid19fon as applicable under the law.\\nc. Ensure universal primary educa/gid19fon as mandated in the Cons/gid19ftu/gid19fon\\nof Pakistan (Ar/gid19fcle 25 A) and incen/gid19fvize secondary educa/gid19fon forgirls.\\n'),\n",
       " Document(metadata={'source': '/content/combinepdf.pdf', 'page': 60}, page_content='Stakeholders Joint Submission to UN Human Rights Council: Pakistan’s Universal Periodic Review -14th Session\\n191 http://www.ohchr.org/EN/Issues/Pages/WhatareHumanRights.aspx\\n2 United Nations Development Programme, Human Development Report 2009. Overcoming barriers: Human\\nmobility and development, (New York, 2009).\\n3 United Nations Development Programme, Human Development Report 2011. Sustainability and Equity: A\\nBetter Future for All, (New York, 2011).\\n4 Aurat Foundation shared its fourth Annual Report on violence against women in Pakistan at a press\\nconference in Islamabad on 16 August 2011. Press briefing available @http://www.af.org.pk/PDF/VAW%20Reports%20AND%20PR/PR/Press%20Release%202011%20%20English.pdf\\n5 The World Bank, World Development Report 2012. Gender Equality and Development, (Washington DC,\\n2011).\\n6 UN Human Rights Council, Report of the Working Group on the Universal Periodic Review: Pakistan,\\n4 June 2008, A/HRC/8/42. Available @http://lib.ohchr.org/HRBodies/UPR/Documents/Session2/PK/A_HRC_8_42_Pakistan_E.pdf\\n7 An assembly of male elders.8 Amina Samiuddin, Reserved seats: a cognitive space for women? Paper presented at a seminar\\n‘Empowerment Processes: Choices, Obstacles and Outcomes’ organized by Shirkat Gah in June 2010, andat the international conference on ‘Global Transformations and Local Mobility: Rebuilding Pakistan afterCrises’ organized by Shirkat Gah and Lahore University of Management Sciences in March 2011.\\n9 The Prevention of Anti-Women Practices (Criminal Law Amendment) Act, 2011.10 Domestic Violence (Prevention and Protection) Act, 2012. It should be noted however, that this Act is\\napplicable within Islamabad only. In March 2013, the Sindh Assembly passed legislation pertaining todomestic violence.\\n11 Criminal Law (Second) Amendment Act, 2011. Through this amendment, provisions have been added in the\\nPenal Code that carry heavy punishments for the crime of inflicting injuries through acid or such otherdangerous substances.\\n12 Protection against Harassment of Women at the Workplace Act, 2010. Through another amendment the\\noffence of sexual harassment was included in the Penal Code and its sentence was enhanced.\\n13 This Ministry was established as a separate entity with effect from 2008.14 National Commission on the Status of Women Act, 2012. This Commission has already been working since\\nits establishment in the year 2000 through a Presidential Ordinance. The new law has strengthened thecomposition and working of the Commission and granted it more autonomy.\\n15 Examples include Bills related to amendments in the Muslim Family Laws, new legislation pertaining to\\nfamily laws for the Hindu community and the Guardians and Wards Act, 1890 that lapsed.\\n16 See sections on Islamization of Criminal Laws and Inheritance on pgs. 14 & 15.17 http://epaper.dawn.com/~epaper/DetailImage.php?StoryImage=15_01_2012_004_00518 Human Rights Commission of Pakistan, State of Human Rights in 2008; State of Human Rights in 2009;\\nand State of Human Rights in 2010 (Pakistan).\\n19 Government of Pakistan, Pakistan Economic Survey 2010-11 (Islamabad, 2011).End Notes'),\n",
       " Document(metadata={'source': '/content/combinepdf.pdf', 'page': 61}, page_content='Women’s Rights in Pakistan Status and Challenges\\n2020 Report of the Working Group on the Universal Periodic Review: Pakistan, 4 June 2008, A/HRC/8/42, p.6.\\n21 Human Rights Commission of Pakistan, State of Human Rights in 2011, p.198 (Pakistan, 2012).\\n22 Equal Remuneration Convention, 1951 (No. 100).23 Report of the Working Group on the Universal Periodic Review: Pakistan, 4 June 2008, A/HRC/8/42, p.10.\\n24 National Commission for Justice and Peace, Life on the Margins: A Study on the Minority Women in\\nPakistan (Pakistan, 2012). Available @ http://www.ncjp-pk.org/media/publications/lifeenglish.pdf\\n25 Rabia Ali, The News, 30 March, 2010, 25 Hindu girls abducted every month, claims HRCP official. Available\\n@ http://www.thenews.com.pk/TodaysPrintDetail.aspx?ID=231616&Cat=4&dt=3/31/2010\\n26 Report of the Working Group on the Universal Periodic Review: Pakistan, 4 June 2008, A/HRC/8/42, p.12.\\n27 State of Human Rights in 2011, p.167.\\n28 Criminal Law (Amendment) Act, 2004 (Act I of 2005).29 Report of the Working Group on the Universal Periodic Review: Pakistan, 4 June 2008, A/HRC/8/42, p.9.\\n30 There is no corresponding law for Hindus and Sikhs and matters pertaining to inheritance are governed\\nunder customary practices.\\n31 Khawar Mumtaz and Meher Nosherwani, Scoping Study, Women’s Access and Rights to Land and Property\\nin Pakistan, International Development Research Centre (IDRC) under the Rural Poverty and Environment\\nProgramme (2006).\\n32 Ibid33 Report of the Working Group on the Universal Periodic Review: Pakistan, 4 June 2008, A/HRC/8/42, p.12.\\n34 State of Human Rights in 2010.\\n35 The Daily Times, January 02, 2011, Jirga members arrested in forced marriage case. Available @\\nhttp://www.dailytimes.com.pk/default.asp?page=2011\\\\01\\\\02\\\\story_2-1-2011_pg7_6\\n36 Report of the Working Group on the Universal Periodic Review: Pakistan, 4 June 2008, A/HRC/8/42, p.9.\\n37 Khawar Mumtaz, Sohail Warraich, Shariq Imam et. al., Age of Marriage: A Position Paper, p. 1 (Committee\\nfor Standardisation of Female Age of Marriage, Final Draft 2010).'),\n",
       " Document(metadata={'source': '/content/combinepdf.pdf', 'page': 62}, page_content='21Sr # SG Recommendation Adopted Relevant Concluding Observation Country\\nPolitical Participation\\n1 Increase women’s seats in the Parliament and\\nProvincial Assemblies to 33%.✓ Ensure equal political participation and withdrawreservations to articles 3 and 25 of the ICCPR asthese reservations remain critical to ensure equalityrights of women and men and equal opportunities(122.14) United Kingdom ofGreat Britain andNorthern Ireland\\n2 Increase the number of directly elected womenin political parties. This is recommended inaddition to the reservation of seats under thecurrent affirmative measures for women’spolitical participation.\\nLocal Government\\n3 Restore the Local Government System with33% reserved seats for women.\\nLegislation – Status & Implementation\\n4 Ensure the implementation of existing legislation\\nin letter and spirit and develop the requisiterules under these laws where required.Mechanisms for the effective enforcement of allnew legislation that has been introduced for theprotection of women should be developed withStandard Operational Procedures (SOPs) forthe relevant duty bearers.✓ Continue strengthening and enhancing women rights\\nthrough the enactment of relevant necessary laws whileproviding the necessary administrative and institutionalmechanisms (122.26)\\nContinue strengthening the legislation for the elimination of\\nall forms of discrimination against women (122.35)\\nSteadily implement as well as further enhance measures to\\naddress discrimination and violence against women(122.85)Palestine\\nUruguay\\nJapanTable indica/gid19fng SG recommenda/gid19fons adopted during the UPR Working Group\\n(16 out of 28 SG Recommendations Adopted)'),\n",
       " Document(metadata={'source': '/content/combinepdf.pdf', 'page': 63}, page_content='22\\nSr # SG Recommendation Adopted Relevant Concluding Observation Country\\nLegislation – Status & Implementation\\nContinue developing the institutional framework with respect\\nto the promotion and protection of human rights (122.16)\\nTake necessary measures to end harmful traditional\\npractices against women, sexual harassment in publicand work places and domestic violence (122.90)Jordan\\nChad\\n5 All line departments and implementing\\nagencies including the police, subordinatejudiciary, medico legal units and burn units ofhospitals to be given proper orientation on lawsrelated to the protection of women againstvarious forms of violence including forcedmarriages, sexual harassment and injuriesthrough all forms of burns including acid andother substances.✓ Continue providing and improving human rights educationand training for judicial and law enforcement officials(122.63/64)\\nEnhance its efforts in the area of human rights education,\\ntraining and awareness for its officials involved in theimplementation of the related human rights law andlegislation (122.65)\\nContinue organizing awareness educational courses on\\nhuman rights, including training on equality between womenand men, and on women’s rights (122.94)\\nTrain its law enforcement personnel on gender sensitivity\\nand equality (122.97)Uganda &Democratic People’sRepublic of Korea\\nMalaysia\\nLibyan Arab\\nJamahiriya\\nSlovakia\\n6 Laws that are discriminatory towards women to\\nbe abolished. These include the provisions ofQisas and Diyat and the Law of Inheritance.✓ Promote the repeal of all legal and administrative provisionsremaining, which discriminate against women and girls(122.22) Mexico\\n7 Legislation to be enacted on issues likedomestic violence and a standardized minimumage of marriage for both males and females.The NCSW has drafted proposals regardinglegislation for Hindu Family Laws and a reviewof Christian Family Laws which should be takenup by the concerned legislatures. ✓ Enact a provincial legislation on domestic violence as wellas an increased number of support structures for women onthe provincial level (122.21)\\nSustain the positive momentum in upgrading its laws and\\ninstitutions, in particular in the areas of the rights of womenand children (122.23)Sweden\\nMyanmar'),\n",
       " Document(metadata={'source': '/content/combinepdf.pdf', 'page': 64}, page_content='23Sr # SG Recommendation Adopted Corresponding Concluding Observation Country\\nLegislation – Status & Implementation\\nAdopt the Bill on Anti-Domestic Violence at the earliest\\npossible (122.25) \\nContinue developing adequate measures to guarantee in law\\nand practice the equality of women, particularly their right toeducation, and fight effectively discrimination against womenand gender violence (122.83)Maldives\\nSpain\\nViolence Against Women\\n8 Establish new and strengthen existing support\\nstructures for victims of violence (Women’sShelters, Crisis Centres and Burn Units fortreatment of women victims at District level inall Provinces).✓ Enact a provincial legislation on domestic violence as well as\\nan increased number of support structures for women on theprovincial level (122.21)\\nContinue to enhance its efforts to protect women, children\\nand other vulnerable groups against discrimination andviolence (122.41)\\nCreate mechanisms to protect and support victims of sexual\\nviolence or gender violence (122.61)\\nPut in place effective monitoring and reporting mechanisms\\nto ensure respect for women’s rights and to addressviolence against women in all its forms (122.53)\\nEnsure the reporting and investigation of cases of violence\\nagainst women, effective awareness campaign againstviolence and consolidate measures to address sexualabuses and exploitation of children (122.107)Sweden\\nSingaporeSwitzerland\\nSlovenia\\nEgypt\\n9 The definition of rape to be amended to\\ninclude sexual intercourse with a woman incustody or in care of state functionaries or inabuse of authority with or without herconsent. This should be classified asstatutory rape.'),\n",
       " Document(metadata={'source': '/content/combinepdf.pdf', 'page': 65}, page_content='24\\nSr # SG Recommendation Adopted Corresponding Concluding Observation Country\\nViolence Against Women\\n10 Ensure that guidelines developed for Darul\\namans (Government-run shelters) in the Province\\nof Punjab be fully implemented. Balochistan hasformulated similar guidelines and the Provincesof Sindh and KPK should develop similarguidelines and operational procedures for Darul\\namans along with establishing at least one such\\nshelter in each District.✓ Steadily implement as well as further enhance measures toaddress discrimination and violence against women(122.85) Japan\\n11 Address gaps and gender biases ineducational/professional textbooks and trainingcurricula for the advancement of a gender-sensitive and rights-based approach towardspublic service. ✓ Review public school curricula in order to eliminate prejudice\\nagainst religious and other minorities (122.149)\\nImprove the education system and school textbooks and\\npromote the full safeguarding of religious freedom and otherhuman rights by programmes which, beginning in primaryschool and within the context of religious instruction, will educateeveryone to respect their brothers in humanity (122.150)\\nInclude human rights education in school curricular\\n(122.152)Germany\\nHoly See\\nPalestine\\nHome Based Workers\\n12 Home based workers to be recognized and the\\nDepartment of Labour to make arrangementsfor their registration along with registering theircategory of work.\\n13 The Government to ensure the inclusion ofhome based workers in social safety nets.\\n14 The Government to pass legislation in order toprovide adequate safety and compensation tosuch workers. ✓ Continue to spearhead progress toward the promotion ofgender equality and development for women, in particular,in areas of education and employment (122.88) Cambodia'),\n",
       " Document(metadata={'source': '/content/combinepdf.pdf', 'page': 66}, page_content='25Sr # SG Recommendation Adopted Corresponding Concluding Observation Country\\nHome Based Workers\\n15 There is a need to improve the role and\\ncontribution of women in the labour force andto provide them equal opportunities foremployment by introducing the principle ofequal pay for work of equal value adopted withthe ratification of ILO Convention 100.✓ Maintain the momentum to protect the rights of women aswell as to empower women in the area of economicdevelopment through various legislative measures andinstitutional mechanisms (122.89) BruneiDarussalam\\nMinority Women’s Rights\\n16 All types of legal discrimination against non-Muslims with respect to their status as equalcitizens to be removed. This includesdiscrimination against their political participationand discrimination as regards their evidenceunder certain laws e.g.  Hudood Ordinances,1979. ✓ Take appropriate, efficient measures to preventdiscrimination and violence against religious minorities,bringing instigators of religious violence to justice(122.157)\\nAmend discriminatory laws and vigilantly counter\\ndiscrimination against marginalized groups, includingwomen and girls, ethnic and religious minorities and providea safe and just environment for all citizens in Pakistan(122.38)\\nHold accountable those who commit religiously motivated\\nacts of violence (122.112)\\nInvestigate attacks and violence against religious\\nminorities and sects and bring those responsible to justice(122.113)Slovakia\\nDenmark\\nUnited States of\\nAmerica\\nNorway\\n17 The existing personal status laws of religious\\nminorities to be reviewed and amended.Required legislation to be enacted specificallyfor those minorities (Hindus and Sikhs) that areprimarily governed under their custom ratherthan any statutory provisions.'),\n",
       " Document(metadata={'source': '/content/combinepdf.pdf', 'page': 67}, page_content='26\\nSr # SG Recommendation Adopted Corresponding Concluding Observation Country\\nMinority Women’s Rights\\n18 Legislative and administrative efforts to be\\nmade to end forced conversions to Islam ofvulnerable women belonging to religiousminorities. The victims of this practice shouldbe provided with effective redress andprotection.✓ Adopt measures to ensure the protection of religious\\nminorities, including Ahmadis, Christians, Hindus and Sikhs,prevent the abuse of blasphemy legislation, halt forcedconversions, and take necessary steps to prevent violenceagainst members of religious minority communities(122.156)\\nFurther enhance measures to combat and prevent\\ndiscrimination against vulnerable groups (122.96)\\nContinue efforts to enhance legislations and measures to\\nfurther address the situation of religious minorities, includingblasphemy laws, forced conversion and discriminationagainst non-Muslim minorities (122.121)Canada\\nMyanmar\\nThailand\\n19 The representation of women belonging to\\nreligious minorities against reserved seats tobe ensured.\\n20 The issuance of National Identity Cards forHindu women to be ensured.\\n21 The Government to ensure implementation ofthe Supreme Court’s orders regarding theissuance of National Identity Cards for thetransgender community along with securingtheir share in inheritance.\\n‘Islamization’ of Criminal Laws: The Qisas and Diyat Provisions and their impact on cases of ‘Honour’ Killing\\n22 The provisions allowing for a compromise or a\\npardoning of the killer by the heirs of thedeceased should be removed immediately forprevention of ‘honour’ killings.'),\n",
       " Document(metadata={'source': '/content/combinepdf.pdf', 'page': 68}, page_content='27Sr # SG Recommendation Adopted Corresponding Concluding Observation Country\\n‘Islamization’ of Criminal Laws: The Qisas and Diyat Provisions and their impact on cases of ‘Honour’ Killing\\n23 The availability of legal ‘concessions’ to some\\nfamily members should be repealedimmediately and effective sentences should beintroduced irrespective of the relationshipbetween the perpetrator and the deceased.\\nInheritance\\n24 Amend inheritance laws to equalize\\ninheritance for sons and daughters andchange the procedures of succession tofacilitate succession and control overinheritance.\\nAlternate Dispute Resolution Mechanisms\\n25 The Government should take effective\\nmeasures against all informal disputeresolution mechanisms that perpetrate andperpetuate violence against women.✓ Ensure that women are not submitted to illegal paralleljudicial system (122.108)\\nDecriminalize adultery and non-marital consensual sex and\\nto ensure punishment for all perpetrators of this violenceand calls to it including members and leaders of jirgas(122.37)Italy\\nCzech Republic\\nEarly Age Marriage\\n26 Standardization of age of marriage at 18 years\\nfor females and males.✓ Take effective measures to prevent forced or earlymarriage, in particular with a view to ending rape, sexualexploitation and forced conversions of scheduled castegirls (122.103) Austria\\nTake steps to implement laws and policies with a view toeliminating early and forced marriage (122.102) Canada'),\n",
       " Document(metadata={'source': '/content/combinepdf.pdf', 'page': 69}, page_content='28\\nSr # SG Recommendation Adopted Corresponding Concluding Observation Country\\nEarly Age Marriage\\n27 Ensure universal access to reproductive health\\nservices including comprehensive emergencyobstetric care and post abortion care to womenbacked by necessary information oncontraceptives, birth spacing and abortion asapplicable under the law.✓ Continue its efforts for the improvement of the healthsystem and the elimination of discrimination against womenand discrimination on the basis of caste (122.92)\\nTake additional measures to facilitate access to health\\nservice for all members of society, especially women(122.139)Holy See\\nOman\\n28 Ensure universal primary education as\\nmandated in the Constitution of Pakistan(Article 25 A) and incentivize secondaryeducation for girls.✓ Continue strengthening its efforts to improve the socio-\\neconomic conditions of its people especially on promotingthe rights to education for all its young citizens (122.140)\\nStrengthen its efforts to combine social security and poverty\\nalleviation measures with the free and compulsoryeducation programme that will enable the provision of the\\nfree education for all children (122.141)\\nFormulate executive plans for attaining the MDG on primary\\nand free education by 2015 (122.142)\\nIncrease its allocation of resources devoted to education\\n(122.143)\\nContinue current efforts to increase the literacy rate and\\npromote universal access to education (122.144)\\nContinue its efforts to ensure the enrolment of all segments of\\nsociety in education (122.145)\\nConsider providing universal free primary education to all\\nchildren, regardless of their sex, nationality, race or ethnic origin(122.146)\\nContinue to make efforts to expand access to education,\\nespecially for girls (122.147)\\nEnsure and allocate sufficient resources for girls’ education in\\nall provinces (122.148)Brunei Darussalam\\nIndonesia\\nLibyan Arab\\nJamahiriya\\nNetherlands\\nCubaOmanThailand\\nJapan\\nNamibia'),\n",
       " Document(metadata={'source': '/content/combinepdf.pdf', 'page': 70}, page_content=''),\n",
       " Document(metadata={'source': '/content/combinepdf.pdf', 'page': 71}, page_content='')]"
      ]
     },
     "execution_count": 13,
     "metadata": {},
     "output_type": "execute_result"
    }
   ],
   "source": [
    "loaders = [\n",
    "    PyPDFLoader(\"/content/combinepdf.pdf\"),\n",
    "]\n",
    "docs = []\n",
    "for loader in loaders:\n",
    "    docs.extend(loader.load())\n",
    "docs\n"
   ]
  },
  {
   "cell_type": "code",
   "execution_count": 14,
   "metadata": {
    "id": "LH_Te8rbO42F"
   },
   "outputs": [],
   "source": [
    "\n",
    "vectorstore = Chroma.from_documents(docs, gemini_embeddings)"
   ]
  },
  {
   "cell_type": "code",
   "execution_count": 15,
   "metadata": {
    "id": "gGfmDywVCi0R"
   },
   "outputs": [],
   "source": [
    "question1=\"What are the key challenges faced by women in Pakistan in terms of their political participation?\"\n",
    "question2=\"What are the legislative advancements and existing gaps concerning women’s rights in Pakistan?\""
   ]
  },
  {
   "cell_type": "code",
   "execution_count": 16,
   "metadata": {
    "colab": {
     "base_uri": "https://localhost:8080/"
    },
    "id": "tIc5K__6QCVb",
    "outputId": "02b6b4fb-7e20-4892-ffcc-2d7a67f1d5f7"
   },
   "outputs": [
    {
     "data": {
      "text/plain": [
       "[Document(metadata={'page': 47, 'source': '/content/combinepdf.pdf'}, page_content='Women’s Rights in Pakistan Status and Challenges\\n61. Women’s Rights in Pakistan – An Overview\\n1.1 Women’s rights and empowerment measures in Pakistan continue to fall\\nshort of projections and promises despite some positive steps to amelioratetheir condition. Pakistan ranks 99 out of 109 countries in the GenderEmpowerment Measure\\n2and has a Gender Inequality Index value of 0.573,\\nranking it 115 out of 146 countries in the 2011 index3. Reported incidents\\nof violence against women increased from 7,571 in 2008 to 8,5394by 2011\\nand while the adult literacy rate in Pakistan is 56%, female literacy standsat 40%\\n5despite the Government’s commitment under the Millennium\\nDevelopment Goals (MDGs) to 87% women’s literacy by 2011. TheGovernment of Pakistan has acknowledged the need to tackle patriarchalmindsets and for further legislative reform to address the problem ofviolence against women and ensure the protection of women’s rights\\n6. It is\\na matter of concern however, that in its response to comments as the Stateunder Review, Pakistan was mostly silent on the issues of jirgas\\n7and the\\nprovisions under Qisas and Diyat with regard to cases of honour killings or,at best, buried said issues under generalized blanket women-centricresponses. \\n2. Women’s Poli/gid19fcal Par/gid19fcipa/gid19fon\\n2.1 The current representation of women in National Parliament andProvincial Legislatures is ensured with 17% seats reserved for women.Women occupy 22.2 % seats in the National Assembly, 17% in theSenate of Pakistan and 126 out of 728 seats (17.6%) in the ProvincialAssemblies.\\n2.2 Reserved seats are a welcome and necessary step. Data indicates that womenon reserved seats are among the most active in the Provincial and NationalAssemblies and in the Senate. Of the 71 private member bills that wereintroduced in 2008-09, 57 were introduced by women on reserved seats, ofwhich 8 introduced in 2008 directly related to women. Similarly, in 2010-11, the majority of the bills were introduced by women on reserved seats\\n8.\\nThese women challenged social and cultural norms and introduced billsagainst domestic violence, women trafficking, discriminatory practicesagainst women, and bills pertaining to women’s reproductive rights. Womenlegislators have not restricted themselves to addressing women’s issues only;'),\n",
       " Document(metadata={'page': 53, 'source': '/content/combinepdf.pdf'}, page_content='Women’s Rights in Pakistan Status and Challenges\\n12and that the migration of minorities was not caused by discrimination, but\\nby better opportunities elsewhere23.\\n7.2 Hindus and Christians confront increasing social discrimination and stigmabased on stereotypes. In cases of violence and discrimination, women ofthese religious minorities face double jeopardy because of their gender andreligion. This is a matter of serious concern resulting in multiple socialproblems including abduction, forced conversion and marriages of non-Muslim women from the Hindu and Christian communities with Muslimmen. Conversions of non-Muslim women to Islam are often accompaniedby violence and coercion\\n24. Forced conversion of Hindu women to Islam is\\non the rise; Human Rights Commission of Pakistan (HRCP) reported anaverage of 25 forced conversions per month\\n25in Pakistan despite the\\nguarantee of freedom of belief and equal protection before the law underthe Constitution. Law enforcement officers fail to cooperate with the familiesof abducted and forcibly converted women. These conversions are mostlyreported only in the case of women who are kept from meeting their families.A collusion of local landlords and influential persons with religious zealotsis being seen to operate in Sindh to keep women under the control of theirabductors. These problems are further compounded as legislation pertainingto their personal laws is not available.\\n7.3 Hindu married couples face numerous problems when travelling and lodgingoutside their place of residence. Moreover, Hindu women are deprived oftheir right to property and other rights conferred upon a divorced orwidowed woman; have difficulty in accessing heath facilities; and are unableto contribute to social, economic and political processes. Hindus have longbeen demanding legislation to register Hindu marriages, and in 2011 a Billwas presented in the National Assembly to pass a law to register Hindumarriages but so far there has been no progress. A 5% quota in all FederalGovernment jobs for minorities was also allocated by a notification on 26May 2009 but its application is not visible.\\n7.4 In November 2009, when the National Database and RegistrationAuthority (NADRA) rejected a Hindu woman’s request for a marriagecertificate on the grounds that ‘no such mechanism or legislation was inplace’, the Chief Justice of Pakistan took suo moto action and directed the\\nGovernment to legislate on the issue of Hindu marriage registration. TheSupreme Court of Pakistan has ordered NADRA to address problems facedby Hindu women in obtaining Computerized National Identity Cards'),\n",
       " Document(metadata={'page': 60, 'source': '/content/combinepdf.pdf'}, page_content='Stakeholders Joint Submission to UN Human Rights Council: Pakistan’s Universal Periodic Review -14th Session\\n191 http://www.ohchr.org/EN/Issues/Pages/WhatareHumanRights.aspx\\n2 United Nations Development Programme, Human Development Report 2009. Overcoming barriers: Human\\nmobility and development, (New York, 2009).\\n3 United Nations Development Programme, Human Development Report 2011. Sustainability and Equity: A\\nBetter Future for All, (New York, 2011).\\n4 Aurat Foundation shared its fourth Annual Report on violence against women in Pakistan at a press\\nconference in Islamabad on 16 August 2011. Press briefing available @http://www.af.org.pk/PDF/VAW%20Reports%20AND%20PR/PR/Press%20Release%202011%20%20English.pdf\\n5 The World Bank, World Development Report 2012. Gender Equality and Development, (Washington DC,\\n2011).\\n6 UN Human Rights Council, Report of the Working Group on the Universal Periodic Review: Pakistan,\\n4 June 2008, A/HRC/8/42. Available @http://lib.ohchr.org/HRBodies/UPR/Documents/Session2/PK/A_HRC_8_42_Pakistan_E.pdf\\n7 An assembly of male elders.8 Amina Samiuddin, Reserved seats: a cognitive space for women? Paper presented at a seminar\\n‘Empowerment Processes: Choices, Obstacles and Outcomes’ organized by Shirkat Gah in June 2010, andat the international conference on ‘Global Transformations and Local Mobility: Rebuilding Pakistan afterCrises’ organized by Shirkat Gah and Lahore University of Management Sciences in March 2011.\\n9 The Prevention of Anti-Women Practices (Criminal Law Amendment) Act, 2011.10 Domestic Violence (Prevention and Protection) Act, 2012. It should be noted however, that this Act is\\napplicable within Islamabad only. In March 2013, the Sindh Assembly passed legislation pertaining todomestic violence.\\n11 Criminal Law (Second) Amendment Act, 2011. Through this amendment, provisions have been added in the\\nPenal Code that carry heavy punishments for the crime of inflicting injuries through acid or such otherdangerous substances.\\n12 Protection against Harassment of Women at the Workplace Act, 2010. Through another amendment the\\noffence of sexual harassment was included in the Penal Code and its sentence was enhanced.\\n13 This Ministry was established as a separate entity with effect from 2008.14 National Commission on the Status of Women Act, 2012. This Commission has already been working since\\nits establishment in the year 2000 through a Presidential Ordinance. The new law has strengthened thecomposition and working of the Commission and granted it more autonomy.\\n15 Examples include Bills related to amendments in the Muslim Family Laws, new legislation pertaining to\\nfamily laws for the Hindu community and the Guardians and Wards Act, 1890 that lapsed.\\n16 See sections on Islamization of Criminal Laws and Inheritance on pgs. 14 & 15.17 http://epaper.dawn.com/~epaper/DetailImage.php?StoryImage=15_01_2012_004_00518 Human Rights Commission of Pakistan, State of Human Rights in 2008; State of Human Rights in 2009;\\nand State of Human Rights in 2010 (Pakistan).\\n19 Government of Pakistan, Pakistan Economic Survey 2010-11 (Islamabad, 2011).End Notes'),\n",
       " Document(metadata={'page': 49, 'source': '/content/combinepdf.pdf'}, page_content='Women’s Rights in Pakistan Status and Challenges\\n84. Legisla/gid19fon: Status & Implementa/gid19fon \\n4.1 There has been significant progress in legislation on women’s issues in Pakistan\\nand many laws have been enacted for the protection and promotion ofwomen’s rights in the period between 2010 and March 2012. These lawscriminalize forced marriages and other customary practices discriminatingagainst women, such as, giving women in marriage to settle civil or criminalliability\\n9, domestic violence10, acid crimes11and sexual harassment within the\\nworkplace12. The Women in Distress and Detention Fund Act has also been\\namended to enable the Ministry of Human Rights13to use the fund in order\\nto provide financial and legal assistance to women in jail. Moreover, onInternational Women’s Day in March 2012, the President gave his assent to thebill establishing an autonomous and effective National Commission on theStatus of Women (NCSW)\\n14. However, the 18th Constitutional Amendment\\nin April 2010 halted the legislative process by Parliament on many issuesrelated to women’s rights and several bills lapsed as this amendment broughtthis subject within the domain of Provincial legislation\\n15. Provinces must now\\ninstitute legislation in areas such as domestic violence.\\n4.2 The implementation of rights under the law is also hampered due to theprevalent patriarchal mindset of law enforcement institutions. Gendersensitization training needs to be incorporated as part of the foundationaltraining at the time of induction and must become a prerequisite forpromotion within the police, judiciary and the local administration.\\n4.3 The level of public awareness about the law is very low in Pakistan. Themedia plays an important role in raising public awareness but it is neithertrained nor equipped to understand women’s issues or highlight violationsof women’s rights. \\nRecommenda/gid19fons\\na. Ensure the implementa/gid19fon of exis/gid19fng legisla/gid19fon in le/gid1a9er and spirit\\nand develop the requisite rules under these laws where required.Mechanisms for the eﬀec/gid19fve enforcement of all new legisla/gid19fon thathas been introduced for the protec/gid19fon of women should bedeveloped with Standard Opera/gid19fonal Procedures (SOPs) for therelevant duty bearers. \\n')]"
      ]
     },
     "execution_count": 16,
     "metadata": {},
     "output_type": "execute_result"
    }
   ],
   "source": [
    "vectorstore.similarity_search(question1)"
   ]
  },
  {
   "cell_type": "code",
   "execution_count": 17,
   "metadata": {
    "colab": {
     "base_uri": "https://localhost:8080/"
    },
    "id": "q_rWwadnCbvZ",
    "outputId": "a19b02bc-72e8-485c-c5b3-593bc75a23e2"
   },
   "outputs": [
    {
     "data": {
      "text/plain": [
       "[Document(metadata={'page': 49, 'source': '/content/combinepdf.pdf'}, page_content='Women’s Rights in Pakistan Status and Challenges\\n84. Legisla/gid19fon: Status & Implementa/gid19fon \\n4.1 There has been significant progress in legislation on women’s issues in Pakistan\\nand many laws have been enacted for the protection and promotion ofwomen’s rights in the period between 2010 and March 2012. These lawscriminalize forced marriages and other customary practices discriminatingagainst women, such as, giving women in marriage to settle civil or criminalliability\\n9, domestic violence10, acid crimes11and sexual harassment within the\\nworkplace12. The Women in Distress and Detention Fund Act has also been\\namended to enable the Ministry of Human Rights13to use the fund in order\\nto provide financial and legal assistance to women in jail. Moreover, onInternational Women’s Day in March 2012, the President gave his assent to thebill establishing an autonomous and effective National Commission on theStatus of Women (NCSW)\\n14. However, the 18th Constitutional Amendment\\nin April 2010 halted the legislative process by Parliament on many issuesrelated to women’s rights and several bills lapsed as this amendment broughtthis subject within the domain of Provincial legislation\\n15. Provinces must now\\ninstitute legislation in areas such as domestic violence.\\n4.2 The implementation of rights under the law is also hampered due to theprevalent patriarchal mindset of law enforcement institutions. Gendersensitization training needs to be incorporated as part of the foundationaltraining at the time of induction and must become a prerequisite forpromotion within the police, judiciary and the local administration.\\n4.3 The level of public awareness about the law is very low in Pakistan. Themedia plays an important role in raising public awareness but it is neithertrained nor equipped to understand women’s issues or highlight violationsof women’s rights. \\nRecommenda/gid19fons\\na. Ensure the implementa/gid19fon of exis/gid19fng legisla/gid19fon in le/gid1a9er and spirit\\nand develop the requisite rules under these laws where required.Mechanisms for the eﬀec/gid19fve enforcement of all new legisla/gid19fon thathas been introduced for the protec/gid19fon of women should bedeveloped with Standard Opera/gid19fonal Procedures (SOPs) for therelevant duty bearers. \\n'),\n",
       " Document(metadata={'page': 60, 'source': '/content/combinepdf.pdf'}, page_content='Stakeholders Joint Submission to UN Human Rights Council: Pakistan’s Universal Periodic Review -14th Session\\n191 http://www.ohchr.org/EN/Issues/Pages/WhatareHumanRights.aspx\\n2 United Nations Development Programme, Human Development Report 2009. Overcoming barriers: Human\\nmobility and development, (New York, 2009).\\n3 United Nations Development Programme, Human Development Report 2011. Sustainability and Equity: A\\nBetter Future for All, (New York, 2011).\\n4 Aurat Foundation shared its fourth Annual Report on violence against women in Pakistan at a press\\nconference in Islamabad on 16 August 2011. Press briefing available @http://www.af.org.pk/PDF/VAW%20Reports%20AND%20PR/PR/Press%20Release%202011%20%20English.pdf\\n5 The World Bank, World Development Report 2012. Gender Equality and Development, (Washington DC,\\n2011).\\n6 UN Human Rights Council, Report of the Working Group on the Universal Periodic Review: Pakistan,\\n4 June 2008, A/HRC/8/42. Available @http://lib.ohchr.org/HRBodies/UPR/Documents/Session2/PK/A_HRC_8_42_Pakistan_E.pdf\\n7 An assembly of male elders.8 Amina Samiuddin, Reserved seats: a cognitive space for women? Paper presented at a seminar\\n‘Empowerment Processes: Choices, Obstacles and Outcomes’ organized by Shirkat Gah in June 2010, andat the international conference on ‘Global Transformations and Local Mobility: Rebuilding Pakistan afterCrises’ organized by Shirkat Gah and Lahore University of Management Sciences in March 2011.\\n9 The Prevention of Anti-Women Practices (Criminal Law Amendment) Act, 2011.10 Domestic Violence (Prevention and Protection) Act, 2012. It should be noted however, that this Act is\\napplicable within Islamabad only. In March 2013, the Sindh Assembly passed legislation pertaining todomestic violence.\\n11 Criminal Law (Second) Amendment Act, 2011. Through this amendment, provisions have been added in the\\nPenal Code that carry heavy punishments for the crime of inflicting injuries through acid or such otherdangerous substances.\\n12 Protection against Harassment of Women at the Workplace Act, 2010. Through another amendment the\\noffence of sexual harassment was included in the Penal Code and its sentence was enhanced.\\n13 This Ministry was established as a separate entity with effect from 2008.14 National Commission on the Status of Women Act, 2012. This Commission has already been working since\\nits establishment in the year 2000 through a Presidential Ordinance. The new law has strengthened thecomposition and working of the Commission and granted it more autonomy.\\n15 Examples include Bills related to amendments in the Muslim Family Laws, new legislation pertaining to\\nfamily laws for the Hindu community and the Guardians and Wards Act, 1890 that lapsed.\\n16 See sections on Islamization of Criminal Laws and Inheritance on pgs. 14 & 15.17 http://epaper.dawn.com/~epaper/DetailImage.php?StoryImage=15_01_2012_004_00518 Human Rights Commission of Pakistan, State of Human Rights in 2008; State of Human Rights in 2009;\\nand State of Human Rights in 2010 (Pakistan).\\n19 Government of Pakistan, Pakistan Economic Survey 2010-11 (Islamabad, 2011).End Notes'),\n",
       " Document(metadata={'page': 47, 'source': '/content/combinepdf.pdf'}, page_content='Women’s Rights in Pakistan Status and Challenges\\n61. Women’s Rights in Pakistan – An Overview\\n1.1 Women’s rights and empowerment measures in Pakistan continue to fall\\nshort of projections and promises despite some positive steps to amelioratetheir condition. Pakistan ranks 99 out of 109 countries in the GenderEmpowerment Measure\\n2and has a Gender Inequality Index value of 0.573,\\nranking it 115 out of 146 countries in the 2011 index3. Reported incidents\\nof violence against women increased from 7,571 in 2008 to 8,5394by 2011\\nand while the adult literacy rate in Pakistan is 56%, female literacy standsat 40%\\n5despite the Government’s commitment under the Millennium\\nDevelopment Goals (MDGs) to 87% women’s literacy by 2011. TheGovernment of Pakistan has acknowledged the need to tackle patriarchalmindsets and for further legislative reform to address the problem ofviolence against women and ensure the protection of women’s rights\\n6. It is\\na matter of concern however, that in its response to comments as the Stateunder Review, Pakistan was mostly silent on the issues of jirgas\\n7and the\\nprovisions under Qisas and Diyat with regard to cases of honour killings or,at best, buried said issues under generalized blanket women-centricresponses. \\n2. Women’s Poli/gid19fcal Par/gid19fcipa/gid19fon\\n2.1 The current representation of women in National Parliament andProvincial Legislatures is ensured with 17% seats reserved for women.Women occupy 22.2 % seats in the National Assembly, 17% in theSenate of Pakistan and 126 out of 728 seats (17.6%) in the ProvincialAssemblies.\\n2.2 Reserved seats are a welcome and necessary step. Data indicates that womenon reserved seats are among the most active in the Provincial and NationalAssemblies and in the Senate. Of the 71 private member bills that wereintroduced in 2008-09, 57 were introduced by women on reserved seats, ofwhich 8 introduced in 2008 directly related to women. Similarly, in 2010-11, the majority of the bills were introduced by women on reserved seats\\n8.\\nThese women challenged social and cultural norms and introduced billsagainst domestic violence, women trafficking, discriminatory practicesagainst women, and bills pertaining to women’s reproductive rights. Womenlegislators have not restricted themselves to addressing women’s issues only;'),\n",
       " Document(metadata={'page': 57, 'source': '/content/combinepdf.pdf'}, page_content='Women’s Rights in Pakistan Status and Challenges\\n16technically given their share to their brothers. However, in reality customary\\npractices dictate what women are allowed to own, and their right toinheritance is easily evaded under family and social pressures. Generally, inall four provinces of Pakistan, according to customary practice, women donot inherit property and widows customarily lose their right to inheritanceif they remarry outside the family of the deceased husband, even though thelaw prescribes a prompt division of the deceased’s assets and the widow’sright to her share\\n31.\\n9.3 Another practice is that of haq bakhshwana (giving up rights, literally)\\nwhereby girls are either never married, or married to the Quran in order toprevent property going out of the family. Similarly cousin marriages and watta\\nsatta (exchange marriage whereby one set of brother and sister are married to\\nanother) marriages are designed to prevent break up of property as the size ofland and property is associated with power and status\\n32. Even though the\\nlegislative provisions dealing with a woman’s share in the property remainunchanged, the recent amendments in criminal law related to prevention ofanti-women practices have criminalized the practice of depriving women oftheir right to inheritance. The relevant Penal Provisions stipulate that theoffence of depriving a woman of her inheritance by deceitful or illegal meanswould be punishable with imprisonment, which may extend from five to tenyears or with a fine of one million rupees or both. The practice of marryingwomen to the Quran in order to deprive them of their right to inheritancecarries a sentence of three to seven years. An oath by the woman to remainunmarried or not to claim inheritance is also covered by this provision. Theeffective application of this law remains to be seen.\\n10. Alternate Dispute Resolu/gid19fon Mechanisms\\n10.1 In its 2008 Review, Pakistan accepted the Czech Republic’s recommendationto “ensure punishment for perpetrators of violence against women,thoroughly investigate and punish members and leaders of illegal jirgas for\\ntheir calls to violence against women”\\n33.Recommenda/gid19fons\\na. Amend inheritance laws to equalize inheritance for sons and\\ndaughters and change the procedures of succession to facilitatesuccession and control over inheritance.\\n')]"
      ]
     },
     "execution_count": 17,
     "metadata": {},
     "output_type": "execute_result"
    }
   ],
   "source": [
    "vectorstore.similarity_search(question2)"
   ]
  },
  {
   "cell_type": "code",
   "execution_count": 18,
   "metadata": {
    "id": "KZD_6g1PQCaM"
   },
   "outputs": [],
   "source": [
    "retriever = vectorstore.as_retriever(search_type=\"similarity\", search_kwargs={\"k\": 3})"
   ]
  },
  {
   "cell_type": "code",
   "execution_count": 19,
   "metadata": {
    "id": "mqzXhs1dRPfc"
   },
   "outputs": [],
   "source": [
    "from langchain_google_genai import ChatGoogleGenerativeAI\n",
    "from operator import itemgetter\n",
    "from langchain.prompts import ChatPromptTemplate\n",
    "from langchain.schema.output_parser import StrOutputParser\n",
    "from langchain.schema.runnable import RunnableLambda, RunnablePassthrough\n"
   ]
  },
  {
   "cell_type": "code",
   "execution_count": 20,
   "metadata": {
    "id": "qZBZ3BT7P7dT"
   },
   "outputs": [],
   "source": [
    "llm = ChatGoogleGenerativeAI(model=\"gemini-1.5-pro\")\n"
   ]
  },
  {
   "cell_type": "code",
   "execution_count": 21,
   "metadata": {
    "id": "03euBVg-O48T"
   },
   "outputs": [],
   "source": [
    "import textwrap\n",
    "def wrap_text(text, width=90): #preserve_newlines\n",
    "    # Split the input text into lines based on newline characters\n",
    "    lines = text.split('\\n')\n",
    "\n",
    "    # Wrap each line individually\n",
    "    wrapped_lines = [textwrap.fill(line, width=width) for line in lines]\n",
    "\n",
    "    # Join the wrapped lines back together using newline characters\n",
    "    wrapped_text = '\\n'.join(wrapped_lines)\n",
    "\n",
    "    return wrapped_text"
   ]
  },
  {
   "cell_type": "code",
   "execution_count": 22,
   "metadata": {
    "id": "PdJig9FhP0ks"
   },
   "outputs": [],
   "source": [
    "template = \"\"\"Answer the question based only on the following context:\n",
    "{context}\n",
    "\n",
    "Question: {question}\n",
    "\"\"\""
   ]
  },
  {
   "cell_type": "code",
   "execution_count": 23,
   "metadata": {
    "id": "_e5sau9FP10j"
   },
   "outputs": [],
   "source": [
    "prompt = ChatPromptTemplate.from_template(template)"
   ]
  },
  {
   "cell_type": "code",
   "execution_count": 24,
   "metadata": {
    "id": "5rTr9oesP2y8"
   },
   "outputs": [],
   "source": [
    "chain = (\n",
    "    {\"context\": retriever, \"question\": RunnablePassthrough()}\n",
    "    | prompt\n",
    "    | llm\n",
    "    | StrOutputParser()\n",
    ")"
   ]
  },
  {
   "cell_type": "code",
   "execution_count": 25,
   "metadata": {
    "colab": {
     "base_uri": "https://localhost:8080/",
     "height": 35
    },
    "id": "9sMfSKUUKyso",
    "outputId": "464816c4-c406-4eaa-f3c5-ac52fea1d664"
   },
   "outputs": [
    {
     "data": {
      "application/vnd.google.colaboratory.intrinsic+json": {
       "type": "string"
      },
      "text/plain": [
       "'What are the key challenges faced by women in Pakistan in terms of their political participation?'"
      ]
     },
     "execution_count": 25,
     "metadata": {},
     "output_type": "execute_result"
    }
   ],
   "source": [
    "question1"
   ]
  },
  {
   "cell_type": "code",
   "execution_count": 26,
   "metadata": {
    "colab": {
     "base_uri": "https://localhost:8080/"
    },
    "id": "DiIBOtGXP4X1",
    "outputId": "42ed77c4-ffc9-47b9-e67c-760a5d90f81c"
   },
   "outputs": [
    {
     "name": "stderr",
     "output_type": "stream",
     "text": [
      "WARNING:langchain_google_genai.chat_models:Retrying langchain_google_genai.chat_models._chat_with_retry.<locals>._chat_with_retry in 2.0 seconds as it raised InternalServerError: 500 An internal error has occurred. Please retry or report in https://developers.generativeai.google/guide/troubleshooting.\n"
     ]
    }
   ],
   "source": [
    "text_reply = chain.invoke(\"What are the legal implications of the Qisas and Diyat provisions on cases of 'honour' killings in Pakistan?\")"
   ]
  },
  {
   "cell_type": "code",
   "execution_count": 27,
   "metadata": {
    "colab": {
     "base_uri": "https://localhost:8080/"
    },
    "id": "mpRI_8oWHnK7",
    "outputId": "535e2ef2-d583-4827-d493-315f310ccf56"
   },
   "outputs": [
    {
     "name": "stdout",
     "output_type": "stream",
     "text": [
      "The Qisas and Diyat provisions have significant legal implications on 'honor' killings in\n",
      "Pakistan:\n",
      "\n",
      "1. **They allow for pardoning the killer:** The heirs of the deceased have the statutory\n",
      "right to pardon the killer(s), which is often used in 'honor' killings as the perpetrators\n",
      "are usually family members.\n",
      "2. **Legal concessions for family members:**  The law provides 'concessions' to some\n",
      "family members, like reduced sentences or blood money as the only punishment. This is\n",
      "particularly problematic in 'honor' killings as perpetrators often benefit from these\n",
      "concessions due to their relationship with the victim.\n",
      "3. **Lack of effective deterrence:**  The provisions are seen as loopholes that allow\n",
      "perpetrators to escape severe punishment. This lack of effective deterrence perpetuates a\n",
      "culture where 'honor' killings persist.\n",
      "\n",
      "Therefore, these provisions are criticized for hindering Pakistan's ability to effectively\n",
      "address and curb 'honor' killings and fulfill its international obligations towards\n",
      "protecting women's rights.\n",
      "\n"
     ]
    }
   ],
   "source": [
    "print(wrap_text(text_reply))"
   ]
  },
  {
   "cell_type": "code",
   "execution_count": 37,
   "metadata": {
    "id": "hU_Nuo-rY3Q_"
   },
   "outputs": [],
   "source": []
  },
  {
   "cell_type": "code",
   "execution_count": 4,
   "metadata": {
    "colab": {
     "base_uri": "https://localhost:8080/"
    },
    "id": "TH56moV2DjqB",
    "outputId": "31848b3f-72ed-4f12-ff59-0899a6bd381c"
   },
   "outputs": [
    {
     "name": "stdout",
     "output_type": "stream",
     "text": [
      "Requirement already satisfied: langchain in c:\\users\\grace\\anaconda3\\lib\\site-packages (0.2.16)\n",
      "Collecting langchain\n",
      "  Obtaining dependency information for langchain from https://files.pythonhosted.org/packages/49/09/72630413a7ded27684e33392a0ff52ff1c8ea6749fee641319e75f82072b/langchain-0.3.7-py3-none-any.whl.metadata\n",
      "  Using cached langchain-0.3.7-py3-none-any.whl.metadata (7.1 kB)\n",
      "Requirement already satisfied: PyYAML>=5.3 in c:\\users\\grace\\anaconda3\\lib\\site-packages (from langchain) (6.0)\n",
      "Requirement already satisfied: SQLAlchemy<3,>=1.4 in c:\\users\\grace\\anaconda3\\lib\\site-packages (from langchain) (1.4.39)\n",
      "Requirement already satisfied: aiohttp<4.0.0,>=3.8.3 in c:\\users\\grace\\anaconda3\\lib\\site-packages (from langchain) (3.8.3)\n",
      "Requirement already satisfied: langchain-core<0.4.0,>=0.3.15 in c:\\users\\grace\\anaconda3\\lib\\site-packages (from langchain) (0.3.15)\n",
      "Collecting langchain-text-splitters<0.4.0,>=0.3.0 (from langchain)\n",
      "  Obtaining dependency information for langchain-text-splitters<0.4.0,>=0.3.0 from https://files.pythonhosted.org/packages/ee/c6/5ba25c8bad647e92a92b3066177ab10d78efbd16c0b9919948cdcd18b027/langchain_text_splitters-0.3.2-py3-none-any.whl.metadata\n",
      "  Using cached langchain_text_splitters-0.3.2-py3-none-any.whl.metadata (2.3 kB)\n",
      "Requirement already satisfied: langsmith<0.2.0,>=0.1.17 in c:\\users\\grace\\anaconda3\\lib\\site-packages (from langchain) (0.1.140)\n",
      "Requirement already satisfied: numpy<2,>=1 in c:\\users\\grace\\anaconda3\\lib\\site-packages (from langchain) (1.24.3)\n",
      "Requirement already satisfied: pydantic<3.0.0,>=2.7.4 in c:\\users\\grace\\anaconda3\\lib\\site-packages (from langchain) (2.9.0)\n",
      "Requirement already satisfied: requests<3,>=2 in c:\\users\\grace\\anaconda3\\lib\\site-packages (from langchain) (2.31.0)\n",
      "Requirement already satisfied: tenacity!=8.4.0,<10,>=8.1.0 in c:\\users\\grace\\anaconda3\\lib\\site-packages (from langchain) (8.2.2)\n",
      "Requirement already satisfied: attrs>=17.3.0 in c:\\users\\grace\\anaconda3\\lib\\site-packages (from aiohttp<4.0.0,>=3.8.3->langchain) (22.1.0)\n",
      "Requirement already satisfied: charset-normalizer<3.0,>=2.0 in c:\\users\\grace\\anaconda3\\lib\\site-packages (from aiohttp<4.0.0,>=3.8.3->langchain) (2.0.4)\n",
      "Requirement already satisfied: multidict<7.0,>=4.5 in c:\\users\\grace\\anaconda3\\lib\\site-packages (from aiohttp<4.0.0,>=3.8.3->langchain) (6.0.2)\n",
      "Requirement already satisfied: async-timeout<5.0,>=4.0.0a3 in c:\\users\\grace\\anaconda3\\lib\\site-packages (from aiohttp<4.0.0,>=3.8.3->langchain) (4.0.2)\n",
      "Requirement already satisfied: yarl<2.0,>=1.0 in c:\\users\\grace\\anaconda3\\lib\\site-packages (from aiohttp<4.0.0,>=3.8.3->langchain) (1.8.1)\n",
      "Requirement already satisfied: frozenlist>=1.1.1 in c:\\users\\grace\\anaconda3\\lib\\site-packages (from aiohttp<4.0.0,>=3.8.3->langchain) (1.3.3)\n",
      "Requirement already satisfied: aiosignal>=1.1.2 in c:\\users\\grace\\anaconda3\\lib\\site-packages (from aiohttp<4.0.0,>=3.8.3->langchain) (1.2.0)\n",
      "Requirement already satisfied: jsonpatch<2.0,>=1.33 in c:\\users\\grace\\anaconda3\\lib\\site-packages (from langchain-core<0.4.0,>=0.3.15->langchain) (1.33)\n",
      "Requirement already satisfied: packaging<25,>=23.2 in c:\\users\\grace\\anaconda3\\lib\\site-packages (from langchain-core<0.4.0,>=0.3.15->langchain) (24.1)\n",
      "Requirement already satisfied: typing-extensions>=4.7 in c:\\users\\grace\\anaconda3\\lib\\site-packages (from langchain-core<0.4.0,>=0.3.15->langchain) (4.12.2)\n",
      "Requirement already satisfied: httpx<1,>=0.23.0 in c:\\users\\grace\\anaconda3\\lib\\site-packages (from langsmith<0.2.0,>=0.1.17->langchain) (0.27.2)\n",
      "Requirement already satisfied: orjson<4.0.0,>=3.9.14 in c:\\users\\grace\\anaconda3\\lib\\site-packages (from langsmith<0.2.0,>=0.1.17->langchain) (3.10.7)\n",
      "Requirement already satisfied: requests-toolbelt<2.0.0,>=1.0.0 in c:\\users\\grace\\anaconda3\\lib\\site-packages (from langsmith<0.2.0,>=0.1.17->langchain) (1.0.0)\n",
      "Requirement already satisfied: annotated-types>=0.4.0 in c:\\users\\grace\\anaconda3\\lib\\site-packages (from pydantic<3.0.0,>=2.7.4->langchain) (0.7.0)\n",
      "Requirement already satisfied: pydantic-core==2.23.2 in c:\\users\\grace\\anaconda3\\lib\\site-packages (from pydantic<3.0.0,>=2.7.4->langchain) (2.23.2)\n",
      "Requirement already satisfied: tzdata in c:\\users\\grace\\anaconda3\\lib\\site-packages (from pydantic<3.0.0,>=2.7.4->langchain) (2024.1)\n",
      "Requirement already satisfied: idna<4,>=2.5 in c:\\users\\grace\\anaconda3\\lib\\site-packages (from requests<3,>=2->langchain) (3.4)\n",
      "Requirement already satisfied: urllib3<3,>=1.21.1 in c:\\users\\grace\\anaconda3\\lib\\site-packages (from requests<3,>=2->langchain) (1.26.16)\n",
      "Requirement already satisfied: certifi>=2017.4.17 in c:\\users\\grace\\anaconda3\\lib\\site-packages (from requests<3,>=2->langchain) (2024.2.2)\n",
      "Requirement already satisfied: greenlet!=0.4.17 in c:\\users\\grace\\anaconda3\\lib\\site-packages (from SQLAlchemy<3,>=1.4->langchain) (2.0.1)\n",
      "Requirement already satisfied: anyio in c:\\users\\grace\\anaconda3\\lib\\site-packages (from httpx<1,>=0.23.0->langsmith<0.2.0,>=0.1.17->langchain) (3.5.0)\n",
      "Requirement already satisfied: httpcore==1.* in c:\\users\\grace\\anaconda3\\lib\\site-packages (from httpx<1,>=0.23.0->langsmith<0.2.0,>=0.1.17->langchain) (1.0.5)\n",
      "Requirement already satisfied: sniffio in c:\\users\\grace\\anaconda3\\lib\\site-packages (from httpx<1,>=0.23.0->langsmith<0.2.0,>=0.1.17->langchain) (1.2.0)\n",
      "Requirement already satisfied: h11<0.15,>=0.13 in c:\\users\\grace\\anaconda3\\lib\\site-packages (from httpcore==1.*->httpx<1,>=0.23.0->langsmith<0.2.0,>=0.1.17->langchain) (0.14.0)\n",
      "Requirement already satisfied: jsonpointer>=1.9 in c:\\users\\grace\\anaconda3\\lib\\site-packages (from jsonpatch<2.0,>=1.33->langchain-core<0.4.0,>=0.3.15->langchain) (2.1)\n",
      "Using cached langchain-0.3.7-py3-none-any.whl (1.0 MB)\n",
      "Using cached langchain_text_splitters-0.3.2-py3-none-any.whl (25 kB)\n",
      "Installing collected packages: langchain-text-splitters, langchain\n",
      "  Attempting uninstall: langchain-text-splitters\n",
      "    Found existing installation: langchain-text-splitters 0.2.4\n",
      "    Uninstalling langchain-text-splitters-0.2.4:\n",
      "      Successfully uninstalled langchain-text-splitters-0.2.4\n",
      "  Attempting uninstall: langchain\n",
      "    Found existing installation: langchain 0.2.16\n",
      "    Uninstalling langchain-0.2.16:\n",
      "      Successfully uninstalled langchain-0.2.16\n",
      "Successfully installed langchain-0.3.7 langchain-text-splitters-0.3.2\n"
     ]
    },
    {
     "name": "stderr",
     "output_type": "stream",
     "text": [
      "ERROR: pip's dependency resolver does not currently take into account all the packages that are installed. This behaviour is the source of the following dependency conflicts.\n",
      "langchain-community 0.2.16 requires langchain<0.3.0,>=0.2.16, but you have langchain 0.3.7 which is incompatible.\n",
      "langchain-community 0.2.16 requires langchain-core<0.3.0,>=0.2.38, but you have langchain-core 0.3.15 which is incompatible.\n"
     ]
    }
   ],
   "source": [
    "!pip install --upgrade langchain\n"
   ]
  },
  {
   "cell_type": "code",
   "execution_count": null,
   "metadata": {
    "id": "7rSwsmMCOvu5"
   },
   "outputs": [],
   "source": []
  },
  {
   "cell_type": "markdown",
   "metadata": {
    "id": "9llWyIoJOu8m"
   },
   "source": [
    " **GRADIO GUI APP**"
   ]
  },
  {
   "cell_type": "code",
   "execution_count": 6,
   "metadata": {
    "colab": {
     "base_uri": "https://localhost:8080/",
     "height": 663
    },
    "id": "Q-eq4WjeFsuz",
    "outputId": "1fd49261-7c71-40ab-99d0-40b6d632e2b6"
   },
   "outputs": [
    {
     "ename": "ModuleNotFoundError",
     "evalue": "No module named 'google.colab'",
     "output_type": "error",
     "traceback": [
      "\u001b[1;31m---------------------------------------------------------------------------\u001b[0m",
      "\u001b[1;31mModuleNotFoundError\u001b[0m                       Traceback (most recent call last)",
      "Cell \u001b[1;32mIn[6], line 4\u001b[0m\n\u001b[0;32m      2\u001b[0m \u001b[38;5;28;01mimport\u001b[39;00m \u001b[38;5;21;01mos\u001b[39;00m\n\u001b[0;32m      3\u001b[0m \u001b[38;5;28;01mimport\u001b[39;00m \u001b[38;5;21;01mtextwrap\u001b[39;00m\n\u001b[1;32m----> 4\u001b[0m \u001b[38;5;28;01mfrom\u001b[39;00m \u001b[38;5;21;01mgoogle\u001b[39;00m\u001b[38;5;21;01m.\u001b[39;00m\u001b[38;5;21;01mcolab\u001b[39;00m \u001b[38;5;28;01mimport\u001b[39;00m userdata\n\u001b[0;32m      5\u001b[0m \u001b[38;5;28;01mfrom\u001b[39;00m \u001b[38;5;21;01mlangchain_google_genai\u001b[39;00m \u001b[38;5;28;01mimport\u001b[39;00m GoogleGenerativeAIEmbeddings, ChatGoogleGenerativeAI\n\u001b[0;32m      6\u001b[0m \u001b[38;5;28;01mfrom\u001b[39;00m \u001b[38;5;21;01mlangchain\u001b[39;00m\u001b[38;5;21;01m.\u001b[39;00m\u001b[38;5;21;01mdocument_loaders\u001b[39;00m \u001b[38;5;28;01mimport\u001b[39;00m PyPDFLoader\n",
      "\u001b[1;31mModuleNotFoundError\u001b[0m: No module named 'google.colab'"
     ]
    }
   ],
   "source": [
    "import gradio as gr\n",
    "import os\n",
    "import textwrap\n",
    "from google.colab import userdata\n",
    "from langchain_google_genai import GoogleGenerativeAIEmbeddings, ChatGoogleGenerativeAI\n",
    "from langchain.document_loaders import PyPDFLoader\n",
    "from langchain.chains import LLMChain\n",
    "from langchain.prompts import PromptTemplate\n",
    "from langchain.vectorstores import Chroma\n",
    "\n",
    "# Setup environment\n",
    "GOOGLE_API_KEY = userdata.get('GOOGLE_API_KEY')\n",
    "os.environ[\"GOOGLE_API_KEY\"] = GOOGLE_API_KEY\n",
    "\n",
    "# Initialize embeddings and LLM\n",
    "gemini_embeddings = GoogleGenerativeAIEmbeddings(model=\"models/embedding-001\")\n",
    "llm = ChatGoogleGenerativeAI(model=\"gemini-1.5-pro\")\n",
    "\n",
    "# Load documents\n",
    "loaders = [PyPDFLoader(\"/content/combinepdf.pdf\")]\n",
    "docs = [doc for loader in loaders for doc in loader.load()]\n",
    "print(f\"Loaded documents: {len(docs)}\")  # Debugging line\n",
    "\n",
    "# Create vector store using Chroma\n",
    "vectorstore = Chroma.from_documents(docs, gemini_embeddings)\n",
    "\n",
    "# Define text wrapping function\n",
    "def wrap_text(text, width=90):\n",
    "    lines = text.split('\\n')\n",
    "    wrapped_lines = [textwrap.fill(line, width=width) for line in lines]\n",
    "    wrapped_text = '\\n'.join(wrapped_lines)\n",
    "    return wrapped_text\n",
    "\n",
    "# Define Gradio interface function with updated retrieval method\n",
    "def get_response(question):\n",
    "    template = \"\"\"Answer the question based only on the following context:\n",
    "    {context}\n",
    "\n",
    "    Question: {question}\n",
    "    \"\"\"\n",
    "\n",
    "    prompt = PromptTemplate(template=template)\n",
    "    chain = LLMChain(\n",
    "        llm=llm,\n",
    "        prompt=prompt\n",
    "    )\n",
    "\n",
    "    try:\n",
    "        # Retrieve context using Chroma directly\n",
    "        results = vectorstore.similarity_search(question)\n",
    "        if not results:\n",
    "            return \"No relevant context found.\"\n",
    "\n",
    "        context = ' '.join([result.page_content for result in results])\n",
    "        print(f\"Retrieved context: {context}\")  # Debugging line\n",
    "\n",
    "        # Generate response\n",
    "        text_reply = chain.run(context=context, question=question)\n",
    "        print(f\"Generated response: {text_reply}\")  # Debugging line\n",
    "        return wrap_text(text_reply)\n",
    "\n",
    "    except Exception as e:\n",
    "        error_message = f\"Error: {str(e)}\"\n",
    "        print(error_message)  # Print error to console for debugging\n",
    "        return error_message\n",
    "\n",
    "# Create the Gradio interface using the new API\n",
    "iface = gr.Interface(\n",
    "    fn=get_response,\n",
    "    inputs=gr.Textbox(label=\"Ask a question:\"),\n",
    "    outputs=gr.Textbox(label=\"Response\"),\n",
    "    title=\"Women’s Rights Information\",\n",
    "    description=\"Ask questions related to women’s rights and get answers based on the provided context.\"\n",
    ")\n",
    "\n",
    "# Launch the Gradio app\n",
    "if __name__ == \"__main__\":\n",
    "    iface.launch()\n"
   ]
  },
  {
   "cell_type": "code",
   "execution_count": 2,
   "metadata": {
    "colab": {
     "base_uri": "https://localhost:8080/"
    },
    "id": "inuGmRe8Y1wO",
    "outputId": "55640993-aa02-4030-a7be-538b22bc289f"
   },
   "outputs": [
    {
     "name": "stdout",
     "output_type": "stream",
     "text": [
      "Collecting gradio\n",
      "  Obtaining dependency information for gradio from https://files.pythonhosted.org/packages/18/a1/1bdb57a072903b222b1a745aa634cb845ff5f52a88ddd5ed1640ecf30beb/gradio-5.5.0-py3-none-any.whl.metadata\n",
      "  Downloading gradio-5.5.0-py3-none-any.whl.metadata (16 kB)\n",
      "Requirement already satisfied: aiofiles<24.0,>=22.0 in c:\\users\\grace\\anaconda3\\lib\\site-packages (from gradio) (22.1.0)\n",
      "Requirement already satisfied: anyio<5.0,>=3.0 in c:\\users\\grace\\anaconda3\\lib\\site-packages (from gradio) (3.5.0)\n",
      "Collecting fastapi<1.0,>=0.115.2 (from gradio)\n",
      "  Obtaining dependency information for fastapi<1.0,>=0.115.2 from https://files.pythonhosted.org/packages/99/f6/af0d1f58f86002be0cf1e2665cdd6f7a4a71cdc8a7a9438cdc9e3b5375fe/fastapi-0.115.4-py3-none-any.whl.metadata\n",
      "  Using cached fastapi-0.115.4-py3-none-any.whl.metadata (27 kB)\n",
      "Collecting ffmpy (from gradio)\n",
      "  Obtaining dependency information for ffmpy from https://files.pythonhosted.org/packages/ff/1e/db99aa669eee301966bc6c997d60a0240f9cecae63f044b2e5a5310e4bf7/ffmpy-0.4.0-py3-none-any.whl.metadata\n",
      "  Downloading ffmpy-0.4.0-py3-none-any.whl.metadata (2.9 kB)\n",
      "Collecting gradio-client==1.4.2 (from gradio)\n",
      "  Obtaining dependency information for gradio-client==1.4.2 from https://files.pythonhosted.org/packages/e0/6f/9eb14d4e9ef366be2020063d91c4f608294969fcd7b9fcc48153c64b9776/gradio_client-1.4.2-py3-none-any.whl.metadata\n",
      "  Downloading gradio_client-1.4.2-py3-none-any.whl.metadata (7.1 kB)\n",
      "Requirement already satisfied: httpx>=0.24.1 in c:\\users\\grace\\anaconda3\\lib\\site-packages (from gradio) (0.27.2)\n",
      "Collecting huggingface-hub>=0.25.1 (from gradio)\n",
      "  Obtaining dependency information for huggingface-hub>=0.25.1 from https://files.pythonhosted.org/packages/60/bf/cea0b9720c32fa01b0c4ec4b16b9f4ae34ca106b202ebbae9f03ab98cd8f/huggingface_hub-0.26.2-py3-none-any.whl.metadata\n",
      "  Using cached huggingface_hub-0.26.2-py3-none-any.whl.metadata (13 kB)\n",
      "Requirement already satisfied: jinja2<4.0 in c:\\users\\grace\\anaconda3\\lib\\site-packages (from gradio) (3.1.2)\n",
      "Requirement already satisfied: markupsafe~=2.0 in c:\\users\\grace\\anaconda3\\lib\\site-packages (from gradio) (2.1.1)\n",
      "Requirement already satisfied: numpy<3.0,>=1.0 in c:\\users\\grace\\anaconda3\\lib\\site-packages (from gradio) (1.24.3)\n",
      "Requirement already satisfied: orjson~=3.0 in c:\\users\\grace\\anaconda3\\lib\\site-packages (from gradio) (3.10.7)\n",
      "Requirement already satisfied: packaging in c:\\users\\grace\\anaconda3\\lib\\site-packages (from gradio) (24.1)\n",
      "Requirement already satisfied: pandas<3.0,>=1.0 in c:\\users\\grace\\anaconda3\\lib\\site-packages (from gradio) (1.5.3)\n",
      "Requirement already satisfied: pillow<12.0,>=8.0 in c:\\users\\grace\\anaconda3\\lib\\site-packages (from gradio) (9.4.0)\n",
      "Requirement already satisfied: pydantic>=2.0 in c:\\users\\grace\\anaconda3\\lib\\site-packages (from gradio) (2.9.0)\n",
      "Collecting pydub (from gradio)\n",
      "  Obtaining dependency information for pydub from https://files.pythonhosted.org/packages/a6/53/d78dc063216e62fc55f6b2eebb447f6a4b0a59f55c8406376f76bf959b08/pydub-0.25.1-py2.py3-none-any.whl.metadata\n",
      "  Downloading pydub-0.25.1-py2.py3-none-any.whl.metadata (1.4 kB)\n",
      "Collecting python-multipart==0.0.12 (from gradio)\n",
      "  Obtaining dependency information for python-multipart==0.0.12 from https://files.pythonhosted.org/packages/f5/0b/c316262244abea7481f95f1e91d7575f3dfcf6455d56d1ffe9839c582eb1/python_multipart-0.0.12-py3-none-any.whl.metadata\n",
      "  Downloading python_multipart-0.0.12-py3-none-any.whl.metadata (1.9 kB)\n",
      "Requirement already satisfied: pyyaml<7.0,>=5.0 in c:\\users\\grace\\anaconda3\\lib\\site-packages (from gradio) (6.0)\n",
      "Collecting ruff>=0.2.2 (from gradio)\n",
      "  Obtaining dependency information for ruff>=0.2.2 from https://files.pythonhosted.org/packages/d9/18/c4b00d161def43fe5968e959039c8f6ce60dca762cec4a34e4e83a4210a0/ruff-0.7.2-py3-none-win_amd64.whl.metadata\n",
      "  Downloading ruff-0.7.2-py3-none-win_amd64.whl.metadata (25 kB)\n",
      "Collecting safehttpx<1.0,>=0.1.1 (from gradio)\n",
      "  Obtaining dependency information for safehttpx<1.0,>=0.1.1 from https://files.pythonhosted.org/packages/df/f7/55cdeed5889f2076fdb125bc87bb7ab0f1715c84b0a4619c44833d890f60/safehttpx-0.1.1-py3-none-any.whl.metadata\n",
      "  Downloading safehttpx-0.1.1-py3-none-any.whl.metadata (4.1 kB)\n",
      "Collecting semantic-version~=2.0 (from gradio)\n",
      "  Obtaining dependency information for semantic-version~=2.0 from https://files.pythonhosted.org/packages/6a/23/8146aad7d88f4fcb3a6218f41a60f6c2d4e3a72de72da1825dc7c8f7877c/semantic_version-2.10.0-py2.py3-none-any.whl.metadata\n",
      "  Downloading semantic_version-2.10.0-py2.py3-none-any.whl.metadata (9.7 kB)\n",
      "Collecting starlette<1.0,>=0.40.0 (from gradio)\n",
      "  Obtaining dependency information for starlette<1.0,>=0.40.0 from https://files.pythonhosted.org/packages/54/43/f185bfd0ca1d213beb4293bed51d92254df23d8ceaf6c0e17146d508a776/starlette-0.41.2-py3-none-any.whl.metadata\n",
      "  Using cached starlette-0.41.2-py3-none-any.whl.metadata (6.0 kB)\n",
      "Collecting tomlkit==0.12.0 (from gradio)\n",
      "  Obtaining dependency information for tomlkit==0.12.0 from https://files.pythonhosted.org/packages/68/4f/12207897848a653d03ebbf6775a29d949408ded5f99b2d87198bc5c93508/tomlkit-0.12.0-py3-none-any.whl.metadata\n",
      "  Downloading tomlkit-0.12.0-py3-none-any.whl.metadata (2.7 kB)\n",
      "Collecting typer<1.0,>=0.12 (from gradio)\n",
      "  Obtaining dependency information for typer<1.0,>=0.12 from https://files.pythonhosted.org/packages/a8/2b/886d13e742e514f704c33c4caa7df0f3b89e5a25ef8db02aa9ca3d9535d5/typer-0.12.5-py3-none-any.whl.metadata\n",
      "  Using cached typer-0.12.5-py3-none-any.whl.metadata (15 kB)\n",
      "Requirement already satisfied: typing-extensions~=4.0 in c:\\users\\grace\\anaconda3\\lib\\site-packages (from gradio) (4.12.2)\n",
      "Collecting uvicorn>=0.14.0 (from gradio)\n",
      "  Obtaining dependency information for uvicorn>=0.14.0 from https://files.pythonhosted.org/packages/eb/14/78bd0e95dd2444b6caacbca2b730671d4295ccb628ef58b81bee903629df/uvicorn-0.32.0-py3-none-any.whl.metadata\n",
      "  Using cached uvicorn-0.32.0-py3-none-any.whl.metadata (6.6 kB)\n",
      "Requirement already satisfied: fsspec in c:\\users\\grace\\anaconda3\\lib\\site-packages (from gradio-client==1.4.2->gradio) (2023.3.0)\n",
      "Collecting websockets<13.0,>=10.0 (from gradio-client==1.4.2->gradio)\n",
      "  Obtaining dependency information for websockets<13.0,>=10.0 from https://files.pythonhosted.org/packages/d1/40/6b169cd1957476374f51f4486a3e85003149e62a14e6b78a958c2222337a/websockets-12.0-cp311-cp311-win_amd64.whl.metadata\n",
      "  Downloading websockets-12.0-cp311-cp311-win_amd64.whl.metadata (6.8 kB)\n",
      "Requirement already satisfied: idna>=2.8 in c:\\users\\grace\\anaconda3\\lib\\site-packages (from anyio<5.0,>=3.0->gradio) (3.4)\n",
      "Requirement already satisfied: sniffio>=1.1 in c:\\users\\grace\\anaconda3\\lib\\site-packages (from anyio<5.0,>=3.0->gradio) (1.2.0)\n",
      "Requirement already satisfied: certifi in c:\\users\\grace\\anaconda3\\lib\\site-packages (from httpx>=0.24.1->gradio) (2024.2.2)\n",
      "Requirement already satisfied: httpcore==1.* in c:\\users\\grace\\anaconda3\\lib\\site-packages (from httpx>=0.24.1->gradio) (1.0.5)\n",
      "Requirement already satisfied: h11<0.15,>=0.13 in c:\\users\\grace\\anaconda3\\lib\\site-packages (from httpcore==1.*->httpx>=0.24.1->gradio) (0.14.0)\n",
      "Requirement already satisfied: filelock in c:\\users\\grace\\anaconda3\\lib\\site-packages (from huggingface-hub>=0.25.1->gradio) (3.9.0)\n",
      "Collecting fsspec (from gradio-client==1.4.2->gradio)\n",
      "  Obtaining dependency information for fsspec from https://files.pythonhosted.org/packages/c6/b2/454d6e7f0158951d8a78c2e1eb4f69ae81beb8dca5fee9809c6c99e9d0d0/fsspec-2024.10.0-py3-none-any.whl.metadata\n",
      "  Using cached fsspec-2024.10.0-py3-none-any.whl.metadata (11 kB)\n",
      "Requirement already satisfied: requests in c:\\users\\grace\\anaconda3\\lib\\site-packages (from huggingface-hub>=0.25.1->gradio) (2.31.0)\n",
      "Requirement already satisfied: tqdm>=4.42.1 in c:\\users\\grace\\anaconda3\\lib\\site-packages (from huggingface-hub>=0.25.1->gradio) (4.65.0)\n",
      "Requirement already satisfied: python-dateutil>=2.8.1 in c:\\users\\grace\\anaconda3\\lib\\site-packages (from pandas<3.0,>=1.0->gradio) (2.8.2)\n",
      "Requirement already satisfied: pytz>=2020.1 in c:\\users\\grace\\anaconda3\\lib\\site-packages (from pandas<3.0,>=1.0->gradio) (2022.7)\n",
      "Requirement already satisfied: annotated-types>=0.4.0 in c:\\users\\grace\\anaconda3\\lib\\site-packages (from pydantic>=2.0->gradio) (0.7.0)\n",
      "Requirement already satisfied: pydantic-core==2.23.2 in c:\\users\\grace\\anaconda3\\lib\\site-packages (from pydantic>=2.0->gradio) (2.23.2)\n",
      "Requirement already satisfied: tzdata in c:\\users\\grace\\anaconda3\\lib\\site-packages (from pydantic>=2.0->gradio) (2024.1)\n",
      "Requirement already satisfied: click>=8.0.0 in c:\\users\\grace\\anaconda3\\lib\\site-packages (from typer<1.0,>=0.12->gradio) (8.0.4)\n",
      "Collecting shellingham>=1.3.0 (from typer<1.0,>=0.12->gradio)\n",
      "  Obtaining dependency information for shellingham>=1.3.0 from https://files.pythonhosted.org/packages/e0/f9/0595336914c5619e5f28a1fb793285925a8cd4b432c9da0a987836c7f822/shellingham-1.5.4-py2.py3-none-any.whl.metadata\n",
      "  Using cached shellingham-1.5.4-py2.py3-none-any.whl.metadata (3.5 kB)\n",
      "Requirement already satisfied: rich>=10.11.0 in c:\\users\\grace\\anaconda3\\lib\\site-packages (from typer<1.0,>=0.12->gradio) (13.3.5)\n",
      "Requirement already satisfied: colorama in c:\\users\\grace\\anaconda3\\lib\\site-packages (from click>=8.0.0->typer<1.0,>=0.12->gradio) (0.4.6)\n",
      "Requirement already satisfied: six>=1.5 in c:\\users\\grace\\anaconda3\\lib\\site-packages (from python-dateutil>=2.8.1->pandas<3.0,>=1.0->gradio) (1.16.0)\n",
      "Requirement already satisfied: markdown-it-py<3.0.0,>=2.2.0 in c:\\users\\grace\\anaconda3\\lib\\site-packages (from rich>=10.11.0->typer<1.0,>=0.12->gradio) (2.2.0)\n",
      "Requirement already satisfied: pygments<3.0.0,>=2.13.0 in c:\\users\\grace\\anaconda3\\lib\\site-packages (from rich>=10.11.0->typer<1.0,>=0.12->gradio) (2.15.1)\n",
      "Requirement already satisfied: charset-normalizer<4,>=2 in c:\\users\\grace\\anaconda3\\lib\\site-packages (from requests->huggingface-hub>=0.25.1->gradio) (2.0.4)\n",
      "Requirement already satisfied: urllib3<3,>=1.21.1 in c:\\users\\grace\\anaconda3\\lib\\site-packages (from requests->huggingface-hub>=0.25.1->gradio) (1.26.16)\n",
      "Requirement already satisfied: mdurl~=0.1 in c:\\users\\grace\\anaconda3\\lib\\site-packages (from markdown-it-py<3.0.0,>=2.2.0->rich>=10.11.0->typer<1.0,>=0.12->gradio) (0.1.0)\n",
      "Downloading gradio-5.5.0-py3-none-any.whl (56.7 MB)\n",
      "   ---------------------------------------- 0.0/56.7 MB ? eta -:--:--\n",
      "   ---------------------------------------- 0.0/56.7 MB 991.0 kB/s eta 0:00:58\n",
      "   ---------------------------------------- 0.0/56.7 MB 991.0 kB/s eta 0:00:58\n",
      "   ---------------------------------------- 0.1/56.7 MB 655.4 kB/s eta 0:01:27\n",
      "   ---------------------------------------- 0.2/56.7 MB 833.5 kB/s eta 0:01:08\n",
      "   ---------------------------------------- 0.2/56.7 MB 748.1 kB/s eta 0:01:16\n",
      "   ---------------------------------------- 0.3/56.7 MB 1.0 MB/s eta 0:00:57\n",
      "   ---------------------------------------- 0.3/56.7 MB 930.9 kB/s eta 0:01:01\n",
      "   ---------------------------------------- 0.4/56.7 MB 1.0 MB/s eta 0:00:56\n",
      "   ---------------------------------------- 0.5/56.7 MB 1.3 MB/s eta 0:00:44\n",
      "   ---------------------------------------- 0.6/56.7 MB 1.4 MB/s eta 0:00:41\n",
      "    --------------------------------------- 0.9/56.7 MB 1.8 MB/s eta 0:00:31\n",
      "    --------------------------------------- 1.3/56.7 MB 2.3 MB/s eta 0:00:25\n",
      "   - -------------------------------------- 1.8/56.7 MB 2.9 MB/s eta 0:00:19\n",
      "   - -------------------------------------- 2.2/56.7 MB 3.4 MB/s eta 0:00:17\n",
      "   -- ------------------------------------- 2.9/56.7 MB 4.0 MB/s eta 0:00:14\n",
      "   -- ------------------------------------- 3.5/56.7 MB 4.6 MB/s eta 0:00:12\n",
      "   -- ------------------------------------- 4.1/56.7 MB 5.1 MB/s eta 0:00:11\n",
      "   --- ------------------------------------ 4.6/56.7 MB 5.5 MB/s eta 0:00:10\n",
      "   --- ------------------------------------ 5.2/56.7 MB 5.9 MB/s eta 0:00:09\n",
      "   ---- ----------------------------------- 5.9/56.7 MB 6.3 MB/s eta 0:00:09\n",
      "   ---- ----------------------------------- 6.4/56.7 MB 6.5 MB/s eta 0:00:08\n",
      "   ---- ----------------------------------- 7.0/56.7 MB 6.8 MB/s eta 0:00:08\n",
      "   ----- ---------------------------------- 7.6/56.7 MB 7.0 MB/s eta 0:00:08\n",
      "   ----- ---------------------------------- 8.2/56.7 MB 7.3 MB/s eta 0:00:07\n",
      "   ------ --------------------------------- 8.7/56.7 MB 7.4 MB/s eta 0:00:07\n",
      "   ------ --------------------------------- 8.7/56.7 MB 7.4 MB/s eta 0:00:07\n",
      "   ------ --------------------------------- 8.7/56.7 MB 7.4 MB/s eta 0:00:07\n",
      "   ------ --------------------------------- 8.7/56.7 MB 7.4 MB/s eta 0:00:07\n",
      "   ------ --------------------------------- 8.7/56.7 MB 7.4 MB/s eta 0:00:07\n",
      "   ------ --------------------------------- 8.7/56.7 MB 7.4 MB/s eta 0:00:07\n",
      "   ------ --------------------------------- 8.7/56.7 MB 7.4 MB/s eta 0:00:07\n",
      "   ------ --------------------------------- 8.9/56.7 MB 5.9 MB/s eta 0:00:09\n",
      "   ------- -------------------------------- 10.1/56.7 MB 6.5 MB/s eta 0:00:08\n",
      "   -------- ------------------------------- 11.4/56.7 MB 10.1 MB/s eta 0:00:05\n",
      "   -------- ------------------------------- 11.8/56.7 MB 9.9 MB/s eta 0:00:05\n",
      "   ---------- ----------------------------- 15.3/56.7 MB 12.8 MB/s eta 0:00:04\n",
      "   ----------- ---------------------------- 16.0/56.7 MB 12.8 MB/s eta 0:00:04\n",
      "   ----------- ---------------------------- 16.4/56.7 MB 12.6 MB/s eta 0:00:04\n",
      "   ------------ --------------------------- 17.1/56.7 MB 12.6 MB/s eta 0:00:04\n",
      "   ------------ --------------------------- 17.7/56.7 MB 12.6 MB/s eta 0:00:04\n",
      "   ------------ --------------------------- 18.2/56.7 MB 12.8 MB/s eta 0:00:03\n",
      "   ------------- -------------------------- 18.9/56.7 MB 21.8 MB/s eta 0:00:02\n",
      "   ------------- -------------------------- 19.5/56.7 MB 20.5 MB/s eta 0:00:02\n",
      "   -------------- ------------------------- 20.2/56.7 MB 19.9 MB/s eta 0:00:02\n",
      "   -------------- ------------------------- 20.7/56.7 MB 19.3 MB/s eta 0:00:02\n",
      "   --------------- ------------------------ 21.3/56.7 MB 18.2 MB/s eta 0:00:02\n",
      "   --------------- ------------------------ 21.9/56.7 MB 17.7 MB/s eta 0:00:02\n",
      "   --------------- ------------------------ 22.5/56.7 MB 17.2 MB/s eta 0:00:02\n",
      "   ---------------- ----------------------- 23.2/56.7 MB 16.0 MB/s eta 0:00:03\n",
      "   ---------------- ----------------------- 23.8/56.7 MB 14.9 MB/s eta 0:00:03\n",
      "   ----------------- ---------------------- 24.4/56.7 MB 14.6 MB/s eta 0:00:03\n",
      "   ----------------- ---------------------- 24.9/56.7 MB 13.6 MB/s eta 0:00:03\n",
      "   ----------------- ---------------------- 25.5/56.7 MB 12.8 MB/s eta 0:00:03\n",
      "   ------------------ --------------------- 26.0/56.7 MB 12.9 MB/s eta 0:00:03\n",
      "   ------------------ --------------------- 26.6/56.7 MB 12.8 MB/s eta 0:00:03\n",
      "   ------------------- -------------------- 27.2/56.7 MB 12.8 MB/s eta 0:00:03\n",
      "   ------------------- -------------------- 27.8/56.7 MB 12.8 MB/s eta 0:00:03\n",
      "   -------------------- ------------------- 28.4/56.7 MB 12.8 MB/s eta 0:00:03\n",
      "   -------------------- ------------------- 29.0/56.7 MB 12.8 MB/s eta 0:00:03\n",
      "   -------------------- ------------------- 29.7/56.7 MB 12.8 MB/s eta 0:00:03\n",
      "   --------------------- ------------------ 30.3/56.7 MB 12.8 MB/s eta 0:00:03\n",
      "   --------------------- ------------------ 30.9/56.7 MB 12.9 MB/s eta 0:00:03\n",
      "   ---------------------- ----------------- 31.5/56.7 MB 12.8 MB/s eta 0:00:02\n",
      "   ---------------------- ----------------- 32.2/56.7 MB 13.1 MB/s eta 0:00:02\n",
      "   ----------------------- ---------------- 32.8/56.7 MB 13.1 MB/s eta 0:00:02\n",
      "   ----------------------- ---------------- 33.4/56.7 MB 13.1 MB/s eta 0:00:02\n",
      "   ------------------------ --------------- 34.1/56.7 MB 12.8 MB/s eta 0:00:02\n",
      "   ------------------------ --------------- 34.7/56.7 MB 13.1 MB/s eta 0:00:02\n",
      "   ------------------------ --------------- 35.3/56.7 MB 13.4 MB/s eta 0:00:02\n",
      "   ------------------------- -------------- 36.0/56.7 MB 13.4 MB/s eta 0:00:02\n",
      "   ------------------------- -------------- 36.5/56.7 MB 13.4 MB/s eta 0:00:02\n",
      "   -------------------------- ------------- 37.2/56.7 MB 13.4 MB/s eta 0:00:02\n",
      "   -------------------------- ------------- 37.8/56.7 MB 13.4 MB/s eta 0:00:02\n",
      "   --------------------------- ------------ 38.4/56.7 MB 13.4 MB/s eta 0:00:02\n",
      "   --------------------------- ------------ 39.0/56.7 MB 13.4 MB/s eta 0:00:02\n",
      "   --------------------------- ------------ 39.6/56.7 MB 13.4 MB/s eta 0:00:02\n",
      "   ---------------------------- ----------- 40.2/56.7 MB 13.4 MB/s eta 0:00:02\n",
      "   ---------------------------- ----------- 40.8/56.7 MB 13.1 MB/s eta 0:00:02\n",
      "   ----------------------------- ---------- 41.4/56.7 MB 13.1 MB/s eta 0:00:02\n",
      "   ----------------------------- ---------- 41.9/56.7 MB 13.1 MB/s eta 0:00:02\n",
      "   ------------------------------ --------- 42.6/56.7 MB 13.1 MB/s eta 0:00:02\n",
      "   ------------------------------ --------- 43.1/56.7 MB 13.1 MB/s eta 0:00:02\n",
      "   ------------------------------ --------- 43.7/56.7 MB 12.8 MB/s eta 0:00:02\n",
      "   ------------------------------- -------- 44.2/56.7 MB 12.8 MB/s eta 0:00:01\n",
      "   ------------------------------- -------- 44.8/56.7 MB 12.8 MB/s eta 0:00:01\n",
      "   -------------------------------- ------- 45.4/56.7 MB 12.9 MB/s eta 0:00:01\n",
      "   -------------------------------- ------- 46.0/56.7 MB 12.8 MB/s eta 0:00:01\n",
      "   -------------------------------- ------- 46.7/56.7 MB 12.8 MB/s eta 0:00:01\n",
      "   --------------------------------- ------ 47.3/56.7 MB 12.8 MB/s eta 0:00:01\n",
      "   --------------------------------- ------ 47.9/56.7 MB 12.6 MB/s eta 0:00:01\n",
      "   ---------------------------------- ----- 48.4/56.7 MB 12.6 MB/s eta 0:00:01\n",
      "   ---------------------------------- ----- 49.0/56.7 MB 12.6 MB/s eta 0:00:01\n",
      "   ---------------------------------- ----- 49.6/56.7 MB 12.6 MB/s eta 0:00:01\n",
      "   ----------------------------------- ---- 50.2/56.7 MB 12.6 MB/s eta 0:00:01\n",
      "   ----------------------------------- ---- 50.8/56.7 MB 12.6 MB/s eta 0:00:01\n",
      "   ------------------------------------ --- 51.3/56.7 MB 12.8 MB/s eta 0:00:01\n",
      "   ------------------------------------ --- 51.7/56.7 MB 12.4 MB/s eta 0:00:01\n",
      "   ------------------------------------ --- 52.3/56.7 MB 12.4 MB/s eta 0:00:01\n",
      "   ------------------------------------- -- 52.8/56.7 MB 12.1 MB/s eta 0:00:01\n",
      "   ------------------------------------- -- 53.4/56.7 MB 12.1 MB/s eta 0:00:01\n",
      "   -------------------------------------- - 53.9/56.7 MB 12.1 MB/s eta 0:00:01\n",
      "   -------------------------------------- - 54.5/56.7 MB 12.1 MB/s eta 0:00:01\n",
      "   -------------------------------------- - 55.1/56.7 MB 12.1 MB/s eta 0:00:01\n",
      "   ---------------------------------------  55.7/56.7 MB 12.1 MB/s eta 0:00:01\n",
      "   ---------------------------------------  56.2/56.7 MB 12.1 MB/s eta 0:00:01\n",
      "   ---------------------------------------  56.7/56.7 MB 12.1 MB/s eta 0:00:01\n",
      "   ---------------------------------------  56.7/56.7 MB 12.1 MB/s eta 0:00:01\n",
      "   ---------------------------------------  56.7/56.7 MB 12.1 MB/s eta 0:00:01\n",
      "   ---------------------------------------  56.7/56.7 MB 12.1 MB/s eta 0:00:01\n",
      "   ---------------------------------------  56.7/56.7 MB 12.1 MB/s eta 0:00:01\n",
      "   ---------------------------------------  56.7/56.7 MB 12.1 MB/s eta 0:00:01\n",
      "   ---------------------------------------  56.7/56.7 MB 12.1 MB/s eta 0:00:01\n",
      "   ---------------------------------------- 56.7/56.7 MB 8.3 MB/s eta 0:00:00\n",
      "Downloading gradio_client-1.4.2-py3-none-any.whl (319 kB)\n",
      "   ---------------------------------------- 0.0/319.8 kB ? eta -:--:--\n",
      "   --------------------------------------- 319.8/319.8 kB 19.3 MB/s eta 0:00:00\n",
      "Downloading python_multipart-0.0.12-py3-none-any.whl (23 kB)\n",
      "Downloading tomlkit-0.12.0-py3-none-any.whl (37 kB)\n",
      "Using cached fastapi-0.115.4-py3-none-any.whl (94 kB)\n",
      "Using cached huggingface_hub-0.26.2-py3-none-any.whl (447 kB)\n",
      "Downloading ruff-0.7.2-py3-none-win_amd64.whl (9.4 MB)\n",
      "   ---------------------------------------- 0.0/9.4 MB ? eta -:--:--\n",
      "   - -------------------------------------- 0.5/9.4 MB 14.9 MB/s eta 0:00:01\n",
      "   ---- ----------------------------------- 1.1/9.4 MB 11.1 MB/s eta 0:00:01\n",
      "   ------ --------------------------------- 1.6/9.4 MB 11.3 MB/s eta 0:00:01\n",
      "   --------- ------------------------------ 2.1/9.4 MB 12.4 MB/s eta 0:00:01\n",
      "   ----------- ---------------------------- 2.8/9.4 MB 12.5 MB/s eta 0:00:01\n",
      "   ------------- -------------------------- 3.3/9.4 MB 12.2 MB/s eta 0:00:01\n",
      "   ---------------- ----------------------- 3.9/9.4 MB 12.3 MB/s eta 0:00:01\n",
      "   ---------------- ----------------------- 3.9/9.4 MB 12.3 MB/s eta 0:00:01\n",
      "   ---------------- ----------------------- 3.9/9.4 MB 12.3 MB/s eta 0:00:01\n",
      "   ---------------- ----------------------- 3.9/9.4 MB 12.3 MB/s eta 0:00:01\n",
      "   ---------------- ----------------------- 3.9/9.4 MB 12.3 MB/s eta 0:00:01\n",
      "   ---------------- ----------------------- 3.9/9.4 MB 12.3 MB/s eta 0:00:01\n",
      "   ---------------- ----------------------- 3.9/9.4 MB 12.3 MB/s eta 0:00:01\n",
      "   ----------------------- ---------------- 5.6/9.4 MB 8.7 MB/s eta 0:00:01\n",
      "   ------------------------------------- -- 8.8/9.4 MB 12.8 MB/s eta 0:00:01\n",
      "   ---------------------------------------  9.4/9.4 MB 12.8 MB/s eta 0:00:01\n",
      "   ---------------------------------------  9.4/9.4 MB 12.8 MB/s eta 0:00:01\n",
      "   ---------------------------------------- 9.4/9.4 MB 11.8 MB/s eta 0:00:00\n",
      "Downloading safehttpx-0.1.1-py3-none-any.whl (8.4 kB)\n",
      "Downloading semantic_version-2.10.0-py2.py3-none-any.whl (15 kB)\n",
      "Using cached starlette-0.41.2-py3-none-any.whl (73 kB)\n",
      "Using cached typer-0.12.5-py3-none-any.whl (47 kB)\n",
      "Using cached uvicorn-0.32.0-py3-none-any.whl (63 kB)\n",
      "Downloading ffmpy-0.4.0-py3-none-any.whl (5.8 kB)\n",
      "Downloading pydub-0.25.1-py2.py3-none-any.whl (32 kB)\n",
      "Using cached fsspec-2024.10.0-py3-none-any.whl (179 kB)\n",
      "Using cached shellingham-1.5.4-py2.py3-none-any.whl (9.8 kB)\n",
      "Downloading websockets-12.0-cp311-cp311-win_amd64.whl (124 kB)\n",
      "   ---------------------------------------- 0.0/125.0 kB ? eta -:--:--\n",
      "   ---------------------------------------- 125.0/125.0 kB 7.2 MB/s eta 0:00:00\n",
      "Installing collected packages: pydub, websockets, tomlkit, shellingham, semantic-version, ruff, python-multipart, fsspec, ffmpy, uvicorn, starlette, huggingface-hub, typer, safehttpx, gradio-client, fastapi, gradio\n",
      "  Attempting uninstall: tomlkit\n",
      "    Found existing installation: tomlkit 0.11.1\n",
      "    Uninstalling tomlkit-0.11.1:\n",
      "      Successfully uninstalled tomlkit-0.11.1\n",
      "  Attempting uninstall: fsspec\n",
      "    Found existing installation: fsspec 2023.3.0\n",
      "    Uninstalling fsspec-2023.3.0:\n",
      "      Successfully uninstalled fsspec-2023.3.0\n",
      "Successfully installed fastapi-0.115.4 ffmpy-0.4.0 fsspec-2024.10.0 gradio-5.5.0 gradio-client-1.4.2 huggingface-hub-0.26.2 pydub-0.25.1 python-multipart-0.0.12 ruff-0.7.2 safehttpx-0.1.1 semantic-version-2.10.0 shellingham-1.5.4 starlette-0.41.2 tomlkit-0.12.0 typer-0.12.5 uvicorn-0.32.0 websockets-12.0\n"
     ]
    },
    {
     "name": "stderr",
     "output_type": "stream",
     "text": [
      "ERROR: pip's dependency resolver does not currently take into account all the packages that are installed. This behaviour is the source of the following dependency conflicts.\n",
      "s3fs 2023.3.0 requires fsspec==2023.3.0, but you have fsspec 2024.10.0 which is incompatible.\n"
     ]
    }
   ],
   "source": [
    "!pip install gradio\n"
   ]
  },
  {
   "cell_type": "code",
   "execution_count": 27,
   "metadata": {
    "id": "UkxQ2b0qXlhh"
   },
   "outputs": [],
   "source": []
  }
 ],
 "metadata": {
  "accelerator": "GPU",
  "colab": {
   "gpuType": "T4",
   "provenance": []
  },
  "kernelspec": {
   "display_name": "Python 3 (ipykernel)",
   "language": "python",
   "name": "python3"
  },
  "language_info": {
   "codemirror_mode": {
    "name": "ipython",
    "version": 3
   },
   "file_extension": ".py",
   "mimetype": "text/x-python",
   "name": "python",
   "nbconvert_exporter": "python",
   "pygments_lexer": "ipython3",
   "version": "3.11.4"
  }
 },
 "nbformat": 4,
 "nbformat_minor": 1
}
